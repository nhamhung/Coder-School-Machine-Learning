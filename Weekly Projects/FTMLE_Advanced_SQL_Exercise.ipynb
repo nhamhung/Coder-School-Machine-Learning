{
  "nbformat": 4,
  "nbformat_minor": 0,
  "metadata": {
    "colab": {
      "name": "FTMLE_Advanced SQL_Exercise.ipynb",
      "provenance": [],
      "collapsed_sections": [],
      "include_colab_link": true
    },
    "kernelspec": {
      "display_name": "Python 3",
      "language": "python",
      "name": "python3"
    },
    "language_info": {
      "codemirror_mode": {
        "name": "ipython",
        "version": 3
      },
      "file_extension": ".py",
      "mimetype": "text/x-python",
      "name": "python",
      "nbconvert_exporter": "python",
      "pygments_lexer": "ipython3",
      "version": "3.6.5"
    }
  },
  "cells": [
    {
      "cell_type": "markdown",
      "metadata": {
        "id": "view-in-github",
        "colab_type": "text"
      },
      "source": [
        "<a href=\"https://colab.research.google.com/github/nhamhung/Coder-School-Machine-Learning/blob/master/FTMLE_Advanced_SQL_Exercise.ipynb\" target=\"_parent\"><img src=\"https://colab.research.google.com/assets/colab-badge.svg\" alt=\"Open In Colab\"/></a>"
      ]
    },
    {
      "cell_type": "markdown",
      "metadata": {
        "colab_type": "text",
        "id": "ljiunBcKlJSQ"
      },
      "source": [
        "![](https://i.imgur.com/0AUxkXt.png)"
      ]
    },
    {
      "cell_type": "markdown",
      "metadata": {
        "colab_type": "text",
        "id": "PgjLTSR7lEqz"
      },
      "source": [
        "# MLE - Advanced SQL"
      ]
    },
    {
      "cell_type": "markdown",
      "metadata": {
        "colab_type": "text",
        "id": "UFhsNsY2J1jz"
      },
      "source": [
        "### Connect to the database\n",
        "\n",
        "![](https://raw.githubusercontent.com/jpwhite3/northwind-SQLite3/master/Northwind_ERD.png)"
      ]
    },
    {
      "cell_type": "markdown",
      "metadata": {
        "colab_type": "text",
        "id": "2tI-PoQZMKax"
      },
      "source": [
        "**Run those cells below**"
      ]
    },
    {
      "cell_type": "code",
      "metadata": {
        "id": "PpsJWk4R7RN7",
        "colab_type": "code",
        "colab": {}
      },
      "source": [
        "from google.colab import drive\n",
        "drive.mount('/content/gdrive/')"
      ],
      "execution_count": 0,
      "outputs": []
    },
    {
      "cell_type": "code",
      "metadata": {
        "colab_type": "code",
        "id": "NUcv2WLJKEkY",
        "colab": {}
      },
      "source": [
        "import sqlite3\n",
        "import pandas as pd\n",
        "\n",
        "# Replace the path below with yours\n",
        "conn = sqlite3.connect('gdrive/My Drive/Student Files/FTMLE - Philippines/Data/Northwind_small.sqlite')"
      ],
      "execution_count": 0,
      "outputs": []
    },
    {
      "cell_type": "code",
      "metadata": {
        "id": "lAf0lDLtsDp7",
        "colab_type": "code",
        "colab": {}
      },
      "source": [
        "# Show all tables in the database\n",
        "pd.read_sql_query(\"SELECT * FROM sqlite_master WHERE type = 'table'\", conn)"
      ],
      "execution_count": 0,
      "outputs": []
    },
    {
      "cell_type": "markdown",
      "metadata": {
        "id": "INZEIoRwWFos",
        "colab_type": "text"
      },
      "source": [
        "## Exercises"
      ]
    },
    {
      "cell_type": "markdown",
      "metadata": {
        "id": "nD_kFsdZSmtu",
        "colab_type": "text"
      },
      "source": [
        "### 1. Query all employees in the same department as Janet\n",
        "Note: Your query cannot contain \"Sales Representative\"\n",
        "\n",
        "__Expected Output__\n",
        "![Expected Answer](https://i.imgur.com/QbMyadp.png)"
      ]
    },
    {
      "cell_type": "code",
      "metadata": {
        "id": "6peoNg8-yNIF",
        "colab_type": "code",
        "colab": {}
      },
      "source": [
        "# Query all employees in the same department as Janet\n",
        "# Note: Your query cannot contain \"Sales Representative\"\n",
        "\n",
        "query = '''\n",
        "Select \n",
        "\n",
        "\n",
        "'''\n",
        "\n",
        "pd.read_sql_query(query, conn)"
      ],
      "execution_count": 0,
      "outputs": []
    },
    {
      "cell_type": "markdown",
      "metadata": {
        "id": "lBleHroD9dnK",
        "colab_type": "text"
      },
      "source": [
        "### 2a. Without using DISTINCT, query countries that have customers but no suppliers\n",
        "__Expected Output__\n",
        "\n",
        "![Expected Answer](https://imgur.com/sdUKDYz.png)\n"
      ]
    },
    {
      "cell_type": "code",
      "metadata": {
        "id": "Veq79syuZ0sg",
        "colab_type": "code",
        "colab": {}
      },
      "source": [
        "# Without using DISTINCT, query countries that have customers but no suppliers\n",
        "query = '''\n",
        "\n",
        "'''\n",
        "\n",
        "pd.read_sql_query(query, conn)"
      ],
      "execution_count": 0,
      "outputs": []
    },
    {
      "cell_type": "markdown",
      "metadata": {
        "id": "ZXAWOni_91zF",
        "colab_type": "text"
      },
      "source": [
        "### 2b. Similar to Question 2a but now use DISTINCT"
      ]
    },
    {
      "cell_type": "code",
      "metadata": {
        "id": "Z87hZxhq-AbW",
        "colab_type": "code",
        "colab": {}
      },
      "source": [
        "# Without using DISTINCT, query countries that have customers but no suppliers\n",
        "query = '''\n",
        "\n",
        "'''\n",
        "\n",
        "pd.read_sql_query(query, conn)"
      ],
      "execution_count": 0,
      "outputs": []
    },
    {
      "cell_type": "markdown",
      "metadata": {
        "id": "7jQE-CvCFlNQ",
        "colab_type": "text"
      },
      "source": [
        "### 3. Query top 5 most potential customers in North America and top 5 most potential customers in South America\n",
        "Note: Potential customers are evaluated based on the total revenue earned.\n",
        "\n",
        "__Expected Output__\n",
        "\n",
        "![Expected Answer](https://i.imgur.com/ctNWmXu.png)"
      ]
    },
    {
      "cell_type": "code",
      "metadata": {
        "id": "wVlz1afTufNf",
        "colab_type": "code",
        "colab": {}
      },
      "source": [
        "# Query top 5 most potential customers in North America and top 5 most potential customers in South America\n",
        "query = '''\n",
        "\n",
        "'''\n",
        "\n",
        "pd.read_sql_query(query, conn)"
      ],
      "execution_count": 0,
      "outputs": []
    },
    {
      "cell_type": "markdown",
      "metadata": {
        "id": "_wNvhrMskRS_",
        "colab_type": "text"
      },
      "source": [
        "### 4. Query the number of products in each Popularity group\n",
        "__Rules:__\n",
        "- Products with more than 400 items sold are \"Regular\" products\n",
        "- Products with more than 800 items sold are \"Popular\" products\n",
        "- Product with less than 400 items sold are \"Unpopular\" products\n",
        "\n",
        "__Expected Output__\n",
        "\n",
        "![](https://i.imgur.com/OhmmmAt.png)"
      ]
    },
    {
      "cell_type": "code",
      "metadata": {
        "id": "SyFDL8te2IJo",
        "colab_type": "code",
        "colab": {}
      },
      "source": [
        "# Query the number of products in each Popularity group\n",
        "\n",
        "query = '''\n",
        "\n",
        "'''\n",
        "\n",
        "pd.read_sql_query(query, conn)"
      ],
      "execution_count": 0,
      "outputs": []
    },
    {
      "cell_type": "markdown",
      "metadata": {
        "id": "UqzJgy3PD4AD",
        "colab_type": "text"
      },
      "source": [
        "### 5. Query the contact list of Customer and Supplier by City\n",
        "\n",
        "__Expected Output__\n",
        "\n",
        "![](https://imgur.com/4aJ4kBw.png)"
      ]
    },
    {
      "cell_type": "code",
      "metadata": {
        "id": "y2ulKeTkDFp3",
        "colab_type": "code",
        "colab": {}
      },
      "source": [
        "# Query the contact list of Customers and Suppliers by City\n",
        "# Sort the City column alphabetically\n",
        "\n",
        "query = '''\n",
        "\n",
        "'''\n",
        "\n",
        "pd.read_sql_query(query, conn)\n"
      ],
      "execution_count": 0,
      "outputs": []
    },
    {
      "cell_type": "markdown",
      "metadata": {
        "id": "Jw9GiPuGoOQ9",
        "colab_type": "text"
      },
      "source": [
        "### 6. Query the Median UnitPrice of all Beverages products\n",
        "\n",
        "__Expected Output__: `18`\n",
        "\n",
        "Read more on how to calculate Median in SQL [HERE](https://stackoverflow.com/questions/54399936/ceil-and-floor-in-sqlite/54399937)."
      ]
    },
    {
      "cell_type": "code",
      "metadata": {
        "id": "qZoWjy1nGN2t",
        "colab_type": "code",
        "colab": {}
      },
      "source": [
        "# Query the median UnitPrice of all Beverages products\n",
        "\n",
        "query = '''\n",
        "\n",
        "'''\n",
        "\n",
        "pd.read_sql_query(query, conn)\n"
      ],
      "execution_count": 0,
      "outputs": []
    },
    {
      "cell_type": "markdown",
      "metadata": {
        "id": "Y1C2FTaQ8Q-i",
        "colab_type": "text"
      },
      "source": [
        "### 7. Query the Mean Unit Price of products in the following three Region Groups\n",
        "- Group A: North America & South America\n",
        "- Group B: Other Regions\n",
        "- Worldwide\n",
        "\n",
        "__Expected Output__\n",
        "\n",
        "![](https://i.imgur.com/9WlvRyb.png)\n"
      ]
    },
    {
      "cell_type": "code",
      "metadata": {
        "id": "deNfOguGpi1V",
        "colab_type": "code",
        "colab": {}
      },
      "source": [
        "# Query the Mean Unit Price of products in three Region Groups\n",
        "\n",
        "query = '''\n",
        "\n",
        "'''\n",
        "\n",
        "pd.read_sql_query(query, conn)\n"
      ],
      "execution_count": 0,
      "outputs": []
    },
    {
      "cell_type": "markdown",
      "metadata": {
        "id": "nSOP0XhgFmHo",
        "colab_type": "text"
      },
      "source": [
        "### 7. Query the Variance of Order Value\n",
        "Notes:\n",
        "\n",
        "- Order value = UnitPrice * Quantity \n",
        "- Orders with multiple products should be aggregated i.e. OrderId must be unique\n",
        "\n",
        "Hints: You can have more than one table for the FROM clause.\n",
        "\n",
        "__Expected Output__: `3.957770e+06`\n",
        "\n"
      ]
    },
    {
      "cell_type": "code",
      "metadata": {
        "id": "EAwIWfXMATUs",
        "colab_type": "code",
        "colab": {}
      },
      "source": [
        "# Query the Variance of Order Value\n",
        "\n",
        "query = '''\n",
        "\n",
        "'''\n",
        "\n",
        "pd.read_sql_query(query, conn)\n"
      ],
      "execution_count": 0,
      "outputs": []
    }
  ]
}