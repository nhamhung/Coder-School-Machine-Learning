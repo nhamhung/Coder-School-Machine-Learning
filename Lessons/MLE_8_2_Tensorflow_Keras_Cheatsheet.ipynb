{
  "nbformat": 4,
  "nbformat_minor": 0,
  "metadata": {
    "colab": {
      "name": "MLE_8_2_Tensorflow_Keras_Cheatsheet.ipynb",
      "provenance": [],
      "collapsed_sections": [
        "13UOlrcOvkdY",
        "NIedJFZ2oAE-",
        "MLmgir1BKZ1j",
        "JpJV3oAryhrV",
        "qHDqVLzGp3cW",
        "nhwDjGkn2qy3",
        "j08mZ84H6g0A",
        "japfi2kRBXhG",
        "Gdbm-0iaQTXQ",
        "WDKa_ND9Zywx",
        "QBYk0q2gd5_N",
        "JQFJWCl1arNG",
        "70_K4itJeDLt",
        "molZXFzhiyFb",
        "fL7H1D9yeuYm",
        "bvvwwDXlfnWc",
        "XQViolOkfHUu",
        "-uJ6WxvYRcNY",
        "UQO233hjxUdF",
        "Rj2mpHZW782N",
        "cuZnqf-T1ace",
        "yd6IJxU5mYp6",
        "4-zQobK-xofw",
        "-L-k4MSEzVId",
        "Dbuhxmtq38HS",
        "fxoQ9pEh0rFD",
        "cilqgJff7Djy",
        "8nOEF1MN7DzQ",
        "7IGRmZLX7mfR",
        "yZPbTtnf6o8U",
        "KO5P4_r77iap",
        "zr9nLcoB7ihs",
        "e-V3ZwEq7ipo",
        "vr_jkw736pHi",
        "UA7mMMVoRwcL",
        "6q-tx71TTIQY"
      ],
      "toc_visible": true,
      "include_colab_link": true
    },
    "kernelspec": {
      "display_name": "Python 3",
      "language": "python",
      "name": "python3"
    },
    "language_info": {
      "codemirror_mode": {
        "name": "ipython",
        "version": 3
      },
      "file_extension": ".py",
      "mimetype": "text/x-python",
      "name": "python",
      "nbconvert_exporter": "python",
      "pygments_lexer": "ipython3",
      "version": "3.7.3"
    },
    "widgets": {
      "application/vnd.jupyter.widget-state+json": {
        "7bdfb47082094ca29025e864ac3fa90b": {
          "model_module": "@jupyter-widgets/controls",
          "model_name": "HBoxModel",
          "state": {
            "_view_name": "HBoxView",
            "_dom_classes": [],
            "_model_name": "HBoxModel",
            "_view_module": "@jupyter-widgets/controls",
            "_model_module_version": "1.5.0",
            "_view_count": null,
            "_view_module_version": "1.5.0",
            "box_style": "",
            "layout": "IPY_MODEL_fedf637fd3b84bcaacad3f1fb02d1bf4",
            "_model_module": "@jupyter-widgets/controls",
            "children": [
              "IPY_MODEL_eaa36d51199846289e9dbdd95179d3db",
              "IPY_MODEL_981aca58c7594efe889528abfc213bad"
            ]
          }
        },
        "fedf637fd3b84bcaacad3f1fb02d1bf4": {
          "model_module": "@jupyter-widgets/base",
          "model_name": "LayoutModel",
          "state": {
            "_view_name": "LayoutView",
            "grid_template_rows": null,
            "right": null,
            "justify_content": null,
            "_view_module": "@jupyter-widgets/base",
            "overflow": null,
            "_model_module_version": "1.2.0",
            "_view_count": null,
            "flex_flow": null,
            "width": null,
            "min_width": null,
            "border": null,
            "align_items": null,
            "bottom": null,
            "_model_module": "@jupyter-widgets/base",
            "top": null,
            "grid_column": null,
            "overflow_y": null,
            "overflow_x": null,
            "grid_auto_flow": null,
            "grid_area": null,
            "grid_template_columns": null,
            "flex": null,
            "_model_name": "LayoutModel",
            "justify_items": null,
            "grid_row": null,
            "max_height": null,
            "align_content": null,
            "visibility": null,
            "align_self": null,
            "height": null,
            "min_height": null,
            "padding": null,
            "grid_auto_rows": null,
            "grid_gap": null,
            "max_width": null,
            "order": null,
            "_view_module_version": "1.2.0",
            "grid_template_areas": null,
            "object_position": null,
            "object_fit": null,
            "grid_auto_columns": null,
            "margin": null,
            "display": null,
            "left": null
          }
        },
        "eaa36d51199846289e9dbdd95179d3db": {
          "model_module": "@jupyter-widgets/controls",
          "model_name": "FloatProgressModel",
          "state": {
            "_view_name": "ProgressView",
            "style": "IPY_MODEL_15c9d1ac96af4464b7ca3e3ddc353417",
            "_dom_classes": [],
            "description": "Dl Completed...: 100%",
            "_model_name": "FloatProgressModel",
            "bar_style": "success",
            "max": 4,
            "_view_module": "@jupyter-widgets/controls",
            "_model_module_version": "1.5.0",
            "value": 4,
            "_view_count": null,
            "_view_module_version": "1.5.0",
            "orientation": "horizontal",
            "min": 0,
            "description_tooltip": null,
            "_model_module": "@jupyter-widgets/controls",
            "layout": "IPY_MODEL_0ad1182cf9a04dcb9fd5a6b856fe0e64"
          }
        },
        "981aca58c7594efe889528abfc213bad": {
          "model_module": "@jupyter-widgets/controls",
          "model_name": "HTMLModel",
          "state": {
            "_view_name": "HTMLView",
            "style": "IPY_MODEL_c03308b3ab2c4acd9478e4bd34e9e5a4",
            "_dom_classes": [],
            "description": "",
            "_model_name": "HTMLModel",
            "placeholder": "​",
            "_view_module": "@jupyter-widgets/controls",
            "_model_module_version": "1.5.0",
            "value": " 4/4 [00:00&lt;00:00,  6.34 file/s]",
            "_view_count": null,
            "_view_module_version": "1.5.0",
            "description_tooltip": null,
            "_model_module": "@jupyter-widgets/controls",
            "layout": "IPY_MODEL_530482f590c242cd9e6ca1d3c4774664"
          }
        },
        "15c9d1ac96af4464b7ca3e3ddc353417": {
          "model_module": "@jupyter-widgets/controls",
          "model_name": "ProgressStyleModel",
          "state": {
            "_view_name": "StyleView",
            "_model_name": "ProgressStyleModel",
            "description_width": "initial",
            "_view_module": "@jupyter-widgets/base",
            "_model_module_version": "1.5.0",
            "_view_count": null,
            "_view_module_version": "1.2.0",
            "bar_color": null,
            "_model_module": "@jupyter-widgets/controls"
          }
        },
        "0ad1182cf9a04dcb9fd5a6b856fe0e64": {
          "model_module": "@jupyter-widgets/base",
          "model_name": "LayoutModel",
          "state": {
            "_view_name": "LayoutView",
            "grid_template_rows": null,
            "right": null,
            "justify_content": null,
            "_view_module": "@jupyter-widgets/base",
            "overflow": null,
            "_model_module_version": "1.2.0",
            "_view_count": null,
            "flex_flow": null,
            "width": null,
            "min_width": null,
            "border": null,
            "align_items": null,
            "bottom": null,
            "_model_module": "@jupyter-widgets/base",
            "top": null,
            "grid_column": null,
            "overflow_y": null,
            "overflow_x": null,
            "grid_auto_flow": null,
            "grid_area": null,
            "grid_template_columns": null,
            "flex": null,
            "_model_name": "LayoutModel",
            "justify_items": null,
            "grid_row": null,
            "max_height": null,
            "align_content": null,
            "visibility": null,
            "align_self": null,
            "height": null,
            "min_height": null,
            "padding": null,
            "grid_auto_rows": null,
            "grid_gap": null,
            "max_width": null,
            "order": null,
            "_view_module_version": "1.2.0",
            "grid_template_areas": null,
            "object_position": null,
            "object_fit": null,
            "grid_auto_columns": null,
            "margin": null,
            "display": null,
            "left": null
          }
        },
        "c03308b3ab2c4acd9478e4bd34e9e5a4": {
          "model_module": "@jupyter-widgets/controls",
          "model_name": "DescriptionStyleModel",
          "state": {
            "_view_name": "StyleView",
            "_model_name": "DescriptionStyleModel",
            "description_width": "",
            "_view_module": "@jupyter-widgets/base",
            "_model_module_version": "1.5.0",
            "_view_count": null,
            "_view_module_version": "1.2.0",
            "_model_module": "@jupyter-widgets/controls"
          }
        },
        "530482f590c242cd9e6ca1d3c4774664": {
          "model_module": "@jupyter-widgets/base",
          "model_name": "LayoutModel",
          "state": {
            "_view_name": "LayoutView",
            "grid_template_rows": null,
            "right": null,
            "justify_content": null,
            "_view_module": "@jupyter-widgets/base",
            "overflow": null,
            "_model_module_version": "1.2.0",
            "_view_count": null,
            "flex_flow": null,
            "width": null,
            "min_width": null,
            "border": null,
            "align_items": null,
            "bottom": null,
            "_model_module": "@jupyter-widgets/base",
            "top": null,
            "grid_column": null,
            "overflow_y": null,
            "overflow_x": null,
            "grid_auto_flow": null,
            "grid_area": null,
            "grid_template_columns": null,
            "flex": null,
            "_model_name": "LayoutModel",
            "justify_items": null,
            "grid_row": null,
            "max_height": null,
            "align_content": null,
            "visibility": null,
            "align_self": null,
            "height": null,
            "min_height": null,
            "padding": null,
            "grid_auto_rows": null,
            "grid_gap": null,
            "max_width": null,
            "order": null,
            "_view_module_version": "1.2.0",
            "grid_template_areas": null,
            "object_position": null,
            "object_fit": null,
            "grid_auto_columns": null,
            "margin": null,
            "display": null,
            "left": null
          }
        },
        "98ca440622f140d194de64a3fddf519d": {
          "model_module": "@jupyter-widgets/controls",
          "model_name": "HBoxModel",
          "state": {
            "_view_name": "HBoxView",
            "_dom_classes": [],
            "_model_name": "HBoxModel",
            "_view_module": "@jupyter-widgets/controls",
            "_model_module_version": "1.5.0",
            "_view_count": null,
            "_view_module_version": "1.5.0",
            "box_style": "",
            "layout": "IPY_MODEL_f64f108576a94c3bb537d253d5552655",
            "_model_module": "@jupyter-widgets/controls",
            "children": [
              "IPY_MODEL_cfaedc7021eb461984037510f4a87a56",
              "IPY_MODEL_31fae62eb3d04c2a9cdac613fcdc5195"
            ]
          }
        },
        "f64f108576a94c3bb537d253d5552655": {
          "model_module": "@jupyter-widgets/base",
          "model_name": "LayoutModel",
          "state": {
            "_view_name": "LayoutView",
            "grid_template_rows": null,
            "right": null,
            "justify_content": null,
            "_view_module": "@jupyter-widgets/base",
            "overflow": null,
            "_model_module_version": "1.2.0",
            "_view_count": null,
            "flex_flow": null,
            "width": null,
            "min_width": null,
            "border": null,
            "align_items": null,
            "bottom": null,
            "_model_module": "@jupyter-widgets/base",
            "top": null,
            "grid_column": null,
            "overflow_y": null,
            "overflow_x": null,
            "grid_auto_flow": null,
            "grid_area": null,
            "grid_template_columns": null,
            "flex": null,
            "_model_name": "LayoutModel",
            "justify_items": null,
            "grid_row": null,
            "max_height": null,
            "align_content": null,
            "visibility": null,
            "align_self": null,
            "height": null,
            "min_height": null,
            "padding": null,
            "grid_auto_rows": null,
            "grid_gap": null,
            "max_width": null,
            "order": null,
            "_view_module_version": "1.2.0",
            "grid_template_areas": null,
            "object_position": null,
            "object_fit": null,
            "grid_auto_columns": null,
            "margin": null,
            "display": null,
            "left": null
          }
        },
        "cfaedc7021eb461984037510f4a87a56": {
          "model_module": "@jupyter-widgets/controls",
          "model_name": "IntProgressModel",
          "state": {
            "_view_name": "ProgressView",
            "style": "IPY_MODEL_b141fe0fb24a454089ce95c2834fbfa7",
            "_dom_classes": [],
            "description": "Dl Completed...: 100%",
            "_model_name": "IntProgressModel",
            "bar_style": "success",
            "max": 4,
            "_view_module": "@jupyter-widgets/controls",
            "_model_module_version": "1.5.0",
            "value": 4,
            "_view_count": null,
            "_view_module_version": "1.5.0",
            "orientation": "horizontal",
            "min": 0,
            "description_tooltip": null,
            "_model_module": "@jupyter-widgets/controls",
            "layout": "IPY_MODEL_ebecd0cc25174a10a1fdec1684c5078b"
          }
        },
        "31fae62eb3d04c2a9cdac613fcdc5195": {
          "model_module": "@jupyter-widgets/controls",
          "model_name": "HTMLModel",
          "state": {
            "_view_name": "HTMLView",
            "style": "IPY_MODEL_e9f3ceca166a417693661a09e51ee01d",
            "_dom_classes": [],
            "description": "",
            "_model_name": "HTMLModel",
            "placeholder": "​",
            "_view_module": "@jupyter-widgets/controls",
            "_model_module_version": "1.5.0",
            "value": " 4/4 [00:08&lt;00:00,  2.23s/ file]",
            "_view_count": null,
            "_view_module_version": "1.5.0",
            "description_tooltip": null,
            "_model_module": "@jupyter-widgets/controls",
            "layout": "IPY_MODEL_f9461b7b4c354a8c9beb105049a3d07a"
          }
        },
        "b141fe0fb24a454089ce95c2834fbfa7": {
          "model_module": "@jupyter-widgets/controls",
          "model_name": "ProgressStyleModel",
          "state": {
            "_view_name": "StyleView",
            "_model_name": "ProgressStyleModel",
            "description_width": "initial",
            "_view_module": "@jupyter-widgets/base",
            "_model_module_version": "1.5.0",
            "_view_count": null,
            "_view_module_version": "1.2.0",
            "bar_color": null,
            "_model_module": "@jupyter-widgets/controls"
          }
        },
        "ebecd0cc25174a10a1fdec1684c5078b": {
          "model_module": "@jupyter-widgets/base",
          "model_name": "LayoutModel",
          "state": {
            "_view_name": "LayoutView",
            "grid_template_rows": null,
            "right": null,
            "justify_content": null,
            "_view_module": "@jupyter-widgets/base",
            "overflow": null,
            "_model_module_version": "1.2.0",
            "_view_count": null,
            "flex_flow": null,
            "width": null,
            "min_width": null,
            "border": null,
            "align_items": null,
            "bottom": null,
            "_model_module": "@jupyter-widgets/base",
            "top": null,
            "grid_column": null,
            "overflow_y": null,
            "overflow_x": null,
            "grid_auto_flow": null,
            "grid_area": null,
            "grid_template_columns": null,
            "flex": null,
            "_model_name": "LayoutModel",
            "justify_items": null,
            "grid_row": null,
            "max_height": null,
            "align_content": null,
            "visibility": null,
            "align_self": null,
            "height": null,
            "min_height": null,
            "padding": null,
            "grid_auto_rows": null,
            "grid_gap": null,
            "max_width": null,
            "order": null,
            "_view_module_version": "1.2.0",
            "grid_template_areas": null,
            "object_position": null,
            "object_fit": null,
            "grid_auto_columns": null,
            "margin": null,
            "display": null,
            "left": null
          }
        },
        "e9f3ceca166a417693661a09e51ee01d": {
          "model_module": "@jupyter-widgets/controls",
          "model_name": "DescriptionStyleModel",
          "state": {
            "_view_name": "StyleView",
            "_model_name": "DescriptionStyleModel",
            "description_width": "",
            "_view_module": "@jupyter-widgets/base",
            "_model_module_version": "1.5.0",
            "_view_count": null,
            "_view_module_version": "1.2.0",
            "_model_module": "@jupyter-widgets/controls"
          }
        },
        "f9461b7b4c354a8c9beb105049a3d07a": {
          "model_module": "@jupyter-widgets/base",
          "model_name": "LayoutModel",
          "state": {
            "_view_name": "LayoutView",
            "grid_template_rows": null,
            "right": null,
            "justify_content": null,
            "_view_module": "@jupyter-widgets/base",
            "overflow": null,
            "_model_module_version": "1.2.0",
            "_view_count": null,
            "flex_flow": null,
            "width": null,
            "min_width": null,
            "border": null,
            "align_items": null,
            "bottom": null,
            "_model_module": "@jupyter-widgets/base",
            "top": null,
            "grid_column": null,
            "overflow_y": null,
            "overflow_x": null,
            "grid_auto_flow": null,
            "grid_area": null,
            "grid_template_columns": null,
            "flex": null,
            "_model_name": "LayoutModel",
            "justify_items": null,
            "grid_row": null,
            "max_height": null,
            "align_content": null,
            "visibility": null,
            "align_self": null,
            "height": null,
            "min_height": null,
            "padding": null,
            "grid_auto_rows": null,
            "grid_gap": null,
            "max_width": null,
            "order": null,
            "_view_module_version": "1.2.0",
            "grid_template_areas": null,
            "object_position": null,
            "object_fit": null,
            "grid_auto_columns": null,
            "margin": null,
            "display": null,
            "left": null
          }
        }
      }
    }
  },
  "cells": [
    {
      "cell_type": "markdown",
      "metadata": {
        "id": "view-in-github",
        "colab_type": "text"
      },
      "source": [
        "<a href=\"https://colab.research.google.com/github/nhamhung/Coder-School-Machine-Learning/blob/master/MLE_8_2_Tensorflow_Keras_Cheatsheet.ipynb\" target=\"_parent\"><img src=\"https://colab.research.google.com/assets/colab-badge.svg\" alt=\"Open In Colab\"/></a>"
      ]
    },
    {
      "cell_type": "markdown",
      "metadata": {
        "colab_type": "text",
        "id": "13UOlrcOvkdY"
      },
      "source": [
        "# TensorFlow Tool Guide\n",
        "\n",
        "&nbsp;&nbsp;&nbsp;&nbsp;<u><b>1. Environment Setup</u></b><br>\n",
        "&nbsp;&nbsp;&nbsp;&nbsp;<u><b>2. Handling Data</u></b><br>\n",
        "&nbsp;&nbsp;&nbsp;&nbsp;<u><b>3. Creating Models</u></b><br>\n"
      ]
    },
    {
      "cell_type": "markdown",
      "metadata": {
        "id": "zms2mLZX99Q7",
        "colab_type": "text"
      },
      "source": [
        "<a id=\"section1\"></a>"
      ]
    },
    {
      "cell_type": "markdown",
      "metadata": {
        "id": "NIedJFZ2oAE-",
        "colab_type": "text"
      },
      "source": [
        "### Environment Setup\n",
        "\n",
        "* Check Python and TensorFlow versions\n",
        "* Import libraries (tf, np, pd, plt ...\n",
        "\n"
      ]
    },
    {
      "cell_type": "code",
      "metadata": {
        "id": "7wgANyOk4uMc",
        "colab_type": "code",
        "colab": {
          "base_uri": "https://localhost:8080/",
          "height": 35
        },
        "outputId": "6e2db608-df57-4824-fa8a-f43b1fea661b"
      },
      "source": [
        "!python --version"
      ],
      "execution_count": null,
      "outputs": [
        {
          "output_type": "stream",
          "text": [
            "Python 3.6.9\n"
          ],
          "name": "stdout"
        }
      ]
    },
    {
      "cell_type": "code",
      "metadata": {
        "colab_type": "code",
        "id": "O-OvIbao_pBl",
        "colab": {
          "base_uri": "https://localhost:8080/",
          "height": 35
        },
        "outputId": "d5832405-0658-42b2-faec-3403f7e95431"
      },
      "source": [
        "# With this future statement you can slowly get accustomed to incompatible changes, by overwriting existing functions.\n",
        "from __future__ import (\n",
        "    absolute_import,      # perform absolute imports by default (e.g. path from root)\n",
        "    division,             # changes the division operator, introduces floor division\n",
        "    print_function,       # replaces old print statement with new print() function \n",
        "    unicode_literals      # introduces literal syntax for the bytes objects, e.g. b'Hello world'\n",
        "    )\n",
        "\n",
        "# Check TensorFlow installation\n",
        "try:\n",
        "  # %tensorflow_version only exists in Colab.\n",
        "  %tensorflow_version 2.x\n",
        "except Exception:\n",
        "  pass\n",
        "\n",
        "import tensorflow as tf\n",
        "import matplotlib.pyplot as plt\n",
        "import numpy as np\n",
        "\n",
        "print(tf.__version__)"
      ],
      "execution_count": null,
      "outputs": [
        {
          "output_type": "stream",
          "text": [
            "2.2.0\n"
          ],
          "name": "stdout"
        }
      ]
    },
    {
      "cell_type": "markdown",
      "metadata": {
        "colab_type": "text",
        "id": "YizjMolP-Gwm"
      },
      "source": [
        "<a id=\"section1\"></a>"
      ]
    },
    {
      "cell_type": "markdown",
      "metadata": {
        "colab_type": "text",
        "id": "MLmgir1BKZ1j"
      },
      "source": [
        "### File Handling\n",
        "\n",
        "* Create folders (*os*)\n",
        "* Move files (*shutil*)\n",
        "* Download files (*get_file*)\n",
        "* Handle paths (*pathlib*)\n",
        "* Find files (*glob*)"
      ]
    },
    {
      "cell_type": "code",
      "metadata": {
        "colab_type": "code",
        "id": "5tytlBKLKd0G",
        "colab": {}
      },
      "source": [
        "import os         # miscellaneous operating system interfaces\n",
        "import shutil     # copy, move files\n",
        "from tensorflow.keras.utils import get_file # downloads file \n",
        "import pathlib    # Path handling with Path Objects, especially useful for use on different operating systems"
      ],
      "execution_count": null,
      "outputs": []
    },
    {
      "cell_type": "markdown",
      "metadata": {
        "colab_type": "text",
        "id": "JpJV3oAryhrV"
      },
      "source": [
        "##### **Tool: [os](https://docs.python.org/3/library/os.html)** \n",
        "This module provides a portable way of using operating system dependent functionality."
      ]
    },
    {
      "cell_type": "code",
      "metadata": {
        "id": "TX0cRU-URV1k",
        "colab_type": "code",
        "colab": {}
      },
      "source": [
        "!mkdir tom"
      ],
      "execution_count": null,
      "outputs": []
    },
    {
      "cell_type": "code",
      "metadata": {
        "colab_type": "code",
        "id": "Ic00LS4OxcSC",
        "colab": {}
      },
      "source": [
        "# Get current directory\n",
        "print(os.getcwd())\n",
        "# !pwd\n",
        "\n",
        "# Get list of environment variables\n",
        "print(os.environ)\n",
        "\n",
        "# List of the names of the entries in the directory\n",
        "print(os.listdir(path='.'))\n",
        "# !ls .\n",
        "\n",
        "# Create a directory named path\n",
        "os.mkdir('path')\n",
        "# !mkdir path\n",
        "\n",
        "# Delete the file path\n",
        "os.remove('path')\n",
        "\n",
        "# Rename the file or directory src to dst\n",
        "os.rename(src, dst)\n",
        "# !mv ./tom.txt ./nhan.txt\n",
        "\n",
        "# os.scandir(path) return an iterator of os.DirEntry\n",
        "# item.is_dir() return True if the item is a directory\n",
        "# item.is_file() return True if the item is a file\n",
        "\n",
        "# Listing subdirectories\n",
        "for item in os.scandir(path):\n",
        "    if item.is_dir():\n",
        "        print(item.name)"
      ],
      "execution_count": null,
      "outputs": []
    },
    {
      "cell_type": "code",
      "metadata": {
        "colab_type": "code",
        "id": "tlf_1TPAMUYY",
        "colab": {
          "base_uri": "https://localhost:8080/",
          "height": 33
        },
        "outputId": "c31db24c-9d9b-403f-c3e8-72b08d49436a"
      },
      "source": [
        "# Delete file if exists\n",
        "del_file = \"testfile.txt\"\n",
        "if os.path.isfile(del_file):\n",
        "    os.remove(del_file)\n",
        "    print(\"File removed successfully!\")\n",
        "else:\n",
        "    print(\"File does not exist!\")"
      ],
      "execution_count": null,
      "outputs": [
        {
          "output_type": "stream",
          "text": [
            "File does not exist!\n"
          ],
          "name": "stdout"
        }
      ]
    },
    {
      "cell_type": "markdown",
      "metadata": {
        "id": "qHDqVLzGp3cW",
        "colab_type": "text"
      },
      "source": [
        "##### **Tool: [tf.keras.utils.get_file](https://www.tensorflow.org/api_docs/python/tf/keras/utils/get_file)**"
      ]
    },
    {
      "cell_type": "code",
      "metadata": {
        "id": "D2HqAfsuqNpn",
        "colab_type": "code",
        "colab": {
          "base_uri": "https://localhost:8080/",
          "height": 50
        },
        "outputId": "50aa3532-14f8-4357-8151-4f740dd06e4c"
      },
      "source": [
        "DATA_URL = (\n",
        "    \"https://storage.googleapis.com/download.tensorflow.org/example_images/flower_photos.tgz\"\n",
        ")\n",
        "data_dir = tf.keras.utils.get_file(\n",
        "    fname=\"flower_photos\",\n",
        "    origin=DATA_URL,\n",
        "    untar=True,\n",
        "    cache_dir=\".\",\n",
        "    cache_subdir=\"DataPreparation/examples/datasets\",\n",
        ")"
      ],
      "execution_count": null,
      "outputs": [
        {
          "output_type": "stream",
          "text": [
            "Downloading data from https://storage.googleapis.com/download.tensorflow.org/example_images/flower_photos.tgz\n",
            "228818944/228813984 [==============================] - 1s 0us/step\n"
          ],
          "name": "stdout"
        }
      ]
    },
    {
      "cell_type": "markdown",
      "metadata": {
        "colab_type": "text",
        "id": "nhwDjGkn2qy3"
      },
      "source": [
        "##### **Tool: [shutil](https://docs.python.org/3/library/shutil.html#module-shutil)**\n"
      ]
    },
    {
      "cell_type": "code",
      "metadata": {
        "colab_type": "code",
        "id": "vejGyz2W2xQS",
        "colab": {}
      },
      "source": [
        "# Copy the file src to the file or directory dst\n",
        "shutil.copy(src, dst)\n",
        "# !cp ./src ./dst\n",
        "\n",
        "# Move the file src to the file or directory dst\n",
        "shutil.move(src, dst)\n",
        "# !mv ./src ./dst\n",
        "\n",
        "# Removing non-empty directory (-r recursively; -f force, never prompt)\n",
        "shutil.rmtree('DemoDir/')\n",
        "# !rm -rf DemoDir/\n",
        "\n",
        "# Removing empty directory\n",
        "os.rmdir(\"demoDir/\")"
      ],
      "execution_count": null,
      "outputs": []
    },
    {
      "cell_type": "markdown",
      "metadata": {
        "colab_type": "text",
        "id": "j08mZ84H6g0A"
      },
      "source": [
        "##### **Tool: [pathlib](https://docs.python.org/3/library/pathlib.html)**\n",
        "This module offers classes representing filesystem paths with semantics appropriate for different operating systems."
      ]
    },
    {
      "cell_type": "code",
      "metadata": {
        "colab_type": "code",
        "id": "wNZX3lMHzYIF",
        "colab": {}
      },
      "source": [
        "# Listing subdirectories\n",
        "path_root = pathlib.Path('.')\n",
        "print([x.name for x in path_root.iterdir() if x.is_dir()])\n",
        "#or\n",
        "for x in path_root.iterdir():\n",
        "  if x.is_dir():\n",
        "    print(x.name)"
      ],
      "execution_count": null,
      "outputs": []
    },
    {
      "cell_type": "code",
      "metadata": {
        "colab_type": "code",
        "id": "23xRsy9F65a-",
        "colab": {}
      },
      "source": [
        "# Get parent directory\n",
        "path = pathlib.Path('./sample_data')\n",
        "str(path.parent)"
      ],
      "execution_count": null,
      "outputs": []
    },
    {
      "cell_type": "code",
      "metadata": {
        "colab_type": "code",
        "id": "cmDZ7iwc70wY",
        "colab": {}
      },
      "source": [
        "os.path.dirname('./tom/abc/def/ghf/sample_data.py')"
      ],
      "execution_count": null,
      "outputs": []
    },
    {
      "cell_type": "markdown",
      "metadata": {
        "id": "japfi2kRBXhG",
        "colab_type": "text"
      },
      "source": [
        "##### **Tool: [glob](https://docs.python.org/3/library/glob.html)** \n",
        "This module finds all the pathnames matching a specified pattern according to the rules used by the Unix shell, although results are returned in arbitrary order. "
      ]
    },
    {
      "cell_type": "markdown",
      "metadata": {
        "id": "IiosrKt_Chqn",
        "colab_type": "text"
      },
      "source": [
        "Common Characters in comparison with Regex:\n",
        "\n",
        "<table>\n",
        "<thead><tr><td>\n",
        "<b>Special Character</b></td>\n",
        "<td><b>Meaning in Globs</b></td>\n",
        "<td><b>Meaning in Regex</b></td>\n",
        "</tr></thead><tbody><tr><td>*</td>\n",
        "<td>zero or more characters</td>\n",
        "<td>zero or more <i>of the character it follows</i></td>\n",
        "</tr><tr><td>?</td>\n",
        "<td>single occurrence of any character</td>\n",
        "<td>zero or one <i>of the character it follows</i> but not more than 1</td></tr><tr><td>.</td>\n",
        "<td>literal \".\" character</td>\n",
        "<td>any single character</td>\n",
        "</tr></tbody></table>"
      ]
    },
    {
      "cell_type": "code",
      "metadata": {
        "colab_type": "code",
        "id": "j8eLrKb98YWX",
        "colab": {}
      },
      "source": [
        "# List Python source files\n",
        "p = pathlib.Path('./sample_data')\n",
        "list(p.glob('**/*.py')) # double asterisk matches zero or more directories"
      ],
      "execution_count": null,
      "outputs": []
    },
    {
      "cell_type": "code",
      "metadata": {
        "colab_type": "code",
        "id": "aiktiKGDNwly",
        "colab": {}
      },
      "source": [
        "# Write a file\n",
        "path = Path('.editorconfig')\n",
        "with path.open(mode='wt') as config:\n",
        "    config.write('# config goes here')"
      ],
      "execution_count": null,
      "outputs": []
    },
    {
      "cell_type": "code",
      "metadata": {
        "colab_type": "code",
        "id": "_3czjMiKzJ7t",
        "colab": {}
      },
      "source": [
        "# Count number of files (wc -l only the newline count)\n",
        "!ls  ../data/train/*/* | wc -l \n",
        "!ls  ../data/test/*/* | wc -l"
      ],
      "execution_count": null,
      "outputs": []
    },
    {
      "cell_type": "markdown",
      "metadata": {
        "colab_type": "text",
        "id": "KOzZUJ8H-I0S"
      },
      "source": [
        "<a id=\"section2\"></a>"
      ]
    },
    {
      "cell_type": "markdown",
      "metadata": {
        "id": "Gdbm-0iaQTXQ",
        "colab_type": "text"
      },
      "source": [
        "### <b>Handling Data<b>\n",
        "\n",
        "<center><img src=\"https://i.imgur.com/0yACzHl.png\" height=\"250px\">\n",
        "</center>\n",
        "\n",
        "<div><b><u>1. Pre-built Datasets</b></u>\n",
        "\n",
        "Ready-to-use Datasets from Tensorflow and Keras.\n",
        "\n",
        "<br>\n",
        "<b><u>2. Easy Input Pipelines for specific input types</b></u>\n",
        "\n",
        "Tools for easy data input, e.g. for Image and CSV.\n",
        "\n",
        "<br>\n",
        "<b><u>3. Custom Input Pipeline</b></u>\n",
        "\n",
        "Build a custom input pipeline for your data, to make data handling efficient and suitable for your data. This is handled with *tf.data*.\n",
        "\n",
        "<br>\n",
        "<b><u>4. Optimization</b></u>\n",
        "\n",
        "Optimize the performance of your pipeline, e.g. through data streaming."
      ]
    },
    {
      "cell_type": "markdown",
      "metadata": {
        "colab_type": "text",
        "id": "WDKa_ND9Zywx"
      },
      "source": [
        "#### <u><b>1. Pre-built datasets</u></b>\n",
        "\n",
        "[TensorFlow Datasets](https://github.com/tensorflow/datasets/tree/master/docs): A collection of datasets ready to use with TensorFlow. Returns tf.data.Dataset. <br>\n",
        "Found in tensorflow_datasets - *tfds*.\n",
        "\n",
        "[tf.keras.datasets](https://www.tensorflow.org/api_docs/python/tf/keras/datasets): Keras built-in datasets. Return tuple of Numpy arrays. <br>\n",
        "Found in keras - *tf.keras.datasets*."
      ]
    },
    {
      "cell_type": "markdown",
      "metadata": {
        "id": "QBYk0q2gd5_N",
        "colab_type": "text"
      },
      "source": [
        "##### **Tensorflow Datasets**"
      ]
    },
    {
      "cell_type": "code",
      "metadata": {
        "colab_type": "code",
        "id": "bw7sH0muOm4S",
        "colab": {
          "base_uri": "https://localhost:8080/",
          "height": 225,
          "referenced_widgets": [
            "7bdfb47082094ca29025e864ac3fa90b",
            "fedf637fd3b84bcaacad3f1fb02d1bf4",
            "eaa36d51199846289e9dbdd95179d3db",
            "981aca58c7594efe889528abfc213bad",
            "15c9d1ac96af4464b7ca3e3ddc353417",
            "0ad1182cf9a04dcb9fd5a6b856fe0e64",
            "c03308b3ab2c4acd9478e4bd34e9e5a4",
            "530482f590c242cd9e6ca1d3c4774664"
          ]
        },
        "outputId": "4361610c-882a-46cd-df5b-00be18d66fdd"
      },
      "source": [
        "import tensorflow_datasets as tfds\n",
        "\n",
        "mnist = tfds.image.MNIST()\n",
        "\n",
        "# Describe the dataset with DatasetInfo\n",
        "assert mnist.info.features['image'].shape == (28, 28, 1)\n",
        "assert mnist.info.features['label'].num_classes == 10\n",
        "assert mnist.info.splits['train'].num_examples == 60000\n",
        "assert mnist.info.splits['test'].num_examples == 10000\n",
        "\n",
        "# Download the data, prepare it, and write it to disk\n",
        "mnist.download_and_prepare()\n",
        "\n",
        "# Load data from disk as tf.data.Datasets\n",
        "datasets = mnist.as_dataset()\n",
        "train_dataset, test_dataset = datasets['train'], datasets['test']\n",
        "assert isinstance(train_dataset, tf.data.Dataset)"
      ],
      "execution_count": null,
      "outputs": [
        {
          "output_type": "stream",
          "text": [
            "WARNING:absl:Dataset mnist is hosted on GCS. It will automatically be downloaded to your\n",
            "local data directory. If you'd instead prefer to read directly from our public\n",
            "GCS bucket (recommended if you're running on GCP), you can instead set\n",
            "data_dir=gs://tfds-data/datasets.\n",
            "\n"
          ],
          "name": "stderr"
        },
        {
          "output_type": "stream",
          "text": [
            "\u001b[1mDownloading and preparing dataset mnist/3.0.0 (download: 11.06 MiB, generated: Unknown size, total: 11.06 MiB) to /root/tensorflow_datasets/mnist/3.0.0...\u001b[0m\n"
          ],
          "name": "stdout"
        },
        {
          "output_type": "display_data",
          "data": {
            "application/vnd.jupyter.widget-view+json": {
              "model_id": "7bdfb47082094ca29025e864ac3fa90b",
              "version_minor": 0,
              "version_major": 2
            },
            "text/plain": [
              "HBox(children=(FloatProgress(value=0.0, description='Dl Completed...', max=4.0, style=ProgressStyle(descriptio…"
            ]
          },
          "metadata": {
            "tags": []
          }
        },
        {
          "output_type": "stream",
          "text": [
            "\n",
            "\n",
            "\u001b[1mDataset mnist downloaded and prepared to /root/tensorflow_datasets/mnist/3.0.0. Subsequent calls will reuse this data.\u001b[0m\n"
          ],
          "name": "stdout"
        }
      ]
    },
    {
      "cell_type": "code",
      "metadata": {
        "colab_type": "code",
        "id": "tDjnH2obOnDI",
        "colab": {
          "base_uri": "https://localhost:8080/",
          "height": 1000
        },
        "outputId": "f7857a93-5e3a-47ef-cf77-81cabdcd253c"
      },
      "source": [
        "print(train_dataset.element_spec)\n",
        "print(mnist.info)\n",
        "tfds.show_examples(mnist.info, test_dataset)"
      ],
      "execution_count": null,
      "outputs": [
        {
          "output_type": "stream",
          "text": [
            "{'image': TensorSpec(shape=(28, 28, 1), dtype=tf.uint8, name=None), 'label': TensorSpec(shape=(), dtype=tf.int64, name=None)}\n",
            "tfds.core.DatasetInfo(\n",
            "    name='mnist',\n",
            "    version=3.0.0,\n",
            "    description='The MNIST database of handwritten digits.',\n",
            "    homepage='http://yann.lecun.com/exdb/mnist/',\n",
            "    features=FeaturesDict({\n",
            "        'image': Image(shape=(28, 28, 1), dtype=tf.uint8),\n",
            "        'label': ClassLabel(shape=(), dtype=tf.int64, num_classes=10),\n",
            "    }),\n",
            "    total_num_examples=70000,\n",
            "    splits={\n",
            "        'test': 10000,\n",
            "        'train': 60000,\n",
            "    },\n",
            "    supervised_keys=('image', 'label'),\n",
            "    citation=\"\"\"@article{lecun2010mnist,\n",
            "      title={MNIST handwritten digit database},\n",
            "      author={LeCun, Yann and Cortes, Corinna and Burges, CJ},\n",
            "      journal={ATT Labs [Online]. Available: http://yann. lecun. com/exdb/mnist},\n",
            "      volume={2},\n",
            "      year={2010}\n",
            "    }\"\"\",\n",
            "    redistribution_info=,\n",
            ")\n",
            "\n"
          ],
          "name": "stdout"
        },
        {
          "output_type": "display_data",
          "data": {
            "image/png": "[encoded data removed]",
            "text/plain": [
              "<Figure size 648x648 with 9 Axes>"
            ]
          },
          "metadata": {
            "tags": []
          }
        },
        {
          "output_type": "execute_result",
          "data": {
            "image/png": "[encoded data removed]",
            "text/plain": [
              "<Figure size 648x648 with 9 Axes>"
            ]
          },
          "metadata": {
            "tags": []
          },
          "execution_count": 8
        }
      ]
    },
    {
      "cell_type": "code",
      "metadata": {
        "colab_type": "code",
        "id": "rUTF_nWTOnGu",
        "colab": {
          "base_uri": "https://localhost:8080/",
          "height": 283
        },
        "outputId": "1549a560-0db8-4108-ae1e-b1ed81c40c64"
      },
      "source": [
        "for mnist_example in train_dataset.take(1):  # Only take a single example\n",
        "    image, label = mnist_example[\"image\"], mnist_example[\"label\"]\n",
        "\n",
        "    plt.imshow(image.numpy()[:, :, 0].astype(np.float32), cmap=plt.get_cmap(\"gray\"))\n",
        "    print(\"Label: %d\" % label.numpy())"
      ],
      "execution_count": null,
      "outputs": [
        {
          "output_type": "stream",
          "text": [
            "Label: 4\n"
          ],
          "name": "stdout"
        },
        {
          "output_type": "display_data",
          "data": {
            "image/png": "[encoded data removed]",
            "text/plain": [
              "<Figure size 432x288 with 1 Axes>"
            ]
          },
          "metadata": {
            "tags": [],
            "needs_background": "light"
          }
        }
      ]
    },
    {
      "cell_type": "markdown",
      "metadata": {
        "id": "woptMVr-u9nP",
        "colab_type": "text"
      },
      "source": [
        "**Should you use \"repeat\" then \"shuffle\" or \"shuffle\" then \"repeat\" ?**\n",
        "\n",
        "* Repeat, then shuffle: you lose the guarantee that all samples are processed in one epoch.\n",
        "* Shuffle, then repeat: it is guaranteed that all samples will be processed before the next repeat begins, but you lose (slightly) in performance.\n",
        "* To keep it simple, do all of that before batching."
      ]
    },
    {
      "cell_type": "code",
      "metadata": {
        "colab_type": "code",
        "id": "jssiOKlIOnKU",
        "colab": {}
      },
      "source": [
        "BATCH_SIZE = 128\n",
        "NUM_EXAMPLES = 60000\n",
        "NUM_TESTING = 10000\n",
        "\n",
        "def preprocess(ds):\n",
        "    \"\"\"Puts the mnist dataset in the format Keras expects, (features, labels).\"\"\"\n",
        "    x = tf.cast(ds['image'], tf.float32) / 255.0\n",
        "    return x, ds['label']\n",
        "\n",
        "train_dataset = train_dataset.map(preprocess).cache().repeat().shuffle(1024).batch(BATCH_SIZE)\n",
        "train_dataset = train_dataset.prefetch(tf.data.experimental.AUTOTUNE)\n",
        "test_dataset = test_dataset.map(preprocess).batch(BATCH_SIZE).prefetch(tf.data.experimental.AUTOTUNE)"
      ],
      "execution_count": null,
      "outputs": []
    },
    {
      "cell_type": "code",
      "metadata": {
        "colab_type": "code",
        "id": "tWRTFG1_OnOZ",
        "colab": {}
      },
      "source": [
        "# shorter way\n",
        "mnist_data = tfds.load('mnist')\n",
        "mnist_train, mnist_test = mnist_data['train'], mnist_data['test']\n",
        "mnist_train = mnist_train.map(preprocess).shuffle(NUM_EXAMPLES).repeat().batch(BATCH_SIZE)\n",
        "mnist_test = mnist_test.map(preprocess).batch(BATCH_SIZE)"
      ],
      "execution_count": null,
      "outputs": []
    },
    {
      "cell_type": "markdown",
      "metadata": {
        "colab_type": "text",
        "id": "JQFJWCl1arNG"
      },
      "source": [
        "##### **tf.keras.datasets**"
      ]
    },
    {
      "cell_type": "code",
      "metadata": {
        "colab_type": "code",
        "id": "NypJ4vVWOnSD",
        "colab": {}
      },
      "source": [
        "from tensorflow.keras.datasets import fashion_mnist\n",
        "\n",
        "(x_train, y_train), (x_test, y_test) = fashion_mnist.load_data()\n",
        "print(type(x_train))\n",
        "plt.imshow(x_train[0], cmap='gray')\n",
        "plt.show()"
      ],
      "execution_count": null,
      "outputs": []
    },
    {
      "cell_type": "markdown",
      "metadata": {
        "id": "70_K4itJeDLt",
        "colab_type": "text"
      },
      "source": [
        "#### <u><b>2. Easy Input Pipelines for specific input types</u></b>\n",
        "\n",
        "<u>Image:</u><br>\n",
        "Documentation [ImageDataGenerator](https://www.tensorflow.org/api_docs/python/tf/keras/preprocessing/image/ImageDataGenerator?version=stable). Read data [flow_from_dataframe](https://www.tensorflow.org/api_docs/python/tf/keras/preprocessing/image/ImageDataGenerator?version=stable#flow_from_dataframe), [flow_from_directory](https://www.tensorflow.org/api_docs/python/tf/keras/preprocessing/image/ImageDataGenerator?version=stable#flow_from_directory)\n",
        "\n",
        "<u>CSV:</u><br>\n",
        "Documentation [make_csv_dataset](https://www.tensorflow.org/api_docs/python/tf/data/experimental/make_csv_dataset). <br>\n",
        "Found in data.experimental - *tf.data.experimental.make_csv_dataset*"
      ]
    },
    {
      "cell_type": "markdown",
      "metadata": {
        "colab_type": "text",
        "id": "molZXFzhiyFb"
      },
      "source": [
        "##### **ImageDataGenerator**\n",
        "\n",
        "\n",
        "These are just a few of the options available (for more, see the Keras documentation. Let's quickly go over what we just wrote:\n",
        "\n",
        "* rotation_range is a value in degrees (0–180), a range within which to randomly rotate pictures.\n",
        "* width_shift and height_shift are ranges (as a fraction of total width or height) within which to randomly translate pictures vertically or horizontally.\n",
        "* shear_range is for randomly applying shearing transformations.\n",
        "* zoom_range is for randomly zooming inside pictures.\n",
        "* horizontal_flip is for randomly flipping half of the images horizontally. This is relevant when there are no assumptions of horizontal assymmetry (e.g. real-world pictures).\n",
        "* fill_mode is the strategy used for filling in newly created pixels, which can appear after a rotation or a width/height shift."
      ]
    },
    {
      "cell_type": "markdown",
      "metadata": {
        "colab_type": "text",
        "id": "0ZgHl31F79av"
      },
      "source": [
        "* flow_from_dataframe"
      ]
    },
    {
      "cell_type": "code",
      "metadata": {
        "colab_type": "code",
        "id": "vfb6UYoPiyo4",
        "colab": {}
      },
      "source": [
        "import pandas as pd\n",
        "\n",
        "image_generator = tf.keras.preprocessing.image.ImageDataGenerator(\n",
        "    rescale=1./255, \n",
        "    rotation_range=20,\n",
        "    zoom_range=0.15,\n",
        "    width_shift_range=0.2,\n",
        "    height_shift_range=0.2,\n",
        "    shear_range=0.15,\n",
        "    horizontal_flip=True,\n",
        "    vertical_flip=True,\n",
        "    fill_mode=\"nearest\"\n",
        ")\n",
        "\n",
        "df = pd.DataFrame({'paths':train_image_paths, 'labels':label_names[train_image_labels]})\n",
        "\n",
        "image_data = image_generator.flow_from_dataframe(df,\n",
        "                                                 x_col='paths',\n",
        "                                                 y_col='labels',\n",
        "                                                 class_mode='sparse',\n",
        "                                                 target_size=(192,192))"
      ],
      "execution_count": null,
      "outputs": []
    },
    {
      "cell_type": "markdown",
      "metadata": {
        "colab_type": "text",
        "id": "hgvQk7NX8BN1"
      },
      "source": [
        "* flow_from_directory"
      ]
    },
    {
      "cell_type": "code",
      "metadata": {
        "colab_type": "code",
        "id": "s9QKTR_o7vkD",
        "colab": {}
      },
      "source": [
        "train_datagen = ImageDataGenerator(preprocessing_function=preprocess_input,\n",
        "                                   rotation_range=20,\n",
        "                                   width_shift_range=0.2,\n",
        "                                   height_shift_range=0.2,\n",
        "                                   zoom_range=0.2)\n",
        "val_datagen = ImageDataGenerator(preprocessing_function=preprocess_input)\n",
        "\n",
        "train_generator = train_datagen.flow_from_directory(\n",
        "                        TRAIN_DATA_DIR, #/dataset/train/\n",
        "                        target_size=(IMG_WIDTH, IMG_HEIGHT),\n",
        "                        batch_size=BATCH_SIZE,\n",
        "                        shuffle=True,\n",
        "                        seed=102,\n",
        "                        class_mode='categorical')\n",
        "validation_generator = val_datagen.flow_from_directory(\n",
        "                        VALIDATION_DATA_DIR, #/dataset/test/\n",
        "                        target_size=(IMG_WIDTH, IMG_HEIGHT),\n",
        "                        batch_size=BATCH_SIZE,\n",
        "                        shuffle=False,\n",
        "                        class_mode='categorical')\n",
        "\n",
        "model = build_model()\n",
        "model.compile(loss='categorical_crossentropy',\n",
        "              optimizer= tf.keras.optimizers.Adam(lr=0.001),\n",
        "              metrics=['acc'])\n",
        "\n",
        "# Need to calculate the steps (number of batches) precisely for train and test set\n",
        "num_steps_train = math.ceil(float(TRAIN_SAMPLES)/BATCH_SIZE)              \n",
        "num_steps_val = math.ceil(float(VALIDATION_SAMPLES)/BATCH_SIZE)\n",
        "\n",
        "#or\n",
        "\n",
        "num_steps_train = int(float(TRAIN_SAMPLES)/BATCH_SIZE)              \n",
        "num_steps_val = int(float(VALIDATION_SAMPLES)/BATCH_SIZE)\n",
        "\n",
        "model.fit(train_generator,\n",
        "          steps_per_epoch = num_steps_train,\n",
        "          epochs=10,\n",
        "          validation_data = validation_generator,\n",
        "          validation_steps = num_steps_val)"
      ],
      "execution_count": null,
      "outputs": []
    },
    {
      "cell_type": "markdown",
      "metadata": {
        "id": "zl2bxHGUyRpL",
        "colab_type": "text"
      },
      "source": [
        "* Combine Keras ImageDataGenerator and tf.data.Dataset for the win"
      ]
    },
    {
      "cell_type": "code",
      "metadata": {
        "id": "Xxy3DoP4yRNX",
        "colab_type": "code",
        "colab": {}
      },
      "source": [
        "def make_generator():\n",
        "    train_datagen = ImageDataGenerator(rescale=1. / 255)\n",
        "    train_generator = train_datagen.flow_from_directory(train_dataset_folder,target_size=(224, 224), class_mode='categorical', batch_size=32)\n",
        "    return train_generator\n",
        "\n",
        "train_dataset = tf.data.Dataset.from_generator(make_generator,(tf.float32, tf.float32))"
      ],
      "execution_count": null,
      "outputs": []
    },
    {
      "cell_type": "markdown",
      "metadata": {
        "id": "fL7H1D9yeuYm",
        "colab_type": "text"
      },
      "source": [
        "##### **make_csv_dataset**"
      ]
    },
    {
      "cell_type": "code",
      "metadata": {
        "id": "bQ3LnA1petv7",
        "colab_type": "code",
        "colab": {}
      },
      "source": [
        "def get_dataset(file_path, **kwargs):\n",
        "  dataset = tf.data.experimental.make_csv_dataset(\n",
        "      file_path,\n",
        "      batch_size=32,\n",
        "      label_name=LABEL_COLUMN,\n",
        "      na_value=\"?\",\n",
        "      num_epochs=1,\n",
        "      ignore_errors=True, \n",
        "      **kwargs)\n",
        "  return dataset\n",
        "\n",
        "raw_train_data = get_dataset(train_file_path)\n",
        "raw_test_data = get_dataset(test_file_path)"
      ],
      "execution_count": null,
      "outputs": []
    },
    {
      "cell_type": "markdown",
      "metadata": {
        "id": "bvvwwDXlfnWc",
        "colab_type": "text"
      },
      "source": [
        "#### <u><b>3. Custom Input Pipeline</u></b>\n",
        "\n",
        "[Build custom input pipelines](https://www.tensorflow.org/guide/data).\n",
        "\n",
        "Documentation [tf.data.Dataset](https://www.tensorflow.org/api_docs/python/tf/data/Dataset), read data [from_generator](https://www.tensorflow.org/api_docs/python/tf/data/Dataset?version=stable#from_generator), [from_tensor_slices](https://www.tensorflow.org/api_docs/python/tf/data/Dataset?version=stable#from_tensor_slices)"
      ]
    },
    {
      "cell_type": "markdown",
      "metadata": {
        "colab_type": "text",
        "id": "bqssVxUEiood"
      },
      "source": [
        "**tf.data.Dataset**"
      ]
    },
    {
      "cell_type": "code",
      "metadata": {
        "id": "MVpPmHh5hctx",
        "colab_type": "code",
        "colab": {}
      },
      "source": [
        "# Basic example\n",
        "dataset = tf.data.Dataset.from_tensor_slices([8, 3, 0, 8, 2, 1])\n",
        "dataset"
      ],
      "execution_count": null,
      "outputs": []
    },
    {
      "cell_type": "markdown",
      "metadata": {
        "id": "h3mf-F6uz6X0",
        "colab_type": "text"
      },
      "source": [
        "**Yann LeCun:**\n",
        "\n",
        "\"Training with large minibatches is bad for your health<br>More importantly, it's bad for your test error.<br>Friends dont let friends use minibatches larger than 32.\"\n",
        "\n",
        "arxiv.org/abs/1804.07612"
      ]
    },
    {
      "cell_type": "code",
      "metadata": {
        "colab_type": "code",
        "id": "G9me40zDiqwQ",
        "colab": {}
      },
      "source": [
        "# Extended example\n",
        "ds = tf.data.Dataset.from_tensor_slices((all_image_paths, all_image_labels))\n",
        "\n",
        "# The tuples are unpacked into the positional arguments of the mapped function\n",
        "def load_and_preprocess_from_path_label(path, label):\n",
        "    return load_and_preprocess_image(path), label\n",
        "\n",
        "image_label_ds = ds.map(load_and_preprocess_from_path_label)\n",
        "\n",
        "BATCH_SIZE = 32\n",
        "AUTOTUNE = tf.data.experimental.AUTOTUNE\n",
        "\n",
        "\n",
        "# Setting a shuffle buffer size as large as the dataset ensures that the data is\n",
        "# completely shuffled.\n",
        "ds = image_label_ds.shuffle(buffer_size=image_count)\n",
        "ds = ds.repeat()\n",
        "ds = ds.batch(BATCH_SIZE)"
      ],
      "execution_count": null,
      "outputs": []
    },
    {
      "cell_type": "markdown",
      "metadata": {
        "id": "XQViolOkfHUu",
        "colab_type": "text"
      },
      "source": [
        "#### <u><b>4. Optimization</u></b>\n",
        "\n",
        "\n",
        "<u>Streaming your data:</u><br>\n",
        "Serialize your data with [TFRecord](https://www.tensorflow.org/tutorials/load_data/tfrecord) to read more efficiently. Useful for streaming over a network or caching any data-preprocessing.\n",
        "\n",
        "<u>Best practices</u>\n",
        "<ul>\n",
        "<li><a href=\"#Pipelining\">Use the <code translate=\"no\" dir=\"ltr\">prefetch</code> transformation</a> to overlap the work of a producer and consumer.</li>\n",
        "<li><a href=\"#Parallelizing_data_extraction\">Parallelize the data reading transformation</a> using the <code translate=\"no\" dir=\"ltr\">interleave</code> transformation.</li>\n",
        "<li><a href=\"#Parallelizing_data_transformation\">Parallelize the <code translate=\"no\" dir=\"ltr\">map</code> transformation</a> by setting the <code translate=\"no\" dir=\"ltr\">num_parallel_calls</code> argument.</li>\n",
        "<li><a href=\"#Caching\">Use the <code translate=\"no\" dir=\"ltr\">cache</code> transformation</a> to cache data in memory during the first epoch</li>\n",
        "<li><a href=\"#Map_and_batch\">Vectorize user-defined functions</a> passed in to the <code translate=\"no\" dir=\"ltr\">map</code> transformation</li>\n",
        "<li><a href=\"#Reducing_memory_footprint\">Reduce memory usage</a> when applying the <code translate=\"no\" dir=\"ltr\">interleave</code>, <code translate=\"no\" dir=\"ltr\">prefetch</code>, and <code translate=\"no\" dir=\"ltr\">shuffle</code> transformations.</li>\n",
        "</ul>\n",
        "</div>"
      ]
    },
    {
      "cell_type": "code",
      "metadata": {
        "id": "5Zv9bypkfK2k",
        "colab_type": "code",
        "colab": {}
      },
      "source": [
        "from tf.data.experimental import AUTOTUNE\n",
        "\n",
        "# prefetch lets the dataset fetch batches in the background while the model is training.\n",
        "ds = ds.prefetch(buffer_size=AUTOTUNE)\n",
        "\n",
        "# parallelizes the data loading step, e.g. useful when data is stored remotely\n",
        "ds = tf.data.Dataset.range(2).interleave(ds)\n",
        "\n",
        "# parallelizes transformations\n",
        "ds = ds.map(my_processing_function, num_parallel_calls=AUTOTUNE)\n",
        "\n",
        "# saves some operations during training (like opening and reading files)\n",
        "ds = ds.cache()\n",
        "\n",
        "# batch before map to have it operate over a batch of inputs at once\n",
        "ds = ds.batch(256).map(my_processing_function)\n",
        "\n",
        "# cache the dataset after the map transformation except if this transformation makes the data too big to fit in memory\n",
        "# In general, be aware of the time and space complexity of your transformations and set the order accordingly\n",
        "ds = ds.map(time_consuming_mapping).cache().map(memory_consuming_mapping)"
      ],
      "execution_count": null,
      "outputs": []
    },
    {
      "cell_type": "markdown",
      "metadata": {
        "colab_type": "text",
        "id": "HceLE8HU-Klu"
      },
      "source": [
        "<a id=\"section3\"></a>"
      ]
    },
    {
      "cell_type": "markdown",
      "metadata": {
        "colab_type": "text",
        "id": "-uJ6WxvYRcNY"
      },
      "source": [
        "### Creating Models\n",
        "\n",
        "<div><b><u>1. Build Model Architecture </b></u>\n",
        "<center>\n",
        "<img src=\"https://i.imgur.com/oZmqUZE.jpg\" height=\"180px\">\n",
        "</center>\n",
        "\n",
        "Build your model with either the sequential API, functional API or through subclassing.\n",
        "Use built-in layers, pre-trained models and custom implementations accordingly.\n",
        "\n",
        "<br>\n",
        "<b><u>2. Optimize Layers</b></u>\n",
        "\n",
        "Choose the right activation function, weight initializers and regulizations.\n",
        "\n",
        "\n",
        "<br>\n",
        "<b><u>3. Model Compilation</b></u>\n",
        "\n",
        "Choose the right optimizer, loss function and evaluation metrics.\n",
        "\n",
        "\n",
        "<br>\n",
        "<b><u>4. Optimize Training and Architecture</b></u>\n",
        "\n",
        "Use callbacks to adjust or monitor the training process while training. <br>\n",
        "You can also make use of the keras tuner to find the best hyperparamters."
      ]
    },
    {
      "cell_type": "markdown",
      "metadata": {
        "id": "UQO233hjxUdF",
        "colab_type": "text"
      },
      "source": [
        "#### <u><b>1. Build Model Architecture</u></b>\n"
      ]
    },
    {
      "cell_type": "markdown",
      "metadata": {
        "id": "Rj2mpHZW782N",
        "colab_type": "text"
      },
      "source": [
        "##### **Pre-builts**"
      ]
    },
    {
      "cell_type": "markdown",
      "metadata": {
        "id": "cuZnqf-T1ace",
        "colab_type": "text"
      },
      "source": [
        "###### Built-in Layers\n",
        "\n",
        "via [tf.keras.layers](https://www.tensorflow.org/api_docs/python/tf/keras/layers/)"
      ]
    },
    {
      "cell_type": "code",
      "metadata": {
        "id": "YVKo8UkG2w5o",
        "colab_type": "code",
        "colab": {}
      },
      "source": [
        "from tensorflow.keras.layers import Dense"
      ],
      "execution_count": null,
      "outputs": []
    },
    {
      "cell_type": "markdown",
      "metadata": {
        "colab_type": "text",
        "id": "yd6IJxU5mYp6"
      },
      "source": [
        "###### Pre-trained models\n",
        "\n",
        "via [tf.keras.applications](https://www.tensorflow.org/api_docs/python/tf/keras/applications)"
      ]
    },
    {
      "cell_type": "code",
      "metadata": {
        "colab_type": "code",
        "id": "x-x_7HDERukw",
        "colab": {
          "base_uri": "https://localhost:8080/",
          "height": 295
        },
        "outputId": "d348737b-40fc-4cc7-eeb7-8b22d016b18a"
      },
      "source": [
        "mobile_net = tf.keras.applications.MobileNetV2(input_shape=(192, 192, 3), include_top=False)\n",
        "mobile_net.trainable=False\n",
        "\n",
        "label_names=['cat','dog','chicken']\n",
        "\n",
        "model = tf.keras.Sequential([\n",
        "    mobile_net,\n",
        "    tf.keras.layers.GlobalAveragePooling2D(),\n",
        "    tf.keras.layers.Dense(len(label_names), activation = 'softmax')])\n",
        "\n",
        "base_learning_rate = 0.0001\n",
        "model.compile(optimizer=tf.keras.optimizers.RMSprop(lr=base_learning_rate),\n",
        "              loss='sparse_categorical_crossentropy',\n",
        "              metrics=[\"accuracy\"])\n",
        "\n",
        "model.summary()"
      ],
      "execution_count": null,
      "outputs": [
        {
          "output_type": "stream",
          "text": [
            "Downloading data from https://storage.googleapis.com/tensorflow/keras-applications/mobilenet_v2/mobilenet_v2_weights_tf_dim_ordering_tf_kernels_1.0_192_no_top.h5\n",
            "9412608/9406464 [==============================] - 0s 0us/step\n",
            "Model: \"sequential\"\n",
            "_________________________________________________________________\n",
            "Layer (type)                 Output Shape              Param #   \n",
            "=================================================================\n",
            "mobilenetv2_1.00_192 (Model) (None, 6, 6, 1280)        2257984   \n",
            "_________________________________________________________________\n",
            "global_average_pooling2d (Gl (None, 1280)              0         \n",
            "_________________________________________________________________\n",
            "dense (Dense)                (None, 3)                 3843      \n",
            "=================================================================\n",
            "Total params: 2,261,827\n",
            "Trainable params: 3,843\n",
            "Non-trainable params: 2,257,984\n",
            "_________________________________________________________________\n"
          ],
          "name": "stdout"
        }
      ]
    },
    {
      "cell_type": "markdown",
      "metadata": {
        "colab_type": "text",
        "id": "gMm00fsWmfX_"
      },
      "source": [
        "Fine-tuning the pre-trained model"
      ]
    },
    {
      "cell_type": "code",
      "metadata": {
        "colab_type": "code",
        "id": "yDBxAGkXRuou",
        "colab": {
          "base_uri": "https://localhost:8080/",
          "height": 1000
        },
        "outputId": "e7d905f0-157d-403d-a3bb-de26dd97607e"
      },
      "source": [
        "mobile_net.trainable=True\n",
        "\n",
        "print(\"Number of layers in the base model:\", len(mobile_net.layers))\n",
        "\n",
        "fine_tune_at = 140\n",
        "\n",
        "for index, layer in enumerate(mobile_net.layers):\n",
        "    print(index, layer.name)\n",
        "\n",
        "for layer in mobile_net.layers[:fine_tune_at]:\n",
        "    layer.trainable = False"
      ],
      "execution_count": null,
      "outputs": [
        {
          "output_type": "stream",
          "text": [
            "Number of layers in the base model: 155\n",
            "0 input_1\n",
            "1 Conv1_pad\n",
            "2 Conv1\n",
            "3 bn_Conv1\n",
            "4 Conv1_relu\n",
            "5 expanded_conv_depthwise\n",
            "6 expanded_conv_depthwise_BN\n",
            "7 expanded_conv_depthwise_relu\n",
            "8 expanded_conv_project\n",
            "9 expanded_conv_project_BN\n",
            "10 block_1_expand\n",
            "11 block_1_expand_BN\n",
            "12 block_1_expand_relu\n",
            "13 block_1_pad\n",
            "14 block_1_depthwise\n",
            "15 block_1_depthwise_BN\n",
            "16 block_1_depthwise_relu\n",
            "17 block_1_project\n",
            "18 block_1_project_BN\n",
            "19 block_2_expand\n",
            "20 block_2_expand_BN\n",
            "21 block_2_expand_relu\n",
            "22 block_2_depthwise\n",
            "23 block_2_depthwise_BN\n",
            "24 block_2_depthwise_relu\n",
            "25 block_2_project\n",
            "26 block_2_project_BN\n",
            "27 block_2_add\n",
            "28 block_3_expand\n",
            "29 block_3_expand_BN\n",
            "30 block_3_expand_relu\n",
            "31 block_3_pad\n",
            "32 block_3_depthwise\n",
            "33 block_3_depthwise_BN\n",
            "34 block_3_depthwise_relu\n",
            "35 block_3_project\n",
            "36 block_3_project_BN\n",
            "37 block_4_expand\n",
            "38 block_4_expand_BN\n",
            "39 block_4_expand_relu\n",
            "40 block_4_depthwise\n",
            "41 block_4_depthwise_BN\n",
            "42 block_4_depthwise_relu\n",
            "43 block_4_project\n",
            "44 block_4_project_BN\n",
            "45 block_4_add\n",
            "46 block_5_expand\n",
            "47 block_5_expand_BN\n",
            "48 block_5_expand_relu\n",
            "49 block_5_depthwise\n",
            "50 block_5_depthwise_BN\n",
            "51 block_5_depthwise_relu\n",
            "52 block_5_project\n",
            "53 block_5_project_BN\n",
            "54 block_5_add\n",
            "55 block_6_expand\n",
            "56 block_6_expand_BN\n",
            "57 block_6_expand_relu\n",
            "58 block_6_pad\n",
            "59 block_6_depthwise\n",
            "60 block_6_depthwise_BN\n",
            "61 block_6_depthwise_relu\n",
            "62 block_6_project\n",
            "63 block_6_project_BN\n",
            "64 block_7_expand\n",
            "65 block_7_expand_BN\n",
            "66 block_7_expand_relu\n",
            "67 block_7_depthwise\n",
            "68 block_7_depthwise_BN\n",
            "69 block_7_depthwise_relu\n",
            "70 block_7_project\n",
            "71 block_7_project_BN\n",
            "72 block_7_add\n",
            "73 block_8_expand\n",
            "74 block_8_expand_BN\n",
            "75 block_8_expand_relu\n",
            "76 block_8_depthwise\n",
            "77 block_8_depthwise_BN\n",
            "78 block_8_depthwise_relu\n",
            "79 block_8_project\n",
            "80 block_8_project_BN\n",
            "81 block_8_add\n",
            "82 block_9_expand\n",
            "83 block_9_expand_BN\n",
            "84 block_9_expand_relu\n",
            "85 block_9_depthwise\n",
            "86 block_9_depthwise_BN\n",
            "87 block_9_depthwise_relu\n",
            "88 block_9_project\n",
            "89 block_9_project_BN\n",
            "90 block_9_add\n",
            "91 block_10_expand\n",
            "92 block_10_expand_BN\n",
            "93 block_10_expand_relu\n",
            "94 block_10_depthwise\n",
            "95 block_10_depthwise_BN\n",
            "96 block_10_depthwise_relu\n",
            "97 block_10_project\n",
            "98 block_10_project_BN\n",
            "99 block_11_expand\n",
            "100 block_11_expand_BN\n",
            "101 block_11_expand_relu\n",
            "102 block_11_depthwise\n",
            "103 block_11_depthwise_BN\n",
            "104 block_11_depthwise_relu\n",
            "105 block_11_project\n",
            "106 block_11_project_BN\n",
            "107 block_11_add\n",
            "108 block_12_expand\n",
            "109 block_12_expand_BN\n",
            "110 block_12_expand_relu\n",
            "111 block_12_depthwise\n",
            "112 block_12_depthwise_BN\n",
            "113 block_12_depthwise_relu\n",
            "114 block_12_project\n",
            "115 block_12_project_BN\n",
            "116 block_12_add\n",
            "117 block_13_expand\n",
            "118 block_13_expand_BN\n",
            "119 block_13_expand_relu\n",
            "120 block_13_pad\n",
            "121 block_13_depthwise\n",
            "122 block_13_depthwise_BN\n",
            "123 block_13_depthwise_relu\n",
            "124 block_13_project\n",
            "125 block_13_project_BN\n",
            "126 block_14_expand\n",
            "127 block_14_expand_BN\n",
            "128 block_14_expand_relu\n",
            "129 block_14_depthwise\n",
            "130 block_14_depthwise_BN\n",
            "131 block_14_depthwise_relu\n",
            "132 block_14_project\n",
            "133 block_14_project_BN\n",
            "134 block_14_add\n",
            "135 block_15_expand\n",
            "136 block_15_expand_BN\n",
            "137 block_15_expand_relu\n",
            "138 block_15_depthwise\n",
            "139 block_15_depthwise_BN\n",
            "140 block_15_depthwise_relu\n",
            "141 block_15_project\n",
            "142 block_15_project_BN\n",
            "143 block_15_add\n",
            "144 block_16_expand\n",
            "145 block_16_expand_BN\n",
            "146 block_16_expand_relu\n",
            "147 block_16_depthwise\n",
            "148 block_16_depthwise_BN\n",
            "149 block_16_depthwise_relu\n",
            "150 block_16_project\n",
            "151 block_16_project_BN\n",
            "152 Conv_1\n",
            "153 Conv_1_bn\n",
            "154 out_relu\n"
          ],
          "name": "stdout"
        }
      ]
    },
    {
      "cell_type": "code",
      "metadata": {
        "colab_type": "code",
        "id": "FyK-EGt2Ruqs",
        "colab": {
          "base_uri": "https://localhost:8080/",
          "height": 260
        },
        "outputId": "6d4af7bd-90c0-4e84-98b9-a7bf145d555f"
      },
      "source": [
        "model.compile(optimizer=tf.keras.optimizers.RMSprop(lr=base_learning_rate/10),\n",
        "              loss='sparse_categorical_crossentropy',\n",
        "              metrics=[\"accuracy\"])\n",
        "\n",
        "model.summary()"
      ],
      "execution_count": null,
      "outputs": [
        {
          "output_type": "stream",
          "text": [
            "Model: \"sequential\"\n",
            "_________________________________________________________________\n",
            "Layer (type)                 Output Shape              Param #   \n",
            "=================================================================\n",
            "mobilenetv2_1.00_192 (Model) (None, 6, 6, 1280)        2257984   \n",
            "_________________________________________________________________\n",
            "global_average_pooling2d (Gl (None, 1280)              0         \n",
            "_________________________________________________________________\n",
            "dense (Dense)                (None, 3)                 3843      \n",
            "=================================================================\n",
            "Total params: 2,261,827\n",
            "Trainable params: 1,043,843\n",
            "Non-trainable params: 1,217,984\n",
            "_________________________________________________________________\n"
          ],
          "name": "stdout"
        }
      ]
    },
    {
      "cell_type": "code",
      "metadata": {
        "colab_type": "code",
        "id": "F2cDHdToRus3",
        "colab": {
          "base_uri": "https://localhost:8080/",
          "height": 235
        },
        "outputId": "0aff223f-116a-41d6-ca61-832e3e4eb3c4"
      },
      "source": [
        "steps_per_epoch = tf.math.ceil(0.9 * image_count/BATCH_SIZE).numpy()\n",
        "val_steps_per_epoch = tf.math.ceil(0.1 * image_count/BATCH_SIZE).numpy()\n",
        "\n",
        "fine_tune_epochs = 10\n",
        "total_epochs = initial_epochs + fine_tune_epochs\n",
        "history = model.fit(image_data, epochs=total_epochs, \n",
        "            steps_per_epoch=steps_per_epoch,\n",
        "            callbacks = [batch_stats_callback_2],\n",
        "            validation_data=test_set,\n",
        "            validation_steps=val_steps_per_epoch,\n",
        "            initial_epoch=initial_epochs)"
      ],
      "execution_count": null,
      "outputs": [
        {
          "output_type": "error",
          "ename": "NameError",
          "evalue": "ignored",
          "traceback": [
            "\u001b[0;31m---------------------------------------------------------------------------\u001b[0m",
            "\u001b[0;31mNameError\u001b[0m                                 Traceback (most recent call last)",
            "\u001b[0;32m<ipython-input-14-f80666b16207>\u001b[0m in \u001b[0;36m<module>\u001b[0;34m()\u001b[0m\n\u001b[0;32m----> 1\u001b[0;31m \u001b[0msteps_per_epoch\u001b[0m \u001b[0;34m=\u001b[0m \u001b[0mtf\u001b[0m\u001b[0;34m.\u001b[0m\u001b[0mmath\u001b[0m\u001b[0;34m.\u001b[0m\u001b[0mceil\u001b[0m\u001b[0;34m(\u001b[0m\u001b[0;36m0.9\u001b[0m \u001b[0;34m*\u001b[0m \u001b[0mimage_count\u001b[0m\u001b[0;34m/\u001b[0m\u001b[0mBATCH_SIZE\u001b[0m\u001b[0;34m)\u001b[0m\u001b[0;34m.\u001b[0m\u001b[0mnumpy\u001b[0m\u001b[0;34m(\u001b[0m\u001b[0;34m)\u001b[0m\u001b[0;34m\u001b[0m\u001b[0;34m\u001b[0m\u001b[0m\n\u001b[0m\u001b[1;32m      2\u001b[0m \u001b[0mval_steps_per_epoch\u001b[0m \u001b[0;34m=\u001b[0m \u001b[0mtf\u001b[0m\u001b[0;34m.\u001b[0m\u001b[0mmath\u001b[0m\u001b[0;34m.\u001b[0m\u001b[0mceil\u001b[0m\u001b[0;34m(\u001b[0m\u001b[0;36m0.1\u001b[0m \u001b[0;34m*\u001b[0m \u001b[0mimage_count\u001b[0m\u001b[0;34m/\u001b[0m\u001b[0mBATCH_SIZE\u001b[0m\u001b[0;34m)\u001b[0m\u001b[0;34m.\u001b[0m\u001b[0mnumpy\u001b[0m\u001b[0;34m(\u001b[0m\u001b[0;34m)\u001b[0m\u001b[0;34m\u001b[0m\u001b[0;34m\u001b[0m\u001b[0m\n\u001b[1;32m      3\u001b[0m \u001b[0;34m\u001b[0m\u001b[0m\n\u001b[1;32m      4\u001b[0m \u001b[0mfine_tune_epochs\u001b[0m \u001b[0;34m=\u001b[0m \u001b[0;36m10\u001b[0m\u001b[0;34m\u001b[0m\u001b[0;34m\u001b[0m\u001b[0m\n\u001b[1;32m      5\u001b[0m \u001b[0mtotal_epochs\u001b[0m \u001b[0;34m=\u001b[0m \u001b[0minitial_epochs\u001b[0m \u001b[0;34m+\u001b[0m \u001b[0mfine_tune_epochs\u001b[0m\u001b[0;34m\u001b[0m\u001b[0;34m\u001b[0m\u001b[0m\n",
            "\u001b[0;31mNameError\u001b[0m: name 'image_count' is not defined"
          ]
        }
      ]
    },
    {
      "cell_type": "markdown",
      "metadata": {
        "id": "4-zQobK-xofw",
        "colab_type": "text"
      },
      "source": [
        "##### **Sequential API**\n",
        "\n",
        "A [Sequential model](https://www.tensorflow.org/guide/keras/sequential_model) is appropriate for a plain stack of layers where each layer has exactly one input tensor and one output tensor.\n",
        "\n"
      ]
    },
    {
      "cell_type": "markdown",
      "metadata": {
        "id": "I4XdQUORAo8h",
        "colab_type": "text"
      },
      "source": [
        "Building a basic model\n",
        "\n",
        "```\n",
        "(input: 784-dimensional vectors)\n",
        "       ↧\n",
        "[Dense (64 units, relu activation)]\n",
        "       ↧\n",
        "[Dense (64 units, relu activation)]\n",
        "       ↧\n",
        "[Dense (10 units, softmax activation)]\n",
        "       ↧\n",
        "(output: logits of a probability distribution over 10 classes)\n",
        "```"
      ]
    },
    {
      "cell_type": "code",
      "metadata": {
        "id": "eOK5QlM010ef",
        "colab_type": "code",
        "colab": {}
      },
      "source": [
        "model = tf.keras.models.Sequential()\n",
        "model.add(Dense(64, activation='relu'))\n",
        "model.add(Dense(64, activation='relu'))\n",
        "model.add(Dense(10, activation='softmax'))\n",
        "\n",
        "# or\n",
        "\n",
        "model = tf.keras.models.Sequential([\n",
        "        Dense(64, activation='relu'),\n",
        "        Dense(64, activation='relu'),\n",
        "        Dense(10, activation='softmax'),\n",
        "        ])"
      ],
      "execution_count": null,
      "outputs": []
    },
    {
      "cell_type": "markdown",
      "metadata": {
        "id": "9fnGOjJctefC",
        "colab_type": "text"
      },
      "source": [
        "Two other basic features of Keras that you'll find useful are:\n",
        "\n",
        "* model.summary(): prints the details of your layers in a table with the sizes of its inputs/outputs\n",
        "* plot_model(): plots your graph in a nice layout. You can even save it as \".png\" using SVG() if you'd like to share it on social media ;). It is saved in \"File\" then \"Open...\" in the upper bar of the notebook."
      ]
    },
    {
      "cell_type": "code",
      "metadata": {
        "id": "V_T3BK0o3S63",
        "colab_type": "code",
        "colab": {
          "base_uri": "https://localhost:8080/",
          "height": 259
        },
        "outputId": "90a8a9a4-ada6-4e5f-d124-2a893fa62330"
      },
      "source": [
        "# Call the model on a test input\n",
        "x = tf.keras.Input(shape=(784,))\n",
        "y = model(x)\n",
        "model.summary()"
      ],
      "execution_count": null,
      "outputs": [
        {
          "output_type": "stream",
          "text": [
            "Model: \"sequential_13\"\n",
            "_________________________________________________________________\n",
            "Layer (type)                 Output Shape              Param #   \n",
            "=================================================================\n",
            "dense_39 (Dense)             (None, 64)                50240     \n",
            "_________________________________________________________________\n",
            "dense_40 (Dense)             (None, 64)                4160      \n",
            "_________________________________________________________________\n",
            "dense_41 (Dense)             (None, 10)                650       \n",
            "=================================================================\n",
            "Total params: 55,050\n",
            "Trainable params: 55,050\n",
            "Non-trainable params: 0\n",
            "_________________________________________________________________\n"
          ],
          "name": "stdout"
        }
      ]
    },
    {
      "cell_type": "code",
      "metadata": {
        "id": "fNxdx8QYtdqk",
        "colab_type": "code",
        "colab": {}
      },
      "source": [
        "from IPython.display import SVG\n",
        "from keras.utils import plot_model\n",
        "from keras.utils.vis_utils import model_to_dot\n",
        "plot_model(model, to_file='mymodel.png')\n",
        "SVG(model_to_dot(model).create(prog='dot', format='svg'))"
      ],
      "execution_count": null,
      "outputs": []
    },
    {
      "cell_type": "markdown",
      "metadata": {
        "id": "-L-k4MSEzVId",
        "colab_type": "text"
      },
      "source": [
        "###### More Examples"
      ]
    },
    {
      "cell_type": "code",
      "metadata": {
        "colab_type": "code",
        "id": "h0ixCzxoRs2C",
        "colab": {}
      },
      "source": [
        "def build_lenet5():\n",
        "    model = tf.keras.models.Sequential([\n",
        "        Conv2D(32, kernel_size=(3, 3), activation='relu', input_shape=(28, 28, 1)),\n",
        "        Conv2D(64, kernel_size=(3, 3), activation='relu'),\n",
        "        MaxPooling2D(pool_size=(2, 2)),\n",
        "        Dropout(0.25),\n",
        "        Flatten(),\n",
        "        Dense(128, activation='relu'),\n",
        "        Dropout(0.5),\n",
        "        Dense(10, activation='softmax'),\n",
        "    ])\n",
        "    return model\n",
        "\n",
        "model = build_lenet5()\n",
        "model.summary()"
      ],
      "execution_count": null,
      "outputs": []
    },
    {
      "cell_type": "code",
      "metadata": {
        "colab_type": "code",
        "id": "G26EztumRueh",
        "colab": {}
      },
      "source": [
        "def build_alexnet():\n",
        "    model = tf.keras.models.Sequential([\n",
        "        Conv2D(96, kernel_size=(11, 11), strides=(4,4), activation='relu', input_shape=(224, 224, 3)),\n",
        "        MaxPooling2D(pool_size=(3, 3), strides=(2, 2)),\n",
        "        BatchNormalization(),\n",
        "\n",
        "        Conv2D(256, kernel_size=(5, 5), activation='relu'),\n",
        "        MaxPooling2D(pool_size=(3, 3), strides=(2, 2)),\n",
        "        BatchNormalization(),\n",
        "\n",
        "        Conv2D(384, kernel_size=(3, 3), padding='same', activation='relu'),\n",
        "        Conv2D(384, kernel_size=(3, 3), padding='same', activation='relu'),\n",
        "        Conv2D(256, kernel_size=(3, 3), padding='same', activation='relu'),\n",
        "        MaxPooling2D(pool_size=(3, 3), strides=(2, 2)),\n",
        "        BatchNormalization(),\n",
        "\n",
        "        Flatten(),\n",
        "        Dense(4096, activation='relu'),\n",
        "        Dropout(0.5),\n",
        "        Dense(4096, activation='relu'),\n",
        "        Dropout(0.5),\n",
        "        Dense(2, activation='softmax')\n",
        "    ])\n",
        "    return model\n",
        "\n",
        "model = build_alexnet()\n",
        "model.summary()"
      ],
      "execution_count": null,
      "outputs": []
    },
    {
      "cell_type": "markdown",
      "metadata": {
        "id": "Dbuhxmtq38HS",
        "colab_type": "text"
      },
      "source": [
        "##### **Functional API**\n",
        "\n",
        "The [Keras functional API](https://www.tensorflow.org/guide/keras/functional) is a way to create models that is more flexible than the tf.keras.Sequential API.\n"
      ]
    },
    {
      "cell_type": "markdown",
      "metadata": {
        "id": "-u8FmxzfAs5g",
        "colab_type": "text"
      },
      "source": [
        "We're now building the same model as in the sequential API.\n",
        "\n",
        "```\n",
        "(input: 784-dimensional vectors)\n",
        "       ↧\n",
        "[Dense (64 units, relu activation)]\n",
        "       ↧\n",
        "[Dense (64 units, relu activation)]\n",
        "       ↧\n",
        "[Dense (10 units, softmax activation)]\n",
        "       ↧\n",
        "(output: logits of a probability distribution over 10 classes)\n",
        "```\n"
      ]
    },
    {
      "cell_type": "code",
      "metadata": {
        "id": "wqfiv3OOBB2R",
        "colab_type": "code",
        "colab": {}
      },
      "source": [
        "inputs = tf.keras.Input(shape=(784,))\n",
        "dense = tf.keras.layers.Dense(64, activation=\"relu\")\n",
        "x = dense(inputs)\n",
        "\n",
        "x = tf.keras.layers.Dense(64, activation=\"relu\")(x)\n",
        "outputs = tf.keras.layers.Dense(10)(x)\n",
        "\n",
        "model = tf.keras.Model(inputs=inputs, outputs=outputs, name=\"func_model\")"
      ],
      "execution_count": null,
      "outputs": []
    },
    {
      "cell_type": "code",
      "metadata": {
        "id": "Fx1wp-GEBcsJ",
        "colab_type": "code",
        "colab": {}
      },
      "source": [
        "model.summary()"
      ],
      "execution_count": null,
      "outputs": []
    },
    {
      "cell_type": "markdown",
      "metadata": {
        "id": "fxoQ9pEh0rFD",
        "colab_type": "text"
      },
      "source": [
        "#### <u><b>2. Optimize Layers</u></b>\n"
      ]
    },
    {
      "cell_type": "markdown",
      "metadata": {
        "colab_type": "text",
        "id": "cilqgJff7Djy"
      },
      "source": [
        "##### **Activation Functions**\n",
        "\n",
        "Choosing activation functions via [tf.keras.activations](https://www.tensorflow.org/versions/r2.0/api_docs/python/tf/keras/activations)\n"
      ]
    },
    {
      "cell_type": "code",
      "metadata": {
        "id": "UkDIey327ezK",
        "colab_type": "code",
        "colab": {}
      },
      "source": [
        "# e.g. sigmoid\n",
        "Dense(64, activation=tf.keras.activations.sigmoid)"
      ],
      "execution_count": null,
      "outputs": []
    },
    {
      "cell_type": "markdown",
      "metadata": {
        "colab_type": "text",
        "id": "8nOEF1MN7DzQ"
      },
      "source": [
        "##### **Initializers**\n",
        "\n",
        "Initializing the layer parameters via [tf.keras.initializers](https://www.tensorflow.org/versions/r2.0/api_docs/python/tf/keras/initializers)\n"
      ]
    },
    {
      "cell_type": "code",
      "metadata": {
        "id": "TtOG7mo-7jcI",
        "colab_type": "code",
        "colab": {}
      },
      "source": [
        "tf.random_normal_initializer(\n",
        "    mean=0.0, stddev=0.05, seed=None\n",
        ")"
      ],
      "execution_count": null,
      "outputs": []
    },
    {
      "cell_type": "markdown",
      "metadata": {
        "colab_type": "text",
        "id": "7IGRmZLX7mfR"
      },
      "source": [
        "##### **Regulizers**\n",
        "\n",
        "Applying regularization to the layer parameters (to prevent overfitting) via [tf.keras.regularizers](https://www.tensorflow.org/versions/r2.0/api_docs/python/tf/keras/regularizers)\n",
        "\n",
        "**These layers expose 3 keyword arguments:**\n",
        "\n",
        "* kernel_regularizer: Regularizer to apply a penalty on the layer's kernel\n",
        "* bias_regularizer: Regularizer to apply a penalty on the layer's bias\n",
        "* activity_regularizer: Regularizer to apply a penalty on the layer's output\n",
        "\n",
        "\n"
      ]
    },
    {
      "cell_type": "code",
      "metadata": {
        "id": "ZTzCzaaP7nAV",
        "colab_type": "code",
        "colab": {}
      },
      "source": [
        "layer = tf.keras.layers.Dense(\n",
        "    5,\n",
        "    kernel_initializer=tf.keras.regularizers.l1(0.01),\n",
        "    kernel_regularizer=tf.keras.regularizers.l1(0.01),\n",
        "    activity_regularizer=tf.keras.regularizers.l2(0.01))"
      ],
      "execution_count": null,
      "outputs": []
    },
    {
      "cell_type": "markdown",
      "metadata": {
        "colab_type": "text",
        "id": "yZPbTtnf6o8U"
      },
      "source": [
        "#### <u><b>3. Model Compilation</u></b>\n"
      ]
    },
    {
      "cell_type": "markdown",
      "metadata": {
        "colab_type": "text",
        "id": "KO5P4_r77iap"
      },
      "source": [
        "##### **Optimizers**\n",
        "\n",
        "Optimizers via [tf.keras.optimizers](https://www.tensorflow.org/versions/r2.0/api_docs/python/tf/keras/optimizers)\n"
      ]
    },
    {
      "cell_type": "code",
      "metadata": {
        "id": "Z30Oai2e8ZCu",
        "colab_type": "code",
        "colab": {}
      },
      "source": [
        "# e.g. adam\n",
        "adam = tf.keras.optimizers.Adam(learning_rate=0.001)"
      ],
      "execution_count": null,
      "outputs": []
    },
    {
      "cell_type": "markdown",
      "metadata": {
        "colab_type": "text",
        "id": "zr9nLcoB7ihs"
      },
      "source": [
        "##### **Loss functions**\n",
        "\n",
        "Loss functions via [tf.keras.losses](https://www.tensorflow.org/versions/r2.0/api_docs/python/tf/keras/losses)"
      ]
    },
    {
      "cell_type": "code",
      "metadata": {
        "id": "8pdH0p1W8jcU",
        "colab_type": "code",
        "colab": {}
      },
      "source": [
        "model.compile(optimizer='sgd', loss=tf.keras.losses.BinaryCrossentropy())\n",
        "\n",
        "#or\n",
        "\n",
        "model.compile(optimizer=adam, loss=tf.keras.losses.CategoricalCrossentropy())"
      ],
      "execution_count": null,
      "outputs": []
    },
    {
      "cell_type": "markdown",
      "metadata": {
        "colab_type": "text",
        "id": "e-V3ZwEq7ipo"
      },
      "source": [
        "##### **Metrics**\n",
        "\n",
        "Performance metrics via [tf.keras.metrics](https://www.tensorflow.org/versions/r2.0/api_docs/python/tf/keras/metrics)\n"
      ]
    },
    {
      "cell_type": "code",
      "metadata": {
        "id": "XWkNW9jM7eeU",
        "colab_type": "code",
        "colab": {}
      },
      "source": [
        "model.compile('sgd', loss='mse', metrics=[tf.keras.metrics.Accuracy()])\n",
        "\n",
        "#or\n",
        "\n",
        "model.compile('sgd', loss='mse', metrics=['accuracy'])"
      ],
      "execution_count": null,
      "outputs": []
    },
    {
      "cell_type": "markdown",
      "metadata": {
        "colab_type": "text",
        "id": "vr_jkw736pHi"
      },
      "source": [
        "#### <u><b>4. Optimize Training and Architecture</u></b>\n"
      ]
    },
    {
      "cell_type": "markdown",
      "metadata": {
        "id": "2GeKLJ1iVdWX",
        "colab_type": "text"
      },
      "source": [
        "## Extras"
      ]
    },
    {
      "cell_type": "markdown",
      "metadata": {
        "colab_type": "text",
        "id": "UA7mMMVoRwcL"
      },
      "source": [
        "##### **Keras Tuner**\n",
        "\n",
        "`python3 -m pip install -U keras-tuner`\n",
        "\n",
        "Documentation [Keras Tuner](https://keras-team.github.io/keras-tuner/)"
      ]
    },
    {
      "cell_type": "code",
      "metadata": {
        "colab_type": "code",
        "id": "JgvD6hYHo3Jm",
        "colab": {
          "base_uri": "https://localhost:8080/",
          "height": 504
        },
        "outputId": "38c30e9c-bdd4-46da-8a73-06e262de64d0"
      },
      "source": [
        "!python3 -m pip install -U keras-tuner"
      ],
      "execution_count": null,
      "outputs": [
        {
          "output_type": "stream",
          "text": [
            "Collecting keras-tuner\n",
            "\u001b[?25l  Downloading https://files.pythonhosted.org/packages/a7/f7/4b41b6832abf4c9bef71a664dc563adb25afc5812831667c6db572b1a261/keras-tuner-1.0.1.tar.gz (54kB)\n",
            "\r\u001b[K     |██████                          | 10kB 28.5MB/s eta 0:00:01\r\u001b[K     |████████████                    | 20kB 32.4MB/s eta 0:00:01\r\u001b[K     |██████████████████              | 30kB 29.5MB/s eta 0:00:01\r\u001b[K     |████████████████████████        | 40kB 12.7MB/s eta 0:00:01\r\u001b[K     |██████████████████████████████  | 51kB 11.1MB/s eta 0:00:01\r\u001b[K     |████████████████████████████████| 61kB 6.5MB/s \n",
            "\u001b[?25hRequirement already satisfied, skipping upgrade: future in /usr/local/lib/python3.6/dist-packages (from keras-tuner) (0.16.0)\n",
            "Requirement already satisfied, skipping upgrade: numpy in /usr/local/lib/python3.6/dist-packages (from keras-tuner) (1.18.3)\n",
            "Requirement already satisfied, skipping upgrade: tabulate in /usr/local/lib/python3.6/dist-packages (from keras-tuner) (0.8.7)\n",
            "Collecting terminaltables\n",
            "  Downloading https://files.pythonhosted.org/packages/9b/c4/4a21174f32f8a7e1104798c445dacdc1d4df86f2f26722767034e4de4bff/terminaltables-3.1.0.tar.gz\n",
            "Collecting colorama\n",
            "  Downloading https://files.pythonhosted.org/packages/c9/dc/45cdef1b4d119eb96316b3117e6d5708a08029992b2fee2c143c7a0a5cc5/colorama-0.4.3-py2.py3-none-any.whl\n",
            "Requirement already satisfied, skipping upgrade: tqdm in /usr/local/lib/python3.6/dist-packages (from keras-tuner) (4.38.0)\n",
            "Requirement already satisfied, skipping upgrade: requests in /usr/local/lib/python3.6/dist-packages (from keras-tuner) (2.23.0)\n",
            "Requirement already satisfied, skipping upgrade: scipy in /usr/local/lib/python3.6/dist-packages (from keras-tuner) (1.4.1)\n",
            "Requirement already satisfied, skipping upgrade: scikit-learn in /usr/local/lib/python3.6/dist-packages (from keras-tuner) (0.22.2.post1)\n",
            "Requirement already satisfied, skipping upgrade: certifi>=2017.4.17 in /usr/local/lib/python3.6/dist-packages (from requests->keras-tuner) (2020.4.5.1)\n",
            "Requirement already satisfied, skipping upgrade: idna<3,>=2.5 in /usr/local/lib/python3.6/dist-packages (from requests->keras-tuner) (2.9)\n",
            "Requirement already satisfied, skipping upgrade: urllib3!=1.25.0,!=1.25.1,<1.26,>=1.21.1 in /usr/local/lib/python3.6/dist-packages (from requests->keras-tuner) (1.24.3)\n",
            "Requirement already satisfied, skipping upgrade: chardet<4,>=3.0.2 in /usr/local/lib/python3.6/dist-packages (from requests->keras-tuner) (3.0.4)\n",
            "Requirement already satisfied, skipping upgrade: joblib>=0.11 in /usr/local/lib/python3.6/dist-packages (from scikit-learn->keras-tuner) (0.14.1)\n",
            "Building wheels for collected packages: keras-tuner, terminaltables\n",
            "  Building wheel for keras-tuner (setup.py) ... \u001b[?25l\u001b[?25hdone\n",
            "  Created wheel for keras-tuner: filename=keras_tuner-1.0.1-cp36-none-any.whl size=73200 sha256=dad872120f4dbcd8df810e77d3db6894479aa27ffb0ce1ee5c0b8f05b563b8cf\n",
            "  Stored in directory: /root/.cache/pip/wheels/b9/cc/62/52716b70dd90f3db12519233c3a93a5360bc672da1a10ded43\n",
            "  Building wheel for terminaltables (setup.py) ... \u001b[?25l\u001b[?25hdone\n",
            "  Created wheel for terminaltables: filename=terminaltables-3.1.0-cp36-none-any.whl size=15356 sha256=9aafafc87679413ebbc54c3c6fbb21441da1c897955a8250079d75180647c765\n",
            "  Stored in directory: /root/.cache/pip/wheels/30/6b/50/6c75775b681fb36cdfac7f19799888ef9d8813aff9e379663e\n",
            "Successfully built keras-tuner terminaltables\n",
            "Installing collected packages: terminaltables, colorama, keras-tuner\n",
            "Successfully installed colorama-0.4.3 keras-tuner-1.0.1 terminaltables-3.1.0\n"
          ],
          "name": "stdout"
        }
      ]
    },
    {
      "cell_type": "markdown",
      "metadata": {
        "id": "qmdfMNopSu2L",
        "colab_type": "text"
      },
      "source": [
        "**Example with basic dense layers**"
      ]
    },
    {
      "cell_type": "code",
      "metadata": {
        "id": "N400t5jHSTIV",
        "colab_type": "code",
        "colab": {}
      },
      "source": [
        "(img_train, label_train), (img_test, label_test) = keras.datasets.fashion_mnist.load_data()\n",
        "# Normalize pixel values between 0 and 1\n",
        "img_train = img_train.astype('float32') / 255.0\n",
        "img_test = img_test.astype('float32') / 255.0\n",
        "\n",
        "def model_builder(hp):\n",
        "  model = keras.Sequential()\n",
        "  model.add(keras.layers.Flatten(input_shape=(28, 28)))\n",
        "  \n",
        "  # Tune the number of units in the first Dense layer\n",
        "  # Choose an optimal value between 32-512\n",
        "  hp_units = hp.Int('units', min_value = 32, max_value = 512, step = 32)\n",
        "  model.add(keras.layers.Dense(units = hp_units, activation = 'relu'))\n",
        "  model.add(keras.layers.Dense(10))\n",
        "\n",
        "  # Tune the learning rate for the optimizer \n",
        "  # Choose an optimal value from 0.01, 0.001, or 0.0001\n",
        "  hp_learning_rate = hp.Choice('learning_rate', values = [1e-2, 1e-3, 1e-4]) \n",
        "  \n",
        "  model.compile(optimizer = keras.optimizers.Adam(learning_rate = hp_learning_rate),\n",
        "                loss = keras.losses.SparseCategoricalCrossentropy(from_logits = True), \n",
        "                metrics = ['accuracy'])\n",
        "  \n",
        "  return model\n",
        "\n",
        "tuner = kt.Hyperband(model_builder,\n",
        "                     objective = 'val_accuracy', \n",
        "                     max_epochs = 10,\n",
        "                     factor = 3,\n",
        "                     directory = 'my_dir',\n",
        "                     project_name = 'intro_to_kt')   \n",
        "\n",
        "class ClearTrainingOutput(tf.keras.callbacks.Callback):\n",
        "  def on_train_end(*args, **kwargs):\n",
        "    IPython.display.clear_output(wait = True)\n",
        "\n",
        "    \n",
        "\n",
        "tuner.search(img_train, label_train, epochs = 10, validation_data = (img_test, label_test), callbacks = [ClearTrainingOutput()])\n",
        "\n",
        "# Get the optimal hyperparameters\n",
        "best_hps = tuner.get_best_hyperparameters(num_trials = 1)[0]\n",
        "\n",
        "print(f\"\"\"\n",
        "The hyperparameter search is complete. The optimal number of units in the first densely-connected\n",
        "layer is {best_hps.get('units')} and the optimal learning rate for the optimizer\n",
        "is {best_hps.get('learning_rate')}.\n",
        "\"\"\")"
      ],
      "execution_count": null,
      "outputs": []
    },
    {
      "cell_type": "code",
      "metadata": {
        "id": "HyKPOYtZSpRg",
        "colab_type": "code",
        "colab": {}
      },
      "source": [
        "# Build the model with the optimal hyperparameters and train it on the data\n",
        "model = tuner.hypermodel.build(best_hps)\n",
        "model.fit(img_train, label_train, epochs = 10, validation_data = (img_test, label_test))"
      ],
      "execution_count": null,
      "outputs": []
    },
    {
      "cell_type": "markdown",
      "metadata": {
        "id": "YJC97G1BSq0A",
        "colab_type": "text"
      },
      "source": [
        "**Example with CNN model**"
      ]
    },
    {
      "cell_type": "code",
      "metadata": {
        "colab_type": "code",
        "id": "UbNIbsuzRuzU",
        "colab": {}
      },
      "source": [
        "import kerastuner as kt\n",
        "import tensorflow as tf\n",
        "\n",
        "def build_model(hp):\n",
        "    \"\"\"Builds a convolutional model.\"\"\"\n",
        "    inputs = tf.keras.Input(shape=(28, 28, 1))\n",
        "    x = inputs\n",
        "    for i in range(hp.Int('conv_layers', 1, 3, default=3)):\n",
        "        x = tf.keras.layers.Conv2D(\n",
        "            filters=hp.Int('filters_' + str(i), 4, 32, step=4, default=8),\n",
        "            kernel_size=hp.Int('kernel_size_' + str(i), 3, 5),\n",
        "            activation='relu',\n",
        "            padding='same')(x)\n",
        "\n",
        "        if hp.Choice('pooling' + str(i), ['max', 'avg']) == 'max':\n",
        "            x = tf.keras.layers.MaxPooling2D()(x)\n",
        "        else:\n",
        "            x = tf.keras.layers.AveragePooling2D()(x)\n",
        "\n",
        "        x = tf.keras.layers.BatchNormalization()(x)\n",
        "        x = tf.keras.layers.ReLU()(x)\n",
        "\n",
        "    if hp.Choice('global_pooling', ['max', 'avg']) == 'max':\n",
        "        x = tf.keras.layers.GlobalMaxPooling2D()(x)\n",
        "    else:\n",
        "        x = tf.keras.layers.GlobalAveragePooling2D()(x)\n",
        "    outputs = tf.keras.layers.Dense(10, activation='softmax')(x)\n",
        "\n",
        "    model = tf.keras.Model(inputs, outputs)\n",
        "\n",
        "    optimizer = hp.Choice('optimizer', ['adam', 'sgd'])\n",
        "    model.compile(optimizer, loss='sparse_categorical_crossentropy', metrics=['accuracy'])\n",
        "    return model"
      ],
      "execution_count": null,
      "outputs": []
    },
    {
      "cell_type": "code",
      "metadata": {
        "colab_type": "code",
        "id": "5g8MeWf5THv2",
        "colab": {
          "base_uri": "https://localhost:8080/",
          "height": 200,
          "referenced_widgets": [
            "98ca440622f140d194de64a3fddf519d",
            "f64f108576a94c3bb537d253d5552655",
            "cfaedc7021eb461984037510f4a87a56",
            "31fae62eb3d04c2a9cdac613fcdc5195",
            "b141fe0fb24a454089ce95c2834fbfa7",
            "ebecd0cc25174a10a1fdec1684c5078b",
            "e9f3ceca166a417693661a09e51ee01d",
            "f9461b7b4c354a8c9beb105049a3d07a"
          ]
        },
        "outputId": "611dfbd4-6f62-4891-c521-a78922bffb53"
      },
      "source": [
        "import tensorflow_datasets as tfds\n",
        "\n",
        "def preprocess(ds):\n",
        "    \"\"\"Puts the mnist dataset in the format Keras expects, (features, labels).\"\"\"\n",
        "    x = tf.cast(ds['image'], tf.float32) / 255.0\n",
        "    return x, ds['label']\n",
        "\n",
        "mnist_data = tfds.load('mnist')\n",
        "mnist_train, mnist_test = mnist_data['train'], mnist_data['test']\n",
        "mnist_train = mnist_train.map(preprocess).shuffle(1000).batch(100).repeat()\n",
        "mnist_test = mnist_test.map(preprocess).batch(100)"
      ],
      "execution_count": null,
      "outputs": [
        {
          "output_type": "stream",
          "text": [
            "Downloading and preparing dataset mnist/3.0.0 (download: 11.06 MiB, generated: Unknown size, total: 11.06 MiB) to /root/tensorflow_datasets/mnist/3.0.0...\n"
          ],
          "name": "stdout"
        },
        {
          "output_type": "stream",
          "text": [
            "WARNING:absl:Dataset mnist is hosted on GCS. It will automatically be downloaded to your\n",
            "local data directory. If you'd instead prefer to read directly from our public\n",
            "GCS bucket (recommended if you're running on GCP), you can instead set\n",
            "data_dir=gs://tfds-data/datasets.\n",
            "\n"
          ],
          "name": "stderr"
        },
        {
          "output_type": "display_data",
          "data": {
            "application/vnd.jupyter.widget-view+json": {
              "model_id": "98ca440622f140d194de64a3fddf519d",
              "version_minor": 0,
              "version_major": 2
            },
            "text/plain": [
              "HBox(children=(IntProgress(value=0, description='Dl Completed...', max=4, style=ProgressStyle(description_widt…"
            ]
          },
          "metadata": {
            "tags": []
          }
        },
        {
          "output_type": "stream",
          "text": [
            "\n",
            "\n",
            "Dataset mnist downloaded and prepared to /root/tensorflow_datasets/mnist/3.0.0. Subsequent calls will reuse this data.\n"
          ],
          "name": "stdout"
        }
      ]
    },
    {
      "cell_type": "code",
      "metadata": {
        "colab_type": "code",
        "id": "ZR8sA4TFTHy_",
        "colab": {
          "base_uri": "https://localhost:8080/",
          "height": 1000
        },
        "outputId": "7f01e260-4157-4081-bfda-e84c14179296"
      },
      "source": [
        "# Runs the hyperparameter search.\n",
        "\n",
        "tuner = kt.RandomSearch(\n",
        "    build_model,\n",
        "    objective='val_accuracy',\n",
        "    max_trials=5,\n",
        "    executions_per_trial=3,\n",
        "    directory='results_dir',\n",
        "    project_name='mnist')\n",
        "\n",
        "tuner.search(mnist_train,\n",
        "             steps_per_epoch=600,\n",
        "             validation_data=mnist_test,\n",
        "             validation_steps=100,\n",
        "             epochs=20,\n",
        "             callbacks=[tf.keras.callbacks.EarlyStopping('val_accuracy')])"
      ],
      "execution_count": null,
      "outputs": [
        {
          "output_type": "stream",
          "text": [
            "Epoch 1/20\n",
            "600/600 [==============================] - 13s 22ms/step - loss: 1.2972 - accuracy: 0.5842 - val_loss: 0.9042 - val_accuracy: 0.7174\n",
            "Epoch 2/20\n",
            "600/600 [==============================] - 13s 21ms/step - loss: 0.5745 - accuracy: 0.8223 - val_loss: 0.4956 - val_accuracy: 0.8437\n",
            "Epoch 3/20\n",
            "600/600 [==============================] - 10s 17ms/step - loss: 0.4111 - accuracy: 0.8790 - val_loss: 0.4063 - val_accuracy: 0.8767\n",
            "Epoch 4/20\n",
            "600/600 [==============================] - 10s 17ms/step - loss: 0.3395 - accuracy: 0.9007 - val_loss: 0.4459 - val_accuracy: 0.8628\n",
            "Epoch 1/20\n",
            "600/600 [==============================] - 13s 22ms/step - loss: 1.3834 - accuracy: 0.5435 - val_loss: 0.9306 - val_accuracy: 0.6987\n",
            "Epoch 2/20\n",
            "600/600 [==============================] - 11s 19ms/step - loss: 0.5337 - accuracy: 0.8372 - val_loss: 0.4227 - val_accuracy: 0.8695\n",
            "Epoch 3/20\n",
            "600/600 [==============================] - 10s 17ms/step - loss: 0.3877 - accuracy: 0.8829 - val_loss: 0.3933 - val_accuracy: 0.8746\n",
            "Epoch 4/20\n",
            "600/600 [==============================] - 12s 19ms/step - loss: 0.3378 - accuracy: 0.8978 - val_loss: 0.3205 - val_accuracy: 0.8986\n",
            "Epoch 5/20\n",
            "600/600 [==============================] - 11s 18ms/step - loss: 0.3080 - accuracy: 0.9068 - val_loss: 0.3086 - val_accuracy: 0.9043\n",
            "Epoch 6/20\n",
            "600/600 [==============================] - 10s 17ms/step - loss: 0.2851 - accuracy: 0.9138 - val_loss: 0.2684 - val_accuracy: 0.9176\n",
            "Epoch 7/20\n",
            "600/600 [==============================] - 10s 17ms/step - loss: 0.2659 - accuracy: 0.9193 - val_loss: 0.2373 - val_accuracy: 0.9260\n",
            "Epoch 8/20\n",
            "600/600 [==============================] - 12s 20ms/step - loss: 0.2521 - accuracy: 0.9230 - val_loss: 0.2338 - val_accuracy: 0.9289\n",
            "Epoch 9/20\n",
            "600/600 [==============================] - 10s 17ms/step - loss: 0.2386 - accuracy: 0.9280 - val_loss: 0.2258 - val_accuracy: 0.9307\n",
            "Epoch 10/20\n",
            "600/600 [==============================] - 10s 17ms/step - loss: 0.2280 - accuracy: 0.9312 - val_loss: 0.2444 - val_accuracy: 0.9271\n",
            "Epoch 1/20\n",
            "600/600 [==============================] - 13s 22ms/step - loss: 1.2721 - accuracy: 0.5854 - val_loss: 0.8106 - val_accuracy: 0.7333\n",
            "Epoch 2/20\n",
            "600/600 [==============================] - 11s 18ms/step - loss: 0.5704 - accuracy: 0.8248 - val_loss: 0.4566 - val_accuracy: 0.8582\n",
            "Epoch 3/20\n",
            "600/600 [==============================] - 10s 17ms/step - loss: 0.4198 - accuracy: 0.8732 - val_loss: 0.3614 - val_accuracy: 0.8901\n",
            "Epoch 4/20\n",
            "600/600 [==============================] - 11s 19ms/step - loss: 0.3477 - accuracy: 0.8947 - val_loss: 0.3139 - val_accuracy: 0.9042\n",
            "Epoch 5/20\n",
            "600/600 [==============================] - 10s 17ms/step - loss: 0.3102 - accuracy: 0.9068 - val_loss: 0.2953 - val_accuracy: 0.9123\n",
            "Epoch 6/20\n",
            "600/600 [==============================] - 10s 17ms/step - loss: 0.2854 - accuracy: 0.9137 - val_loss: 0.2600 - val_accuracy: 0.9193\n",
            "Epoch 7/20\n",
            "600/600 [==============================] - 10s 17ms/step - loss: 0.2677 - accuracy: 0.9184 - val_loss: 0.2561 - val_accuracy: 0.9217\n",
            "Epoch 8/20\n",
            "600/600 [==============================] - 12s 20ms/step - loss: 0.2526 - accuracy: 0.9237 - val_loss: 0.2445 - val_accuracy: 0.9274\n",
            "Epoch 9/20\n",
            "600/600 [==============================] - 10s 17ms/step - loss: 0.2429 - accuracy: 0.9263 - val_loss: 0.2365 - val_accuracy: 0.9299\n",
            "Epoch 10/20\n",
            "600/600 [==============================] - 10s 17ms/step - loss: 0.2334 - accuracy: 0.9302 - val_loss: 0.2333 - val_accuracy: 0.9300\n",
            "Epoch 11/20\n",
            "600/600 [==============================] - 10s 17ms/step - loss: 0.2242 - accuracy: 0.9324 - val_loss: 0.2129 - val_accuracy: 0.9368\n",
            "Epoch 12/20\n",
            "600/600 [==============================] - 10s 17ms/step - loss: 0.2181 - accuracy: 0.9336 - val_loss: 0.2082 - val_accuracy: 0.9390\n",
            "Epoch 13/20\n",
            "600/600 [==============================] - 10s 17ms/step - loss: 0.2132 - accuracy: 0.9350 - val_loss: 0.2213 - val_accuracy: 0.9340\n"
          ],
          "name": "stdout"
        },
        {
          "output_type": "display_data",
          "data": {
            "text/html": [
              "<span style=\"color:#4527A0\"><h1 style=\"font-size:18px\">Trial complete</h1></span>"
            ],
            "text/plain": [
              "<IPython.core.display.HTML object>"
            ]
          },
          "metadata": {
            "tags": []
          }
        },
        {
          "output_type": "display_data",
          "data": {
            "text/html": [
              "<span style=\"color:#4527A0\"><h1 style=\"font-size:18px\">Trial summary</h1></span>"
            ],
            "text/plain": [
              "<IPython.core.display.HTML object>"
            ]
          },
          "metadata": {
            "tags": []
          }
        },
        {
          "output_type": "display_data",
          "data": {
            "text/html": [
              "<span style=\"color:cyan\"> |-Trial ID: 912089b23b64f8bc26da3ed140fc240c</span>"
            ],
            "text/plain": [
              "<IPython.core.display.HTML object>"
            ]
          },
          "metadata": {
            "tags": []
          }
        },
        {
          "output_type": "display_data",
          "data": {
            "text/html": [
              "<span style=\"color:cyan\"> |-Score: 0.9154666662216187</span>"
            ],
            "text/plain": [
              "<IPython.core.display.HTML object>"
            ]
          },
          "metadata": {
            "tags": []
          }
        },
        {
          "output_type": "display_data",
          "data": {
            "text/html": [
              "<span style=\"color:cyan\"> |-Best step: 0</span>"
            ],
            "text/plain": [
              "<IPython.core.display.HTML object>"
            ]
          },
          "metadata": {
            "tags": []
          }
        },
        {
          "output_type": "display_data",
          "data": {
            "text/html": [
              "<span style=\"color:#7E57C2\"><h2 style=\"font-size:16px\">Hyperparameters:</h2></span>"
            ],
            "text/plain": [
              "<IPython.core.display.HTML object>"
            ]
          },
          "metadata": {
            "tags": []
          }
        },
        {
          "output_type": "display_data",
          "data": {
            "text/html": [
              "<span style=\"color:cyan\"> |-conv_layers: 2</span>"
            ],
            "text/plain": [
              "<IPython.core.display.HTML object>"
            ]
          },
          "metadata": {
            "tags": []
          }
        },
        {
          "output_type": "display_data",
          "data": {
            "text/html": [
              "<span style=\"color:blue\"> |-filters_0: 12</span>"
            ],
            "text/plain": [
              "<IPython.core.display.HTML object>"
            ]
          },
          "metadata": {
            "tags": []
          }
        },
        {
          "output_type": "display_data",
          "data": {
            "text/html": [
              "<span style=\"color:cyan\"> |-filters_1: 12</span>"
            ],
            "text/plain": [
              "<IPython.core.display.HTML object>"
            ]
          },
          "metadata": {
            "tags": []
          }
        },
        {
          "output_type": "display_data",
          "data": {
            "text/html": [
              "<span style=\"color:blue\"> |-filters_2: 32</span>"
            ],
            "text/plain": [
              "<IPython.core.display.HTML object>"
            ]
          },
          "metadata": {
            "tags": []
          }
        },
        {
          "output_type": "display_data",
          "data": {
            "text/html": [
              "<span style=\"color:cyan\"> |-global_pooling: max</span>"
            ],
            "text/plain": [
              "<IPython.core.display.HTML object>"
            ]
          },
          "metadata": {
            "tags": []
          }
        },
        {
          "output_type": "display_data",
          "data": {
            "text/html": [
              "<span style=\"color:blue\"> |-kernel_size_0: 4</span>"
            ],
            "text/plain": [
              "<IPython.core.display.HTML object>"
            ]
          },
          "metadata": {
            "tags": []
          }
        },
        {
          "output_type": "display_data",
          "data": {
            "text/html": [
              "<span style=\"color:cyan\"> |-kernel_size_1: 3</span>"
            ],
            "text/plain": [
              "<IPython.core.display.HTML object>"
            ]
          },
          "metadata": {
            "tags": []
          }
        },
        {
          "output_type": "display_data",
          "data": {
            "text/html": [
              "<span style=\"color:blue\"> |-kernel_size_2: 3</span>"
            ],
            "text/plain": [
              "<IPython.core.display.HTML object>"
            ]
          },
          "metadata": {
            "tags": []
          }
        },
        {
          "output_type": "display_data",
          "data": {
            "text/html": [
              "<span style=\"color:cyan\"> |-optimizer: sgd</span>"
            ],
            "text/plain": [
              "<IPython.core.display.HTML object>"
            ]
          },
          "metadata": {
            "tags": []
          }
        },
        {
          "output_type": "display_data",
          "data": {
            "text/html": [
              "<span style=\"color:blue\"> |-pooling0: max</span>"
            ],
            "text/plain": [
              "<IPython.core.display.HTML object>"
            ]
          },
          "metadata": {
            "tags": []
          }
        },
        {
          "output_type": "display_data",
          "data": {
            "text/html": [
              "<span style=\"color:cyan\"> |-pooling1: max</span>"
            ],
            "text/plain": [
              "<IPython.core.display.HTML object>"
            ]
          },
          "metadata": {
            "tags": []
          }
        },
        {
          "output_type": "display_data",
          "data": {
            "text/html": [
              "<span style=\"color:blue\"> |-pooling2: max</span>"
            ],
            "text/plain": [
              "<IPython.core.display.HTML object>"
            ]
          },
          "metadata": {
            "tags": []
          }
        },
        {
          "output_type": "stream",
          "text": [
            "Epoch 1/20\n",
            "600/600 [==============================] - 14s 23ms/step - loss: 0.6650 - accuracy: 0.8317 - val_loss: 0.5789 - val_accuracy: 0.9115\n",
            "Epoch 2/20\n",
            "600/600 [==============================] - 11s 19ms/step - loss: 0.2103 - accuracy: 0.9509 - val_loss: 0.1762 - val_accuracy: 0.9595\n",
            "Epoch 3/20\n",
            "600/600 [==============================] - 11s 18ms/step - loss: 0.1447 - accuracy: 0.9629 - val_loss: 0.1380 - val_accuracy: 0.9616\n",
            "Epoch 4/20\n",
            "600/600 [==============================] - 12s 20ms/step - loss: 0.1152 - accuracy: 0.9700 - val_loss: 0.1105 - val_accuracy: 0.9707\n",
            "Epoch 5/20\n",
            "600/600 [==============================] - 11s 18ms/step - loss: 0.0977 - accuracy: 0.9742 - val_loss: 0.1446 - val_accuracy: 0.9600\n",
            "Epoch 1/20\n",
            "600/600 [==============================] - 14s 24ms/step - loss: 0.6598 - accuracy: 0.8379 - val_loss: 0.4266 - val_accuracy: 0.9192\n",
            "Epoch 2/20\n",
            "600/600 [==============================] - 12s 20ms/step - loss: 0.1803 - accuracy: 0.9571 - val_loss: 0.1736 - val_accuracy: 0.9535\n",
            "Epoch 3/20\n",
            "600/600 [==============================] - 11s 18ms/step - loss: 0.1255 - accuracy: 0.9685 - val_loss: 0.1123 - val_accuracy: 0.9722\n",
            "Epoch 4/20\n",
            "600/600 [==============================] - 12s 21ms/step - loss: 0.1009 - accuracy: 0.9736 - val_loss: 0.1078 - val_accuracy: 0.9706\n",
            "Epoch 1/20\n",
            "600/600 [==============================] - 14s 24ms/step - loss: 0.6787 - accuracy: 0.8309 - val_loss: 0.5863 - val_accuracy: 0.8799\n",
            "Epoch 2/20\n",
            "600/600 [==============================] - 11s 19ms/step - loss: 0.2118 - accuracy: 0.9498 - val_loss: 0.1755 - val_accuracy: 0.9558\n",
            "Epoch 3/20\n",
            "600/600 [==============================] - 10s 17ms/step - loss: 0.1484 - accuracy: 0.9630 - val_loss: 0.1719 - val_accuracy: 0.9558\n"
          ],
          "name": "stdout"
        },
        {
          "output_type": "display_data",
          "data": {
            "text/html": [
              "<span style=\"color:#4527A0\"><h1 style=\"font-size:18px\">Trial complete</h1></span>"
            ],
            "text/plain": [
              "<IPython.core.display.HTML object>"
            ]
          },
          "metadata": {
            "tags": []
          }
        },
        {
          "output_type": "display_data",
          "data": {
            "text/html": [
              "<span style=\"color:#4527A0\"><h1 style=\"font-size:18px\">Trial summary</h1></span>"
            ],
            "text/plain": [
              "<IPython.core.display.HTML object>"
            ]
          },
          "metadata": {
            "tags": []
          }
        },
        {
          "output_type": "display_data",
          "data": {
            "text/html": [
              "<span style=\"color:cyan\"> |-Trial ID: eaac4957cf2a0a041724107c7d03f5b0</span>"
            ],
            "text/plain": [
              "<IPython.core.display.HTML object>"
            ]
          },
          "metadata": {
            "tags": []
          }
        },
        {
          "output_type": "display_data",
          "data": {
            "text/html": [
              "<span style=\"color:cyan\"> |-Score: 0.9662333329518636</span>"
            ],
            "text/plain": [
              "<IPython.core.display.HTML object>"
            ]
          },
          "metadata": {
            "tags": []
          }
        },
        {
          "output_type": "display_data",
          "data": {
            "text/html": [
              "<span style=\"color:cyan\"> |-Best step: 0</span>"
            ],
            "text/plain": [
              "<IPython.core.display.HTML object>"
            ]
          },
          "metadata": {
            "tags": []
          }
        },
        {
          "output_type": "display_data",
          "data": {
            "text/html": [
              "<span style=\"color:#7E57C2\"><h2 style=\"font-size:16px\">Hyperparameters:</h2></span>"
            ],
            "text/plain": [
              "<IPython.core.display.HTML object>"
            ]
          },
          "metadata": {
            "tags": []
          }
        },
        {
          "output_type": "display_data",
          "data": {
            "text/html": [
              "<span style=\"color:cyan\"> |-conv_layers: 3</span>"
            ],
            "text/plain": [
              "<IPython.core.display.HTML object>"
            ]
          },
          "metadata": {
            "tags": []
          }
        },
        {
          "output_type": "display_data",
          "data": {
            "text/html": [
              "<span style=\"color:blue\"> |-filters_0: 24</span>"
            ],
            "text/plain": [
              "<IPython.core.display.HTML object>"
            ]
          },
          "metadata": {
            "tags": []
          }
        },
        {
          "output_type": "display_data",
          "data": {
            "text/html": [
              "<span style=\"color:cyan\"> |-filters_1: 16</span>"
            ],
            "text/plain": [
              "<IPython.core.display.HTML object>"
            ]
          },
          "metadata": {
            "tags": []
          }
        },
        {
          "output_type": "display_data",
          "data": {
            "text/html": [
              "<span style=\"color:blue\"> |-filters_2: 8</span>"
            ],
            "text/plain": [
              "<IPython.core.display.HTML object>"
            ]
          },
          "metadata": {
            "tags": []
          }
        },
        {
          "output_type": "display_data",
          "data": {
            "text/html": [
              "<span style=\"color:cyan\"> |-global_pooling: max</span>"
            ],
            "text/plain": [
              "<IPython.core.display.HTML object>"
            ]
          },
          "metadata": {
            "tags": []
          }
        },
        {
          "output_type": "display_data",
          "data": {
            "text/html": [
              "<span style=\"color:blue\"> |-kernel_size_0: 4</span>"
            ],
            "text/plain": [
              "<IPython.core.display.HTML object>"
            ]
          },
          "metadata": {
            "tags": []
          }
        },
        {
          "output_type": "display_data",
          "data": {
            "text/html": [
              "<span style=\"color:cyan\"> |-kernel_size_1: 4</span>"
            ],
            "text/plain": [
              "<IPython.core.display.HTML object>"
            ]
          },
          "metadata": {
            "tags": []
          }
        },
        {
          "output_type": "display_data",
          "data": {
            "text/html": [
              "<span style=\"color:blue\"> |-kernel_size_2: 4</span>"
            ],
            "text/plain": [
              "<IPython.core.display.HTML object>"
            ]
          },
          "metadata": {
            "tags": []
          }
        },
        {
          "output_type": "display_data",
          "data": {
            "text/html": [
              "<span style=\"color:cyan\"> |-optimizer: sgd</span>"
            ],
            "text/plain": [
              "<IPython.core.display.HTML object>"
            ]
          },
          "metadata": {
            "tags": []
          }
        },
        {
          "output_type": "display_data",
          "data": {
            "text/html": [
              "<span style=\"color:blue\"> |-pooling0: avg</span>"
            ],
            "text/plain": [
              "<IPython.core.display.HTML object>"
            ]
          },
          "metadata": {
            "tags": []
          }
        },
        {
          "output_type": "display_data",
          "data": {
            "text/html": [
              "<span style=\"color:cyan\"> |-pooling1: avg</span>"
            ],
            "text/plain": [
              "<IPython.core.display.HTML object>"
            ]
          },
          "metadata": {
            "tags": []
          }
        },
        {
          "output_type": "display_data",
          "data": {
            "text/html": [
              "<span style=\"color:blue\"> |-pooling2: avg</span>"
            ],
            "text/plain": [
              "<IPython.core.display.HTML object>"
            ]
          },
          "metadata": {
            "tags": []
          }
        },
        {
          "output_type": "stream",
          "text": [
            "Epoch 1/20\n",
            "600/600 [==============================] - 13s 22ms/step - loss: 0.8909 - accuracy: 0.7402 - val_loss: 0.6939 - val_accuracy: 0.7965\n",
            "Epoch 2/20\n",
            "600/600 [==============================] - 11s 18ms/step - loss: 0.3413 - accuracy: 0.9042 - val_loss: 0.3098 - val_accuracy: 0.9098\n",
            "Epoch 3/20\n",
            "600/600 [==============================] - 10s 17ms/step - loss: 0.2527 - accuracy: 0.9283 - val_loss: 0.2490 - val_accuracy: 0.9276\n",
            "Epoch 4/20\n",
            "600/600 [==============================] - 11s 18ms/step - loss: 0.2100 - accuracy: 0.9395 - val_loss: 0.1923 - val_accuracy: 0.9394\n",
            "Epoch 5/20\n",
            "600/600 [==============================] - 10s 17ms/step - loss: 0.1828 - accuracy: 0.9466 - val_loss: 0.1672 - val_accuracy: 0.9492\n",
            "Epoch 6/20\n",
            "600/600 [==============================] - 10s 17ms/step - loss: 0.1635 - accuracy: 0.9515 - val_loss: 0.1712 - val_accuracy: 0.9464\n",
            "Epoch 1/20\n",
            "600/600 [==============================] - 14s 23ms/step - loss: 0.6903 - accuracy: 0.8067 - val_loss: 0.5348 - val_accuracy: 0.8391\n",
            "Epoch 2/20\n",
            "600/600 [==============================] - 12s 19ms/step - loss: 0.2834 - accuracy: 0.9211 - val_loss: 0.2491 - val_accuracy: 0.9253\n",
            "Epoch 3/20\n",
            "600/600 [==============================] - 10s 17ms/step - loss: 0.2285 - accuracy: 0.9341 - val_loss: 0.1932 - val_accuracy: 0.9446\n",
            "Epoch 4/20\n",
            "600/600 [==============================] - 11s 19ms/step - loss: 0.2014 - accuracy: 0.9414 - val_loss: 0.1951 - val_accuracy: 0.9421\n",
            "Epoch 1/20\n",
            "600/600 [==============================] - 13s 22ms/step - loss: 0.8001 - accuracy: 0.7647 - val_loss: 0.5361 - val_accuracy: 0.8425\n",
            "Epoch 2/20\n",
            "600/600 [==============================] - 11s 18ms/step - loss: 0.3181 - accuracy: 0.9083 - val_loss: 0.2643 - val_accuracy: 0.9224\n",
            "Epoch 3/20\n",
            "600/600 [==============================] - 11s 18ms/step - loss: 0.2423 - accuracy: 0.9294 - val_loss: 0.3061 - val_accuracy: 0.9045\n"
          ],
          "name": "stdout"
        },
        {
          "output_type": "display_data",
          "data": {
            "text/html": [
              "<span style=\"color:#4527A0\"><h1 style=\"font-size:18px\">Trial complete</h1></span>"
            ],
            "text/plain": [
              "<IPython.core.display.HTML object>"
            ]
          },
          "metadata": {
            "tags": []
          }
        },
        {
          "output_type": "display_data",
          "data": {
            "text/html": [
              "<span style=\"color:#4527A0\"><h1 style=\"font-size:18px\">Trial summary</h1></span>"
            ],
            "text/plain": [
              "<IPython.core.display.HTML object>"
            ]
          },
          "metadata": {
            "tags": []
          }
        },
        {
          "output_type": "display_data",
          "data": {
            "text/html": [
              "<span style=\"color:cyan\"> |-Trial ID: 6817990f846a298a25b895419a466040</span>"
            ],
            "text/plain": [
              "<IPython.core.display.HTML object>"
            ]
          },
          "metadata": {
            "tags": []
          }
        },
        {
          "output_type": "display_data",
          "data": {
            "text/html": [
              "<span style=\"color:cyan\"> |-Score: 0.9387333194414774</span>"
            ],
            "text/plain": [
              "<IPython.core.display.HTML object>"
            ]
          },
          "metadata": {
            "tags": []
          }
        },
        {
          "output_type": "display_data",
          "data": {
            "text/html": [
              "<span style=\"color:cyan\"> |-Best step: 0</span>"
            ],
            "text/plain": [
              "<IPython.core.display.HTML object>"
            ]
          },
          "metadata": {
            "tags": []
          }
        },
        {
          "output_type": "display_data",
          "data": {
            "text/html": [
              "<span style=\"color:#7E57C2\"><h2 style=\"font-size:16px\">Hyperparameters:</h2></span>"
            ],
            "text/plain": [
              "<IPython.core.display.HTML object>"
            ]
          },
          "metadata": {
            "tags": []
          }
        },
        {
          "output_type": "display_data",
          "data": {
            "text/html": [
              "<span style=\"color:cyan\"> |-conv_layers: 2</span>"
            ],
            "text/plain": [
              "<IPython.core.display.HTML object>"
            ]
          },
          "metadata": {
            "tags": []
          }
        },
        {
          "output_type": "display_data",
          "data": {
            "text/html": [
              "<span style=\"color:blue\"> |-filters_0: 4</span>"
            ],
            "text/plain": [
              "<IPython.core.display.HTML object>"
            ]
          },
          "metadata": {
            "tags": []
          }
        },
        {
          "output_type": "display_data",
          "data": {
            "text/html": [
              "<span style=\"color:cyan\"> |-filters_1: 20</span>"
            ],
            "text/plain": [
              "<IPython.core.display.HTML object>"
            ]
          },
          "metadata": {
            "tags": []
          }
        },
        {
          "output_type": "display_data",
          "data": {
            "text/html": [
              "<span style=\"color:blue\"> |-filters_2: 24</span>"
            ],
            "text/plain": [
              "<IPython.core.display.HTML object>"
            ]
          },
          "metadata": {
            "tags": []
          }
        },
        {
          "output_type": "display_data",
          "data": {
            "text/html": [
              "<span style=\"color:cyan\"> |-global_pooling: max</span>"
            ],
            "text/plain": [
              "<IPython.core.display.HTML object>"
            ]
          },
          "metadata": {
            "tags": []
          }
        },
        {
          "output_type": "display_data",
          "data": {
            "text/html": [
              "<span style=\"color:blue\"> |-kernel_size_0: 5</span>"
            ],
            "text/plain": [
              "<IPython.core.display.HTML object>"
            ]
          },
          "metadata": {
            "tags": []
          }
        },
        {
          "output_type": "display_data",
          "data": {
            "text/html": [
              "<span style=\"color:cyan\"> |-kernel_size_1: 4</span>"
            ],
            "text/plain": [
              "<IPython.core.display.HTML object>"
            ]
          },
          "metadata": {
            "tags": []
          }
        },
        {
          "output_type": "display_data",
          "data": {
            "text/html": [
              "<span style=\"color:blue\"> |-kernel_size_2: 3</span>"
            ],
            "text/plain": [
              "<IPython.core.display.HTML object>"
            ]
          },
          "metadata": {
            "tags": []
          }
        },
        {
          "output_type": "display_data",
          "data": {
            "text/html": [
              "<span style=\"color:cyan\"> |-optimizer: sgd</span>"
            ],
            "text/plain": [
              "<IPython.core.display.HTML object>"
            ]
          },
          "metadata": {
            "tags": []
          }
        },
        {
          "output_type": "display_data",
          "data": {
            "text/html": [
              "<span style=\"color:blue\"> |-pooling0: avg</span>"
            ],
            "text/plain": [
              "<IPython.core.display.HTML object>"
            ]
          },
          "metadata": {
            "tags": []
          }
        },
        {
          "output_type": "display_data",
          "data": {
            "text/html": [
              "<span style=\"color:cyan\"> |-pooling1: avg</span>"
            ],
            "text/plain": [
              "<IPython.core.display.HTML object>"
            ]
          },
          "metadata": {
            "tags": []
          }
        },
        {
          "output_type": "display_data",
          "data": {
            "text/html": [
              "<span style=\"color:blue\"> |-pooling2: avg</span>"
            ],
            "text/plain": [
              "<IPython.core.display.HTML object>"
            ]
          },
          "metadata": {
            "tags": []
          }
        },
        {
          "output_type": "stream",
          "text": [
            "Epoch 1/20\n",
            "600/600 [==============================] - 14s 23ms/step - loss: 1.1855 - accuracy: 0.7842 - val_loss: 0.9556 - val_accuracy: 0.9350\n",
            "Epoch 2/20\n",
            "600/600 [==============================] - 12s 20ms/step - loss: 0.4387 - accuracy: 0.9530 - val_loss: 0.2811 - val_accuracy: 0.9624\n",
            "Epoch 3/20\n",
            "600/600 [==============================] - 11s 18ms/step - loss: 0.2387 - accuracy: 0.9664 - val_loss: 0.1772 - val_accuracy: 0.9727\n",
            "Epoch 4/20\n",
            "600/600 [==============================] - 12s 20ms/step - loss: 0.1671 - accuracy: 0.9721 - val_loss: 0.1325 - val_accuracy: 0.9753\n",
            "Epoch 5/20\n",
            "600/600 [==============================] - 11s 18ms/step - loss: 0.1307 - accuracy: 0.9762 - val_loss: 0.1139 - val_accuracy: 0.9794\n",
            "Epoch 6/20\n",
            "600/600 [==============================] - 11s 18ms/step - loss: 0.1094 - accuracy: 0.9792 - val_loss: 0.0971 - val_accuracy: 0.9822\n",
            "Epoch 7/20\n",
            "600/600 [==============================] - 11s 18ms/step - loss: 0.0947 - accuracy: 0.9813 - val_loss: 0.0815 - val_accuracy: 0.9830\n",
            "Epoch 8/20\n",
            "600/600 [==============================] - 11s 18ms/step - loss: 0.0832 - accuracy: 0.9833 - val_loss: 0.0814 - val_accuracy: 0.9827\n",
            "Epoch 1/20\n",
            "600/600 [==============================] - 14s 23ms/step - loss: 1.2304 - accuracy: 0.7946 - val_loss: 0.9598 - val_accuracy: 0.9229\n",
            "Epoch 2/20\n",
            "600/600 [==============================] - 12s 19ms/step - loss: 0.4374 - accuracy: 0.9527 - val_loss: 0.2803 - val_accuracy: 0.9611\n",
            "Epoch 3/20\n",
            "600/600 [==============================] - 10s 17ms/step - loss: 0.2377 - accuracy: 0.9666 - val_loss: 0.1767 - val_accuracy: 0.9700\n",
            "Epoch 4/20\n",
            "600/600 [==============================] - 12s 20ms/step - loss: 0.1664 - accuracy: 0.9725 - val_loss: 0.1385 - val_accuracy: 0.9750\n",
            "Epoch 5/20\n",
            "600/600 [==============================] - 10s 17ms/step - loss: 0.1307 - accuracy: 0.9761 - val_loss: 0.1199 - val_accuracy: 0.9763\n",
            "Epoch 6/20\n",
            "600/600 [==============================] - 11s 18ms/step - loss: 0.1090 - accuracy: 0.9789 - val_loss: 0.0954 - val_accuracy: 0.9822\n",
            "Epoch 7/20\n",
            "600/600 [==============================] - 11s 18ms/step - loss: 0.0939 - accuracy: 0.9815 - val_loss: 0.0923 - val_accuracy: 0.9805\n",
            "Epoch 1/20\n",
            "600/600 [==============================] - 14s 23ms/step - loss: 1.2627 - accuracy: 0.7611 - val_loss: 1.0462 - val_accuracy: 0.9034\n",
            "Epoch 2/20\n",
            "600/600 [==============================] - 11s 19ms/step - loss: 0.4869 - accuracy: 0.9436 - val_loss: 0.3075 - val_accuracy: 0.9617\n",
            "Epoch 3/20\n",
            "600/600 [==============================] - 10s 17ms/step - loss: 0.2566 - accuracy: 0.9627 - val_loss: 0.1944 - val_accuracy: 0.9711\n",
            "Epoch 4/20\n",
            "600/600 [==============================] - 12s 20ms/step - loss: 0.1746 - accuracy: 0.9711 - val_loss: 0.1534 - val_accuracy: 0.9737\n",
            "Epoch 5/20\n",
            "600/600 [==============================] - 11s 18ms/step - loss: 0.1348 - accuracy: 0.9755 - val_loss: 0.1258 - val_accuracy: 0.9754\n",
            "Epoch 6/20\n",
            "600/600 [==============================] - 11s 18ms/step - loss: 0.1116 - accuracy: 0.9788 - val_loss: 0.1099 - val_accuracy: 0.9779\n",
            "Epoch 7/20\n",
            "600/600 [==============================] - 10s 17ms/step - loss: 0.0952 - accuracy: 0.9812 - val_loss: 0.0948 - val_accuracy: 0.9789\n",
            "Epoch 8/20\n",
            "600/600 [==============================] - 13s 22ms/step - loss: 0.0838 - accuracy: 0.9823 - val_loss: 0.0831 - val_accuracy: 0.9813\n",
            "Epoch 9/20\n",
            "600/600 [==============================] - 10s 17ms/step - loss: 0.0758 - accuracy: 0.9835 - val_loss: 0.0763 - val_accuracy: 0.9824\n",
            "Epoch 10/20\n",
            "600/600 [==============================] - 11s 18ms/step - loss: 0.0681 - accuracy: 0.9856 - val_loss: 0.0766 - val_accuracy: 0.9825\n",
            "Epoch 11/20\n",
            "600/600 [==============================] - 11s 18ms/step - loss: 0.0632 - accuracy: 0.9860 - val_loss: 0.0835 - val_accuracy: 0.9798\n"
          ],
          "name": "stdout"
        },
        {
          "output_type": "display_data",
          "data": {
            "text/html": [
              "<span style=\"color:#4527A0\"><h1 style=\"font-size:18px\">Trial complete</h1></span>"
            ],
            "text/plain": [
              "<IPython.core.display.HTML object>"
            ]
          },
          "metadata": {
            "tags": []
          }
        },
        {
          "output_type": "display_data",
          "data": {
            "text/html": [
              "<span style=\"color:#4527A0\"><h1 style=\"font-size:18px\">Trial summary</h1></span>"
            ],
            "text/plain": [
              "<IPython.core.display.HTML object>"
            ]
          },
          "metadata": {
            "tags": []
          }
        },
        {
          "output_type": "display_data",
          "data": {
            "text/html": [
              "<span style=\"color:cyan\"> |-Trial ID: 16d79a642dbd677170dfa2d45feaa07c</span>"
            ],
            "text/plain": [
              "<IPython.core.display.HTML object>"
            ]
          },
          "metadata": {
            "tags": []
          }
        },
        {
          "output_type": "display_data",
          "data": {
            "text/html": [
              "<span style=\"color:cyan\"> |-Score: 0.9825666745503744</span>"
            ],
            "text/plain": [
              "<IPython.core.display.HTML object>"
            ]
          },
          "metadata": {
            "tags": []
          }
        },
        {
          "output_type": "display_data",
          "data": {
            "text/html": [
              "<span style=\"color:cyan\"> |-Best step: 0</span>"
            ],
            "text/plain": [
              "<IPython.core.display.HTML object>"
            ]
          },
          "metadata": {
            "tags": []
          }
        },
        {
          "output_type": "display_data",
          "data": {
            "text/html": [
              "<span style=\"color:#7E57C2\"><h2 style=\"font-size:16px\">Hyperparameters:</h2></span>"
            ],
            "text/plain": [
              "<IPython.core.display.HTML object>"
            ]
          },
          "metadata": {
            "tags": []
          }
        },
        {
          "output_type": "display_data",
          "data": {
            "text/html": [
              "<span style=\"color:cyan\"> |-conv_layers: 3</span>"
            ],
            "text/plain": [
              "<IPython.core.display.HTML object>"
            ]
          },
          "metadata": {
            "tags": []
          }
        },
        {
          "output_type": "display_data",
          "data": {
            "text/html": [
              "<span style=\"color:blue\"> |-filters_0: 16</span>"
            ],
            "text/plain": [
              "<IPython.core.display.HTML object>"
            ]
          },
          "metadata": {
            "tags": []
          }
        },
        {
          "output_type": "display_data",
          "data": {
            "text/html": [
              "<span style=\"color:cyan\"> |-filters_1: 28</span>"
            ],
            "text/plain": [
              "<IPython.core.display.HTML object>"
            ]
          },
          "metadata": {
            "tags": []
          }
        },
        {
          "output_type": "display_data",
          "data": {
            "text/html": [
              "<span style=\"color:blue\"> |-filters_2: 20</span>"
            ],
            "text/plain": [
              "<IPython.core.display.HTML object>"
            ]
          },
          "metadata": {
            "tags": []
          }
        },
        {
          "output_type": "display_data",
          "data": {
            "text/html": [
              "<span style=\"color:cyan\"> |-global_pooling: avg</span>"
            ],
            "text/plain": [
              "<IPython.core.display.HTML object>"
            ]
          },
          "metadata": {
            "tags": []
          }
        },
        {
          "output_type": "display_data",
          "data": {
            "text/html": [
              "<span style=\"color:blue\"> |-kernel_size_0: 3</span>"
            ],
            "text/plain": [
              "<IPython.core.display.HTML object>"
            ]
          },
          "metadata": {
            "tags": []
          }
        },
        {
          "output_type": "display_data",
          "data": {
            "text/html": [
              "<span style=\"color:cyan\"> |-kernel_size_1: 4</span>"
            ],
            "text/plain": [
              "<IPython.core.display.HTML object>"
            ]
          },
          "metadata": {
            "tags": []
          }
        },
        {
          "output_type": "display_data",
          "data": {
            "text/html": [
              "<span style=\"color:blue\"> |-kernel_size_2: 4</span>"
            ],
            "text/plain": [
              "<IPython.core.display.HTML object>"
            ]
          },
          "metadata": {
            "tags": []
          }
        },
        {
          "output_type": "display_data",
          "data": {
            "text/html": [
              "<span style=\"color:cyan\"> |-optimizer: sgd</span>"
            ],
            "text/plain": [
              "<IPython.core.display.HTML object>"
            ]
          },
          "metadata": {
            "tags": []
          }
        },
        {
          "output_type": "display_data",
          "data": {
            "text/html": [
              "<span style=\"color:blue\"> |-pooling0: max</span>"
            ],
            "text/plain": [
              "<IPython.core.display.HTML object>"
            ]
          },
          "metadata": {
            "tags": []
          }
        },
        {
          "output_type": "display_data",
          "data": {
            "text/html": [
              "<span style=\"color:cyan\"> |-pooling1: avg</span>"
            ],
            "text/plain": [
              "<IPython.core.display.HTML object>"
            ]
          },
          "metadata": {
            "tags": []
          }
        },
        {
          "output_type": "display_data",
          "data": {
            "text/html": [
              "<span style=\"color:blue\"> |-pooling2: avg</span>"
            ],
            "text/plain": [
              "<IPython.core.display.HTML object>"
            ]
          },
          "metadata": {
            "tags": []
          }
        },
        {
          "output_type": "stream",
          "text": [
            "Epoch 1/20\n",
            "600/600 [==============================] - 14s 23ms/step - loss: 1.1766 - accuracy: 0.7877 - val_loss: 0.9187 - val_accuracy: 0.8067\n",
            "Epoch 2/20\n",
            "600/600 [==============================] - 11s 18ms/step - loss: 0.3350 - accuracy: 0.9509 - val_loss: 0.2640 - val_accuracy: 0.9427\n",
            "Epoch 3/20\n",
            "600/600 [==============================] - 10s 17ms/step - loss: 0.1847 - accuracy: 0.9642 - val_loss: 0.1613 - val_accuracy: 0.9672\n",
            "Epoch 4/20\n",
            "600/600 [==============================] - 11s 19ms/step - loss: 0.1334 - accuracy: 0.9707 - val_loss: 0.1564 - val_accuracy: 0.9601\n",
            "Epoch 1/20\n",
            "600/600 [==============================] - 14s 23ms/step - loss: 1.1114 - accuracy: 0.8075 - val_loss: 0.9474 - val_accuracy: 0.8269\n",
            "Epoch 2/20\n",
            "600/600 [==============================] - 11s 19ms/step - loss: 0.3396 - accuracy: 0.9465 - val_loss: 0.3150 - val_accuracy: 0.9385\n",
            "Epoch 3/20\n",
            "600/600 [==============================] - 10s 17ms/step - loss: 0.1888 - accuracy: 0.9628 - val_loss: 0.2063 - val_accuracy: 0.9558\n",
            "Epoch 4/20\n",
            "600/600 [==============================] - 12s 20ms/step - loss: 0.1346 - accuracy: 0.9704 - val_loss: 0.1643 - val_accuracy: 0.9661\n",
            "Epoch 5/20\n",
            "600/600 [==============================] - 10s 17ms/step - loss: 0.1070 - accuracy: 0.9751 - val_loss: 0.1158 - val_accuracy: 0.9764\n",
            "Epoch 6/20\n",
            "600/600 [==============================] - 10s 17ms/step - loss: 0.0898 - accuracy: 0.9779 - val_loss: 0.1336 - val_accuracy: 0.9645\n",
            "Epoch 1/20\n",
            "600/600 [==============================] - 14s 23ms/step - loss: 1.1158 - accuracy: 0.7950 - val_loss: 0.8142 - val_accuracy: 0.8834\n",
            "Epoch 2/20\n",
            "600/600 [==============================] - 12s 19ms/step - loss: 0.3097 - accuracy: 0.9523 - val_loss: 0.2472 - val_accuracy: 0.9466\n",
            "Epoch 3/20\n",
            "600/600 [==============================] - 10s 17ms/step - loss: 0.1728 - accuracy: 0.9650 - val_loss: 0.1500 - val_accuracy: 0.9662\n",
            "Epoch 4/20\n",
            "600/600 [==============================] - 12s 20ms/step - loss: 0.1256 - accuracy: 0.9719 - val_loss: 0.1375 - val_accuracy: 0.9667\n",
            "Epoch 5/20\n",
            "600/600 [==============================] - 10s 17ms/step - loss: 0.1020 - accuracy: 0.9752 - val_loss: 0.1344 - val_accuracy: 0.9617\n"
          ],
          "name": "stdout"
        },
        {
          "output_type": "display_data",
          "data": {
            "text/html": [
              "<span style=\"color:#4527A0\"><h1 style=\"font-size:18px\">Trial complete</h1></span>"
            ],
            "text/plain": [
              "<IPython.core.display.HTML object>"
            ]
          },
          "metadata": {
            "tags": []
          }
        },
        {
          "output_type": "display_data",
          "data": {
            "text/html": [
              "<span style=\"color:#4527A0\"><h1 style=\"font-size:18px\">Trial summary</h1></span>"
            ],
            "text/plain": [
              "<IPython.core.display.HTML object>"
            ]
          },
          "metadata": {
            "tags": []
          }
        },
        {
          "output_type": "display_data",
          "data": {
            "text/html": [
              "<span style=\"color:cyan\"> |-Trial ID: 8ba299e42063258eb40fdb3ba93f2c10</span>"
            ],
            "text/plain": [
              "<IPython.core.display.HTML object>"
            ]
          },
          "metadata": {
            "tags": []
          }
        },
        {
          "output_type": "display_data",
          "data": {
            "text/html": [
              "<span style=\"color:cyan\"> |-Score: 0.9701000054677328</span>"
            ],
            "text/plain": [
              "<IPython.core.display.HTML object>"
            ]
          },
          "metadata": {
            "tags": []
          }
        },
        {
          "output_type": "display_data",
          "data": {
            "text/html": [
              "<span style=\"color:cyan\"> |-Best step: 0</span>"
            ],
            "text/plain": [
              "<IPython.core.display.HTML object>"
            ]
          },
          "metadata": {
            "tags": []
          }
        },
        {
          "output_type": "display_data",
          "data": {
            "text/html": [
              "<span style=\"color:#7E57C2\"><h2 style=\"font-size:16px\">Hyperparameters:</h2></span>"
            ],
            "text/plain": [
              "<IPython.core.display.HTML object>"
            ]
          },
          "metadata": {
            "tags": []
          }
        },
        {
          "output_type": "display_data",
          "data": {
            "text/html": [
              "<span style=\"color:cyan\"> |-conv_layers: 2</span>"
            ],
            "text/plain": [
              "<IPython.core.display.HTML object>"
            ]
          },
          "metadata": {
            "tags": []
          }
        },
        {
          "output_type": "display_data",
          "data": {
            "text/html": [
              "<span style=\"color:blue\"> |-filters_0: 32</span>"
            ],
            "text/plain": [
              "<IPython.core.display.HTML object>"
            ]
          },
          "metadata": {
            "tags": []
          }
        },
        {
          "output_type": "display_data",
          "data": {
            "text/html": [
              "<span style=\"color:cyan\"> |-filters_1: 24</span>"
            ],
            "text/plain": [
              "<IPython.core.display.HTML object>"
            ]
          },
          "metadata": {
            "tags": []
          }
        },
        {
          "output_type": "display_data",
          "data": {
            "text/html": [
              "<span style=\"color:blue\"> |-filters_2: 20</span>"
            ],
            "text/plain": [
              "<IPython.core.display.HTML object>"
            ]
          },
          "metadata": {
            "tags": []
          }
        },
        {
          "output_type": "display_data",
          "data": {
            "text/html": [
              "<span style=\"color:cyan\"> |-global_pooling: avg</span>"
            ],
            "text/plain": [
              "<IPython.core.display.HTML object>"
            ]
          },
          "metadata": {
            "tags": []
          }
        },
        {
          "output_type": "display_data",
          "data": {
            "text/html": [
              "<span style=\"color:blue\"> |-kernel_size_0: 4</span>"
            ],
            "text/plain": [
              "<IPython.core.display.HTML object>"
            ]
          },
          "metadata": {
            "tags": []
          }
        },
        {
          "output_type": "display_data",
          "data": {
            "text/html": [
              "<span style=\"color:cyan\"> |-kernel_size_1: 3</span>"
            ],
            "text/plain": [
              "<IPython.core.display.HTML object>"
            ]
          },
          "metadata": {
            "tags": []
          }
        },
        {
          "output_type": "display_data",
          "data": {
            "text/html": [
              "<span style=\"color:blue\"> |-kernel_size_2: 4</span>"
            ],
            "text/plain": [
              "<IPython.core.display.HTML object>"
            ]
          },
          "metadata": {
            "tags": []
          }
        },
        {
          "output_type": "display_data",
          "data": {
            "text/html": [
              "<span style=\"color:cyan\"> |-optimizer: adam</span>"
            ],
            "text/plain": [
              "<IPython.core.display.HTML object>"
            ]
          },
          "metadata": {
            "tags": []
          }
        },
        {
          "output_type": "display_data",
          "data": {
            "text/html": [
              "<span style=\"color:blue\"> |-pooling0: max</span>"
            ],
            "text/plain": [
              "<IPython.core.display.HTML object>"
            ]
          },
          "metadata": {
            "tags": []
          }
        },
        {
          "output_type": "display_data",
          "data": {
            "text/html": [
              "<span style=\"color:cyan\"> |-pooling1: max</span>"
            ],
            "text/plain": [
              "<IPython.core.display.HTML object>"
            ]
          },
          "metadata": {
            "tags": []
          }
        },
        {
          "output_type": "display_data",
          "data": {
            "text/html": [
              "<span style=\"color:blue\"> |-pooling2: max</span>"
            ],
            "text/plain": [
              "<IPython.core.display.HTML object>"
            ]
          },
          "metadata": {
            "tags": []
          }
        },
        {
          "output_type": "stream",
          "text": [
            "INFO:tensorflow:Oracle triggered exit\n"
          ],
          "name": "stdout"
        },
        {
          "output_type": "stream",
          "text": [
            "INFO:tensorflow:Oracle triggered exit\n"
          ],
          "name": "stderr"
        }
      ]
    },
    {
      "cell_type": "code",
      "metadata": {
        "colab_type": "code",
        "id": "-BwVgzvPZOBv",
        "colab": {
          "base_uri": "https://localhost:8080/",
          "height": 1000
        },
        "outputId": "d40b1c19-46ec-4fe7-e08c-1af45a00927d"
      },
      "source": [
        "tuner.results_summary()"
      ],
      "execution_count": null,
      "outputs": [
        {
          "output_type": "display_data",
          "data": {
            "text/html": [
              "<span style=\"color:#4527A0\"><h1 style=\"font-size:18px\">Results summary</h1></span>"
            ],
            "text/plain": [
              "<IPython.core.display.HTML object>"
            ]
          },
          "metadata": {
            "tags": []
          }
        },
        {
          "output_type": "display_data",
          "data": {
            "text/html": [
              "<span style=\"color:cyan\"> |-Results in results_dir/mnist</span>"
            ],
            "text/plain": [
              "<IPython.core.display.HTML object>"
            ]
          },
          "metadata": {
            "tags": []
          }
        },
        {
          "output_type": "display_data",
          "data": {
            "text/html": [
              "<span style=\"color:cyan\"> |-Showing 10 best trials</span>"
            ],
            "text/plain": [
              "<IPython.core.display.HTML object>"
            ]
          },
          "metadata": {
            "tags": []
          }
        },
        {
          "output_type": "display_data",
          "data": {
            "text/html": [
              "<span style=\"color:cyan\"> |-Objective(name='val_accuracy', direction='max')</span>"
            ],
            "text/plain": [
              "<IPython.core.display.HTML object>"
            ]
          },
          "metadata": {
            "tags": []
          }
        },
        {
          "output_type": "display_data",
          "data": {
            "text/html": [
              "<span style=\"color:#4527A0\"><h1 style=\"font-size:18px\">Trial summary</h1></span>"
            ],
            "text/plain": [
              "<IPython.core.display.HTML object>"
            ]
          },
          "metadata": {
            "tags": []
          }
        },
        {
          "output_type": "display_data",
          "data": {
            "text/html": [
              "<span style=\"color:cyan\"> |-Trial ID: 16d79a642dbd677170dfa2d45feaa07c</span>"
            ],
            "text/plain": [
              "<IPython.core.display.HTML object>"
            ]
          },
          "metadata": {
            "tags": []
          }
        },
        {
          "output_type": "display_data",
          "data": {
            "text/html": [
              "<span style=\"color:cyan\"> |-Score: 0.9825666745503744</span>"
            ],
            "text/plain": [
              "<IPython.core.display.HTML object>"
            ]
          },
          "metadata": {
            "tags": []
          }
        },
        {
          "output_type": "display_data",
          "data": {
            "text/html": [
              "<span style=\"color:cyan\"> |-Best step: 0</span>"
            ],
            "text/plain": [
              "<IPython.core.display.HTML object>"
            ]
          },
          "metadata": {
            "tags": []
          }
        },
        {
          "output_type": "display_data",
          "data": {
            "text/html": [
              "<span style=\"color:#7E57C2\"><h2 style=\"font-size:16px\">Hyperparameters:</h2></span>"
            ],
            "text/plain": [
              "<IPython.core.display.HTML object>"
            ]
          },
          "metadata": {
            "tags": []
          }
        },
        {
          "output_type": "display_data",
          "data": {
            "text/html": [
              "<span style=\"color:cyan\"> |-conv_layers: 3</span>"
            ],
            "text/plain": [
              "<IPython.core.display.HTML object>"
            ]
          },
          "metadata": {
            "tags": []
          }
        },
        {
          "output_type": "display_data",
          "data": {
            "text/html": [
              "<span style=\"color:blue\"> |-filters_0: 16</span>"
            ],
            "text/plain": [
              "<IPython.core.display.HTML object>"
            ]
          },
          "metadata": {
            "tags": []
          }
        },
        {
          "output_type": "display_data",
          "data": {
            "text/html": [
              "<span style=\"color:cyan\"> |-filters_1: 28</span>"
            ],
            "text/plain": [
              "<IPython.core.display.HTML object>"
            ]
          },
          "metadata": {
            "tags": []
          }
        },
        {
          "output_type": "display_data",
          "data": {
            "text/html": [
              "<span style=\"color:blue\"> |-filters_2: 20</span>"
            ],
            "text/plain": [
              "<IPython.core.display.HTML object>"
            ]
          },
          "metadata": {
            "tags": []
          }
        },
        {
          "output_type": "display_data",
          "data": {
            "text/html": [
              "<span style=\"color:cyan\"> |-global_pooling: avg</span>"
            ],
            "text/plain": [
              "<IPython.core.display.HTML object>"
            ]
          },
          "metadata": {
            "tags": []
          }
        },
        {
          "output_type": "display_data",
          "data": {
            "text/html": [
              "<span style=\"color:blue\"> |-kernel_size_0: 3</span>"
            ],
            "text/plain": [
              "<IPython.core.display.HTML object>"
            ]
          },
          "metadata": {
            "tags": []
          }
        },
        {
          "output_type": "display_data",
          "data": {
            "text/html": [
              "<span style=\"color:cyan\"> |-kernel_size_1: 4</span>"
            ],
            "text/plain": [
              "<IPython.core.display.HTML object>"
            ]
          },
          "metadata": {
            "tags": []
          }
        },
        {
          "output_type": "display_data",
          "data": {
            "text/html": [
              "<span style=\"color:blue\"> |-kernel_size_2: 4</span>"
            ],
            "text/plain": [
              "<IPython.core.display.HTML object>"
            ]
          },
          "metadata": {
            "tags": []
          }
        },
        {
          "output_type": "display_data",
          "data": {
            "text/html": [
              "<span style=\"color:cyan\"> |-optimizer: sgd</span>"
            ],
            "text/plain": [
              "<IPython.core.display.HTML object>"
            ]
          },
          "metadata": {
            "tags": []
          }
        },
        {
          "output_type": "display_data",
          "data": {
            "text/html": [
              "<span style=\"color:blue\"> |-pooling0: max</span>"
            ],
            "text/plain": [
              "<IPython.core.display.HTML object>"
            ]
          },
          "metadata": {
            "tags": []
          }
        },
        {
          "output_type": "display_data",
          "data": {
            "text/html": [
              "<span style=\"color:cyan\"> |-pooling1: avg</span>"
            ],
            "text/plain": [
              "<IPython.core.display.HTML object>"
            ]
          },
          "metadata": {
            "tags": []
          }
        },
        {
          "output_type": "display_data",
          "data": {
            "text/html": [
              "<span style=\"color:blue\"> |-pooling2: avg</span>"
            ],
            "text/plain": [
              "<IPython.core.display.HTML object>"
            ]
          },
          "metadata": {
            "tags": []
          }
        },
        {
          "output_type": "display_data",
          "data": {
            "text/html": [
              "<span style=\"color:#4527A0\"><h1 style=\"font-size:18px\">Trial summary</h1></span>"
            ],
            "text/plain": [
              "<IPython.core.display.HTML object>"
            ]
          },
          "metadata": {
            "tags": []
          }
        },
        {
          "output_type": "display_data",
          "data": {
            "text/html": [
              "<span style=\"color:cyan\"> |-Trial ID: 8ba299e42063258eb40fdb3ba93f2c10</span>"
            ],
            "text/plain": [
              "<IPython.core.display.HTML object>"
            ]
          },
          "metadata": {
            "tags": []
          }
        },
        {
          "output_type": "display_data",
          "data": {
            "text/html": [
              "<span style=\"color:cyan\"> |-Score: 0.9701000054677328</span>"
            ],
            "text/plain": [
              "<IPython.core.display.HTML object>"
            ]
          },
          "metadata": {
            "tags": []
          }
        },
        {
          "output_type": "display_data",
          "data": {
            "text/html": [
              "<span style=\"color:cyan\"> |-Best step: 0</span>"
            ],
            "text/plain": [
              "<IPython.core.display.HTML object>"
            ]
          },
          "metadata": {
            "tags": []
          }
        },
        {
          "output_type": "display_data",
          "data": {
            "text/html": [
              "<span style=\"color:#7E57C2\"><h2 style=\"font-size:16px\">Hyperparameters:</h2></span>"
            ],
            "text/plain": [
              "<IPython.core.display.HTML object>"
            ]
          },
          "metadata": {
            "tags": []
          }
        },
        {
          "output_type": "display_data",
          "data": {
            "text/html": [
              "<span style=\"color:cyan\"> |-conv_layers: 2</span>"
            ],
            "text/plain": [
              "<IPython.core.display.HTML object>"
            ]
          },
          "metadata": {
            "tags": []
          }
        },
        {
          "output_type": "display_data",
          "data": {
            "text/html": [
              "<span style=\"color:blue\"> |-filters_0: 32</span>"
            ],
            "text/plain": [
              "<IPython.core.display.HTML object>"
            ]
          },
          "metadata": {
            "tags": []
          }
        },
        {
          "output_type": "display_data",
          "data": {
            "text/html": [
              "<span style=\"color:cyan\"> |-filters_1: 24</span>"
            ],
            "text/plain": [
              "<IPython.core.display.HTML object>"
            ]
          },
          "metadata": {
            "tags": []
          }
        },
        {
          "output_type": "display_data",
          "data": {
            "text/html": [
              "<span style=\"color:blue\"> |-filters_2: 20</span>"
            ],
            "text/plain": [
              "<IPython.core.display.HTML object>"
            ]
          },
          "metadata": {
            "tags": []
          }
        },
        {
          "output_type": "display_data",
          "data": {
            "text/html": [
              "<span style=\"color:cyan\"> |-global_pooling: avg</span>"
            ],
            "text/plain": [
              "<IPython.core.display.HTML object>"
            ]
          },
          "metadata": {
            "tags": []
          }
        },
        {
          "output_type": "display_data",
          "data": {
            "text/html": [
              "<span style=\"color:blue\"> |-kernel_size_0: 4</span>"
            ],
            "text/plain": [
              "<IPython.core.display.HTML object>"
            ]
          },
          "metadata": {
            "tags": []
          }
        },
        {
          "output_type": "display_data",
          "data": {
            "text/html": [
              "<span style=\"color:cyan\"> |-kernel_size_1: 3</span>"
            ],
            "text/plain": [
              "<IPython.core.display.HTML object>"
            ]
          },
          "metadata": {
            "tags": []
          }
        },
        {
          "output_type": "display_data",
          "data": {
            "text/html": [
              "<span style=\"color:blue\"> |-kernel_size_2: 4</span>"
            ],
            "text/plain": [
              "<IPython.core.display.HTML object>"
            ]
          },
          "metadata": {
            "tags": []
          }
        },
        {
          "output_type": "display_data",
          "data": {
            "text/html": [
              "<span style=\"color:cyan\"> |-optimizer: adam</span>"
            ],
            "text/plain": [
              "<IPython.core.display.HTML object>"
            ]
          },
          "metadata": {
            "tags": []
          }
        },
        {
          "output_type": "display_data",
          "data": {
            "text/html": [
              "<span style=\"color:blue\"> |-pooling0: max</span>"
            ],
            "text/plain": [
              "<IPython.core.display.HTML object>"
            ]
          },
          "metadata": {
            "tags": []
          }
        },
        {
          "output_type": "display_data",
          "data": {
            "text/html": [
              "<span style=\"color:cyan\"> |-pooling1: max</span>"
            ],
            "text/plain": [
              "<IPython.core.display.HTML object>"
            ]
          },
          "metadata": {
            "tags": []
          }
        },
        {
          "output_type": "display_data",
          "data": {
            "text/html": [
              "<span style=\"color:blue\"> |-pooling2: max</span>"
            ],
            "text/plain": [
              "<IPython.core.display.HTML object>"
            ]
          },
          "metadata": {
            "tags": []
          }
        },
        {
          "output_type": "display_data",
          "data": {
            "text/html": [
              "<span style=\"color:#4527A0\"><h1 style=\"font-size:18px\">Trial summary</h1></span>"
            ],
            "text/plain": [
              "<IPython.core.display.HTML object>"
            ]
          },
          "metadata": {
            "tags": []
          }
        },
        {
          "output_type": "display_data",
          "data": {
            "text/html": [
              "<span style=\"color:cyan\"> |-Trial ID: eaac4957cf2a0a041724107c7d03f5b0</span>"
            ],
            "text/plain": [
              "<IPython.core.display.HTML object>"
            ]
          },
          "metadata": {
            "tags": []
          }
        },
        {
          "output_type": "display_data",
          "data": {
            "text/html": [
              "<span style=\"color:cyan\"> |-Score: 0.9662333329518636</span>"
            ],
            "text/plain": [
              "<IPython.core.display.HTML object>"
            ]
          },
          "metadata": {
            "tags": []
          }
        },
        {
          "output_type": "display_data",
          "data": {
            "text/html": [
              "<span style=\"color:cyan\"> |-Best step: 0</span>"
            ],
            "text/plain": [
              "<IPython.core.display.HTML object>"
            ]
          },
          "metadata": {
            "tags": []
          }
        },
        {
          "output_type": "display_data",
          "data": {
            "text/html": [
              "<span style=\"color:#7E57C2\"><h2 style=\"font-size:16px\">Hyperparameters:</h2></span>"
            ],
            "text/plain": [
              "<IPython.core.display.HTML object>"
            ]
          },
          "metadata": {
            "tags": []
          }
        },
        {
          "output_type": "display_data",
          "data": {
            "text/html": [
              "<span style=\"color:cyan\"> |-conv_layers: 3</span>"
            ],
            "text/plain": [
              "<IPython.core.display.HTML object>"
            ]
          },
          "metadata": {
            "tags": []
          }
        },
        {
          "output_type": "display_data",
          "data": {
            "text/html": [
              "<span style=\"color:blue\"> |-filters_0: 24</span>"
            ],
            "text/plain": [
              "<IPython.core.display.HTML object>"
            ]
          },
          "metadata": {
            "tags": []
          }
        },
        {
          "output_type": "display_data",
          "data": {
            "text/html": [
              "<span style=\"color:cyan\"> |-filters_1: 16</span>"
            ],
            "text/plain": [
              "<IPython.core.display.HTML object>"
            ]
          },
          "metadata": {
            "tags": []
          }
        },
        {
          "output_type": "display_data",
          "data": {
            "text/html": [
              "<span style=\"color:blue\"> |-filters_2: 8</span>"
            ],
            "text/plain": [
              "<IPython.core.display.HTML object>"
            ]
          },
          "metadata": {
            "tags": []
          }
        },
        {
          "output_type": "display_data",
          "data": {
            "text/html": [
              "<span style=\"color:cyan\"> |-global_pooling: max</span>"
            ],
            "text/plain": [
              "<IPython.core.display.HTML object>"
            ]
          },
          "metadata": {
            "tags": []
          }
        },
        {
          "output_type": "display_data",
          "data": {
            "text/html": [
              "<span style=\"color:blue\"> |-kernel_size_0: 4</span>"
            ],
            "text/plain": [
              "<IPython.core.display.HTML object>"
            ]
          },
          "metadata": {
            "tags": []
          }
        },
        {
          "output_type": "display_data",
          "data": {
            "text/html": [
              "<span style=\"color:cyan\"> |-kernel_size_1: 4</span>"
            ],
            "text/plain": [
              "<IPython.core.display.HTML object>"
            ]
          },
          "metadata": {
            "tags": []
          }
        },
        {
          "output_type": "display_data",
          "data": {
            "text/html": [
              "<span style=\"color:blue\"> |-kernel_size_2: 4</span>"
            ],
            "text/plain": [
              "<IPython.core.display.HTML object>"
            ]
          },
          "metadata": {
            "tags": []
          }
        },
        {
          "output_type": "display_data",
          "data": {
            "text/html": [
              "<span style=\"color:cyan\"> |-optimizer: sgd</span>"
            ],
            "text/plain": [
              "<IPython.core.display.HTML object>"
            ]
          },
          "metadata": {
            "tags": []
          }
        },
        {
          "output_type": "display_data",
          "data": {
            "text/html": [
              "<span style=\"color:blue\"> |-pooling0: avg</span>"
            ],
            "text/plain": [
              "<IPython.core.display.HTML object>"
            ]
          },
          "metadata": {
            "tags": []
          }
        },
        {
          "output_type": "display_data",
          "data": {
            "text/html": [
              "<span style=\"color:cyan\"> |-pooling1: avg</span>"
            ],
            "text/plain": [
              "<IPython.core.display.HTML object>"
            ]
          },
          "metadata": {
            "tags": []
          }
        },
        {
          "output_type": "display_data",
          "data": {
            "text/html": [
              "<span style=\"color:blue\"> |-pooling2: avg</span>"
            ],
            "text/plain": [
              "<IPython.core.display.HTML object>"
            ]
          },
          "metadata": {
            "tags": []
          }
        },
        {
          "output_type": "display_data",
          "data": {
            "text/html": [
              "<span style=\"color:#4527A0\"><h1 style=\"font-size:18px\">Trial summary</h1></span>"
            ],
            "text/plain": [
              "<IPython.core.display.HTML object>"
            ]
          },
          "metadata": {
            "tags": []
          }
        },
        {
          "output_type": "display_data",
          "data": {
            "text/html": [
              "<span style=\"color:cyan\"> |-Trial ID: 6817990f846a298a25b895419a466040</span>"
            ],
            "text/plain": [
              "<IPython.core.display.HTML object>"
            ]
          },
          "metadata": {
            "tags": []
          }
        },
        {
          "output_type": "display_data",
          "data": {
            "text/html": [
              "<span style=\"color:cyan\"> |-Score: 0.9387333194414774</span>"
            ],
            "text/plain": [
              "<IPython.core.display.HTML object>"
            ]
          },
          "metadata": {
            "tags": []
          }
        },
        {
          "output_type": "display_data",
          "data": {
            "text/html": [
              "<span style=\"color:cyan\"> |-Best step: 0</span>"
            ],
            "text/plain": [
              "<IPython.core.display.HTML object>"
            ]
          },
          "metadata": {
            "tags": []
          }
        },
        {
          "output_type": "display_data",
          "data": {
            "text/html": [
              "<span style=\"color:#7E57C2\"><h2 style=\"font-size:16px\">Hyperparameters:</h2></span>"
            ],
            "text/plain": [
              "<IPython.core.display.HTML object>"
            ]
          },
          "metadata": {
            "tags": []
          }
        },
        {
          "output_type": "display_data",
          "data": {
            "text/html": [
              "<span style=\"color:cyan\"> |-conv_layers: 2</span>"
            ],
            "text/plain": [
              "<IPython.core.display.HTML object>"
            ]
          },
          "metadata": {
            "tags": []
          }
        },
        {
          "output_type": "display_data",
          "data": {
            "text/html": [
              "<span style=\"color:blue\"> |-filters_0: 4</span>"
            ],
            "text/plain": [
              "<IPython.core.display.HTML object>"
            ]
          },
          "metadata": {
            "tags": []
          }
        },
        {
          "output_type": "display_data",
          "data": {
            "text/html": [
              "<span style=\"color:cyan\"> |-filters_1: 20</span>"
            ],
            "text/plain": [
              "<IPython.core.display.HTML object>"
            ]
          },
          "metadata": {
            "tags": []
          }
        },
        {
          "output_type": "display_data",
          "data": {
            "text/html": [
              "<span style=\"color:blue\"> |-filters_2: 24</span>"
            ],
            "text/plain": [
              "<IPython.core.display.HTML object>"
            ]
          },
          "metadata": {
            "tags": []
          }
        },
        {
          "output_type": "display_data",
          "data": {
            "text/html": [
              "<span style=\"color:cyan\"> |-global_pooling: max</span>"
            ],
            "text/plain": [
              "<IPython.core.display.HTML object>"
            ]
          },
          "metadata": {
            "tags": []
          }
        },
        {
          "output_type": "display_data",
          "data": {
            "text/html": [
              "<span style=\"color:blue\"> |-kernel_size_0: 5</span>"
            ],
            "text/plain": [
              "<IPython.core.display.HTML object>"
            ]
          },
          "metadata": {
            "tags": []
          }
        },
        {
          "output_type": "display_data",
          "data": {
            "text/html": [
              "<span style=\"color:cyan\"> |-kernel_size_1: 4</span>"
            ],
            "text/plain": [
              "<IPython.core.display.HTML object>"
            ]
          },
          "metadata": {
            "tags": []
          }
        },
        {
          "output_type": "display_data",
          "data": {
            "text/html": [
              "<span style=\"color:blue\"> |-kernel_size_2: 3</span>"
            ],
            "text/plain": [
              "<IPython.core.display.HTML object>"
            ]
          },
          "metadata": {
            "tags": []
          }
        },
        {
          "output_type": "display_data",
          "data": {
            "text/html": [
              "<span style=\"color:cyan\"> |-optimizer: sgd</span>"
            ],
            "text/plain": [
              "<IPython.core.display.HTML object>"
            ]
          },
          "metadata": {
            "tags": []
          }
        },
        {
          "output_type": "display_data",
          "data": {
            "text/html": [
              "<span style=\"color:blue\"> |-pooling0: avg</span>"
            ],
            "text/plain": [
              "<IPython.core.display.HTML object>"
            ]
          },
          "metadata": {
            "tags": []
          }
        },
        {
          "output_type": "display_data",
          "data": {
            "text/html": [
              "<span style=\"color:cyan\"> |-pooling1: avg</span>"
            ],
            "text/plain": [
              "<IPython.core.display.HTML object>"
            ]
          },
          "metadata": {
            "tags": []
          }
        },
        {
          "output_type": "display_data",
          "data": {
            "text/html": [
              "<span style=\"color:blue\"> |-pooling2: avg</span>"
            ],
            "text/plain": [
              "<IPython.core.display.HTML object>"
            ]
          },
          "metadata": {
            "tags": []
          }
        },
        {
          "output_type": "display_data",
          "data": {
            "text/html": [
              "<span style=\"color:#4527A0\"><h1 style=\"font-size:18px\">Trial summary</h1></span>"
            ],
            "text/plain": [
              "<IPython.core.display.HTML object>"
            ]
          },
          "metadata": {
            "tags": []
          }
        },
        {
          "output_type": "display_data",
          "data": {
            "text/html": [
              "<span style=\"color:cyan\"> |-Trial ID: 912089b23b64f8bc26da3ed140fc240c</span>"
            ],
            "text/plain": [
              "<IPython.core.display.HTML object>"
            ]
          },
          "metadata": {
            "tags": []
          }
        },
        {
          "output_type": "display_data",
          "data": {
            "text/html": [
              "<span style=\"color:cyan\"> |-Score: 0.9154666662216187</span>"
            ],
            "text/plain": [
              "<IPython.core.display.HTML object>"
            ]
          },
          "metadata": {
            "tags": []
          }
        },
        {
          "output_type": "display_data",
          "data": {
            "text/html": [
              "<span style=\"color:cyan\"> |-Best step: 0</span>"
            ],
            "text/plain": [
              "<IPython.core.display.HTML object>"
            ]
          },
          "metadata": {
            "tags": []
          }
        },
        {
          "output_type": "display_data",
          "data": {
            "text/html": [
              "<span style=\"color:#7E57C2\"><h2 style=\"font-size:16px\">Hyperparameters:</h2></span>"
            ],
            "text/plain": [
              "<IPython.core.display.HTML object>"
            ]
          },
          "metadata": {
            "tags": []
          }
        },
        {
          "output_type": "display_data",
          "data": {
            "text/html": [
              "<span style=\"color:cyan\"> |-conv_layers: 2</span>"
            ],
            "text/plain": [
              "<IPython.core.display.HTML object>"
            ]
          },
          "metadata": {
            "tags": []
          }
        },
        {
          "output_type": "display_data",
          "data": {
            "text/html": [
              "<span style=\"color:blue\"> |-filters_0: 12</span>"
            ],
            "text/plain": [
              "<IPython.core.display.HTML object>"
            ]
          },
          "metadata": {
            "tags": []
          }
        },
        {
          "output_type": "display_data",
          "data": {
            "text/html": [
              "<span style=\"color:cyan\"> |-filters_1: 12</span>"
            ],
            "text/plain": [
              "<IPython.core.display.HTML object>"
            ]
          },
          "metadata": {
            "tags": []
          }
        },
        {
          "output_type": "display_data",
          "data": {
            "text/html": [
              "<span style=\"color:blue\"> |-filters_2: 32</span>"
            ],
            "text/plain": [
              "<IPython.core.display.HTML object>"
            ]
          },
          "metadata": {
            "tags": []
          }
        },
        {
          "output_type": "display_data",
          "data": {
            "text/html": [
              "<span style=\"color:cyan\"> |-global_pooling: max</span>"
            ],
            "text/plain": [
              "<IPython.core.display.HTML object>"
            ]
          },
          "metadata": {
            "tags": []
          }
        },
        {
          "output_type": "display_data",
          "data": {
            "text/html": [
              "<span style=\"color:blue\"> |-kernel_size_0: 4</span>"
            ],
            "text/plain": [
              "<IPython.core.display.HTML object>"
            ]
          },
          "metadata": {
            "tags": []
          }
        },
        {
          "output_type": "display_data",
          "data": {
            "text/html": [
              "<span style=\"color:cyan\"> |-kernel_size_1: 3</span>"
            ],
            "text/plain": [
              "<IPython.core.display.HTML object>"
            ]
          },
          "metadata": {
            "tags": []
          }
        },
        {
          "output_type": "display_data",
          "data": {
            "text/html": [
              "<span style=\"color:blue\"> |-kernel_size_2: 3</span>"
            ],
            "text/plain": [
              "<IPython.core.display.HTML object>"
            ]
          },
          "metadata": {
            "tags": []
          }
        },
        {
          "output_type": "display_data",
          "data": {
            "text/html": [
              "<span style=\"color:cyan\"> |-optimizer: sgd</span>"
            ],
            "text/plain": [
              "<IPython.core.display.HTML object>"
            ]
          },
          "metadata": {
            "tags": []
          }
        },
        {
          "output_type": "display_data",
          "data": {
            "text/html": [
              "<span style=\"color:blue\"> |-pooling0: max</span>"
            ],
            "text/plain": [
              "<IPython.core.display.HTML object>"
            ]
          },
          "metadata": {
            "tags": []
          }
        },
        {
          "output_type": "display_data",
          "data": {
            "text/html": [
              "<span style=\"color:cyan\"> |-pooling1: max</span>"
            ],
            "text/plain": [
              "<IPython.core.display.HTML object>"
            ]
          },
          "metadata": {
            "tags": []
          }
        },
        {
          "output_type": "display_data",
          "data": {
            "text/html": [
              "<span style=\"color:blue\"> |-pooling2: max</span>"
            ],
            "text/plain": [
              "<IPython.core.display.HTML object>"
            ]
          },
          "metadata": {
            "tags": []
          }
        }
      ]
    },
    {
      "cell_type": "code",
      "metadata": {
        "colab_type": "code",
        "id": "1Qj1Rn9CpgQ-",
        "colab": {
          "base_uri": "https://localhost:8080/",
          "height": 218
        },
        "outputId": "b6730bfd-35d6-4d42-d655-70ba7df686a5"
      },
      "source": [
        "tuner.get_best_hyperparameters()[0].values"
      ],
      "execution_count": null,
      "outputs": [
        {
          "output_type": "execute_result",
          "data": {
            "text/plain": [
              "{'conv_layers': 3,\n",
              " 'filters_0': 16,\n",
              " 'filters_1': 28,\n",
              " 'filters_2': 20,\n",
              " 'global_pooling': 'avg',\n",
              " 'kernel_size_0': 3,\n",
              " 'kernel_size_1': 4,\n",
              " 'kernel_size_2': 4,\n",
              " 'optimizer': 'sgd',\n",
              " 'pooling0': 'max',\n",
              " 'pooling1': 'avg',\n",
              " 'pooling2': 'avg'}"
            ]
          },
          "metadata": {
            "tags": []
          },
          "execution_count": 13
        }
      ]
    },
    {
      "cell_type": "markdown",
      "metadata": {
        "colab_type": "text",
        "id": "6q-tx71TTIQY"
      },
      "source": [
        "##### **Callbacks**\n",
        "\n",
        "`model.fit(dataset, ..,  callbacks=[..])`"
      ]
    },
    {
      "cell_type": "markdown",
      "metadata": {
        "id": "EBwEBBZk5zl0",
        "colab_type": "text"
      },
      "source": [
        "Write your own (early stopping) Callback e.g. like this."
      ]
    },
    {
      "cell_type": "code",
      "metadata": {
        "id": "OElyHC8u52jc",
        "colab_type": "code",
        "colab": {}
      },
      "source": [
        "class EarlyStopper(tf.keras.callbacks.Callback):\n",
        "    def on_epoch_end(self, epoch, logs={}):\n",
        "        if logs.get('acc') > 0.998:\n",
        "            print(\"\\nReached 99.8% accuracy so cancelling training!\")\n",
        "            self.model.stop_training = True\n",
        "es_callback = EarlyStopper()"
      ],
      "execution_count": null,
      "outputs": []
    },
    {
      "cell_type": "markdown",
      "metadata": {
        "colab_type": "text",
        "id": "ElPhvQ4zXae8"
      },
      "source": [
        "**Batch stats**"
      ]
    },
    {
      "cell_type": "code",
      "metadata": {
        "colab_type": "code",
        "id": "iDnd34TVTOBa",
        "colab": {}
      },
      "source": [
        "class CollectBatchStats(tf.keras.callbacks.Callback):\n",
        "    def __init__(self):\n",
        "        self.batch_losses = []\n",
        "        self.batch_acc = []\n",
        "        self.batch_val_losses = []\n",
        "        self.batch_val_acc = []\n",
        "\n",
        "    def on_train_batch_end(self, batch, logs=None):\n",
        "        self.batch_losses.append(logs['loss'])\n",
        "        self.batch_acc.append(logs['acc'])\n",
        "        # reset_metrics: the metrics returned will be only for this batch. \n",
        "        # If False, the metrics will be statefully accumulated across batches.\n",
        "        self.model.reset_metrics()\n",
        "  \n",
        "    def on_test_batch_end(self, batch, logs=None):\n",
        "        self.batch_val_losses.append(logs['loss'])\n",
        "        self.batch_val_acc.append(logs['acc'])\n",
        "        # reset_metrics: the metrics returned will be only for this batch. \n",
        "        # If False, the metrics will be statefully accumulated across batches.\n",
        "        self.model.reset_metrics()\n",
        "\n",
        "def plot_stats(training_stats, val_stats, x_label='Training Steps', stats='loss'):\n",
        "    stats, x_label = stats.title(), x_label.title()\n",
        "    legend_loc = 'upper right' if stats=='loss' else 'lower right'\n",
        "    training_steps = len(training_stats)\n",
        "    test_steps = len(val_stats)\n",
        "\n",
        "    plt.figure()\n",
        "    plt.ylabel(stats)\n",
        "    plt.xlabel(x_label)\n",
        "    plt.plot(training_stats, label='Training' + stats)\n",
        "    plt.plot(np.linspace(0, training_steps, test_steps), val_stats, label='Validation' + stats)\n",
        "    plt.ylim([0,max(plt.ylim())])\n",
        "    plt.legend(loc=legend_loc)\n",
        "    plt.show()\n",
        "\n",
        "batch_stats_callback = CollectBatchStats()"
      ],
      "execution_count": null,
      "outputs": []
    },
    {
      "cell_type": "markdown",
      "metadata": {
        "colab_type": "text",
        "id": "pvgXP3o4eMXN"
      },
      "source": [
        "**Early Stopping**"
      ]
    },
    {
      "cell_type": "code",
      "metadata": {
        "colab_type": "code",
        "id": "dwIyLplTTN_a",
        "colab": {}
      },
      "source": [
        "es_callback = keras.callbacks.EarlyStopping(\n",
        "    # Stop training when `val_loss` is no longer improving\n",
        "    monitor='val_loss',\n",
        "    # \"no longer improving\" being defined as \"no better than 1e-2 less\"\n",
        "    min_delta=1e-2,\n",
        "    # \"no longer improving\" being further defined as \"for at least 2 epochs\"\n",
        "    patience=2,\n",
        "    verbose=1)"
      ],
      "execution_count": null,
      "outputs": []
    },
    {
      "cell_type": "markdown",
      "metadata": {
        "colab_type": "text",
        "id": "cif4r__LegMg"
      },
      "source": [
        "**Model Checkpointing**"
      ]
    },
    {
      "cell_type": "code",
      "metadata": {
        "colab_type": "code",
        "id": "gQwrzt7teidv",
        "colab": {}
      },
      "source": [
        "keras.callbacks.ModelCheckpoint(\n",
        "        filepath='mymodel_{epoch}.h5',\n",
        "        # Path where to save the model\n",
        "        # The two parameters below mean that we will overwrite\n",
        "        # the current checkpoint if and only if\n",
        "        # the `val_loss` score has improved.\n",
        "        save_best_only=True,\n",
        "        monitor='val_loss',\n",
        "        verbose=1)"
      ],
      "execution_count": null,
      "outputs": []
    },
    {
      "cell_type": "markdown",
      "metadata": {
        "colab_type": "text",
        "id": "ogQ5OW2FevAw"
      },
      "source": [
        "**Learning rate schedule**\n",
        "\n",
        "Several built-in schedules are available: ExponentialDecay,PiecewiseConstantDecay, PolynomialDecay, and InverseTimeDecay.\n",
        "\n",
        "Documentation [tf.keras.optimizers.schedules](https://www.tensorflow.org/api_docs/python/tf/keras/optimizers/schedules)"
      ]
    },
    {
      "cell_type": "code",
      "metadata": {
        "colab_type": "code",
        "id": "ctFjlE9pex5b",
        "colab": {}
      },
      "source": [
        "# best normal learning rate = 0.0001 -> 0.0005 -> 0.001\n",
        "\n",
        "initial_learning_rate = 0.1\n",
        "\n",
        "lr_schedule = keras.optimizers.schedules.ExponentialDecay\n",
        "(\n",
        "    initial_learning_rate,\n",
        "    decay_steps=100000,\n",
        "    decay_rate=0.96,\n",
        "    staircase=True)\n",
        "\n",
        "optimizer = keras.optimizers.RMSprop(learning_rate=lr_schedule)"
      ],
      "execution_count": null,
      "outputs": []
    },
    {
      "cell_type": "markdown",
      "metadata": {
        "colab_type": "text",
        "id": "76rbBMZAfbbx"
      },
      "source": [
        "**TensorBoard**"
      ]
    },
    {
      "cell_type": "code",
      "metadata": {
        "colab_type": "code",
        "id": "G2Fvs5uyfcwd",
        "colab": {}
      },
      "source": [
        "keras.callbacks.TensorBoard(\n",
        "  log_dir='/full_path_to_your_logs',\n",
        "  histogram_freq=0,  # How often to log histogram visualizations\n",
        "  embeddings_freq=0,  # How often to log embedding visualizations\n",
        "  update_freq='epoch')  # How often to write logs (default: once per epoch)"
      ],
      "execution_count": null,
      "outputs": []
    },
    {
      "cell_type": "code",
      "metadata": {
        "colab_type": "code",
        "id": "z1OJrK8egxSm",
        "colab": {}
      },
      "source": [
        "# Load the TensorBoard notebook extension\n",
        "%load_ext tensorboard"
      ],
      "execution_count": null,
      "outputs": []
    },
    {
      "cell_type": "code",
      "metadata": {
        "colab_type": "code",
        "id": "TBej-h64g1SA",
        "colab": {}
      },
      "source": [
        "# Clear any logs from previous runs\n",
        "!rm -rf ./logs/"
      ],
      "execution_count": null,
      "outputs": []
    },
    {
      "cell_type": "code",
      "metadata": {
        "colab_type": "code",
        "id": "PHBTHJiUg1xu",
        "colab": {}
      },
      "source": [
        "# You should be able to launch TensorBoard from the command line\n",
        "%tensorboard --logdir ./logs/"
      ],
      "execution_count": null,
      "outputs": []
    },
    {
      "cell_type": "markdown",
      "metadata": {
        "colab_type": "text",
        "id": "zWLOlxpLjrND"
      },
      "source": [
        "**Plot the result**\n"
      ]
    },
    {
      "cell_type": "code",
      "metadata": {
        "colab_type": "code",
        "id": "xTgA94Wkkbxq",
        "colab": {}
      },
      "source": [
        "# Take 1 batch out to test\n",
        "for image_batch, label_batch in test_set:\n",
        "    print(\"Image batch shape: \", image_batch.shape)\n",
        "    print(\"Label batch shape: \", label_batch.shape)\n",
        "    break\n",
        "\n",
        "predicted_batch = model.predict(image_batch)\n",
        "predicted_id = np.argmax(predicted_batch, axis=1)\n",
        "predicted_label_batch = label_names[predicted_id]"
      ],
      "execution_count": null,
      "outputs": []
    },
    {
      "cell_type": "code",
      "metadata": {
        "colab_type": "code",
        "id": "1EFp_Vf-juUI",
        "colab": {}
      },
      "source": [
        "# Plot the result\n",
        "plt.figure(figsize=(10,9))\n",
        "plt.subplots_adjust(hspace=0.5)\n",
        "for n in range(30):\n",
        "    plt.subplot(6,5,n+1)\n",
        "    plt.imshow((image_batch[n]+1)/2)\n",
        "    color = \"green\" if predicted_id[n] == label_batch.numpy()[n] else \"red\"\n",
        "    plt.title(predicted_label_batch[n].title(), color=color)\n",
        "    plt.axis('off')\n",
        "_ = plt.suptitle(\"Model predictions (green: correct, red: incorrect)\")"
      ],
      "execution_count": null,
      "outputs": []
    },
    {
      "cell_type": "markdown",
      "metadata": {
        "colab_type": "text",
        "id": "5vqvpUaOlWFI"
      },
      "source": [
        "**Error Analysis**"
      ]
    },
    {
      "cell_type": "code",
      "metadata": {
        "colab_type": "code",
        "id": "QCjaQDWplYBE",
        "colab": {}
      },
      "source": [
        "ground_truth = validation_generator.classes\n",
        "filenames = validation_generator.filenames\n",
        "label_to_index = validation_generator.class_indices\n",
        "index_to_label = dict((v,k) for k, v in label_to_index.items())\n",
        "predictions = model.predict_generator(validation_generator, steps=None)\n",
        "\n",
        "# prediction_table is a dict with index, prediction, ground truth\n",
        "prediction_table = {}\n",
        "for index, val in enumerate(predictions):\n",
        "    # get argmax index\n",
        "    index_of_highest_probability = np.argmax(val)\n",
        "    value_of_highest_probability = val[index_of_highest_probability]\n",
        "    prediction_table[index] = [value_of_highest_probability, \n",
        "                               index_of_highest_probability, \n",
        "                               ground_truth[index]]\n",
        "assert len(predictions) == len(ground_truth) == len(prediction_table)"
      ],
      "execution_count": null,
      "outputs": []
    },
    {
      "cell_type": "code",
      "metadata": {
        "colab_type": "code",
        "id": "hFmhHQnVlzXJ",
        "colab": {}
      },
      "source": [
        "def get_images_with_sorted_probabilities(prediction_table,\n",
        "                                         get_highest_probability,\n",
        "                                         label,\n",
        "                                         number_of_items,\n",
        "                                         only_false_predictions=False):\n",
        "    sorted_prediction_table = [(k, prediction_table[k])\n",
        "                               for k in sorted(prediction_table,\n",
        "                                               key=prediction_table.get,\n",
        "                                               reverse=get_highest_probability)\n",
        "                               ]\n",
        "    result = []\n",
        "    for index, key in enumerate(sorted_prediction_table):\n",
        "        image_index, [probability, predicted_index, gt] = key\n",
        "        if predicted_index == label:\n",
        "            if only_false_predictions == True:\n",
        "                if predicted_index != gt:\n",
        "                    result.append(\n",
        "                        [image_index, [probability, predicted_index, gt]])\n",
        "            else:\n",
        "                result.append(\n",
        "                    [image_index, [probability, predicted_index, gt]])\n",
        "    return result[:number_of_items]\n",
        "\n",
        "def plot_images(filenames, distances, message):\n",
        "    images = []\n",
        "    for filename in filenames:\n",
        "        images.append(mpimg.imread(filename))\n",
        "    plt.figure(figsize=(20, 15))\n",
        "    columns = 5\n",
        "    for i, image in enumerate(images):\n",
        "        ax = plt.subplot(len(images) / columns + 1, columns, i + 1)\n",
        "        ax.set_title(\"\\n\\n\" + filenames[i].split(\"/\")[-1] + \"\\n\" +\n",
        "                     \"\\nProbability: \" +\n",
        "                     str(float(\"{0:.2f}\".format(distances[i]))))\n",
        "        plt.suptitle(message, fontsize=20, fontweight='bold')\n",
        "        plt.axis('off')\n",
        "        plt.imshow(image)\n",
        "        \n",
        "def display(sorted_indices, message):\n",
        "    similar_image_paths = []\n",
        "    distances = []\n",
        "    for name, value in sorted_indices:\n",
        "        [probability, predicted_index, gt] = value\n",
        "        similar_image_paths.append(VALIDATION_DATA_DIR + filenames[name])\n",
        "        distances.append(probability)\n",
        "    plot_images(similar_image_paths, distances, message)"
      ],
      "execution_count": null,
      "outputs": []
    },
    {
      "cell_type": "code",
      "metadata": {
        "colab_type": "code",
        "id": "bqQBt4C3l2wB",
        "colab": {}
      },
      "source": [
        "most_confident_dog_images = get_images_with_sorted_probabilities(prediction_table, True, 1, 10, False)\n",
        "message = 'Images with highest probability of containing dogs'\n",
        "display(most_confident_dog_images, message)\n",
        "\n",
        "least_confident_dog_images = get_images_with_sorted_probabilities(prediction_table, False, 1, 10, False)\n",
        "message = 'Images with lowest probability of containing dogs'\n",
        "display(least_confident_dog_images, message)\n",
        "\n",
        "incorrect_dog_images = get_images_with_sorted_probabilities(prediction_table, True, 1, 10, True)\n",
        "message = 'Images of cats with highest probability of containing dogs'\n",
        "display(incorrect_dog_images, message)"
      ],
      "execution_count": null,
      "outputs": []
    }
  ]
}