{
  "nbformat": 4,
  "nbformat_minor": 0,
  "metadata": {
    "colab": {
      "name": "Logistic Regression from scratch.ipynb",
      "provenance": [],
      "collapsed_sections": [],
      "include_colab_link": true
    },
    "kernelspec": {
      "display_name": "Python 3",
      "language": "python",
      "name": "python3"
    },
    "language_info": {
      "codemirror_mode": {
        "name": "ipython",
        "version": 3
      },
      "file_extension": ".py",
      "mimetype": "text/x-python",
      "name": "python",
      "nbconvert_exporter": "python",
      "pygments_lexer": "ipython3",
      "version": "3.7.6"
    }
  },
  "cells": [
    {
      "cell_type": "markdown",
      "metadata": {
        "id": "view-in-github",
        "colab_type": "text"
      },
      "source": [
        "<a href=\"https://colab.research.google.com/github/nhamhung/Coder-School-Machine-Learning/blob/master/Logistic_Regression_from_scratch.ipynb\" target=\"_parent\"><img src=\"https://colab.research.google.com/assets/colab-badge.svg\" alt=\"Open In Colab\"/></a>"
      ]
    },
    {
      "cell_type": "markdown",
      "metadata": {
        "colab_type": "text",
        "id": "AbxAt696ms58"
      },
      "source": [
        "# Lab - Logistic Regression"
      ]
    },
    {
      "cell_type": "markdown",
      "metadata": {
        "colab_type": "text",
        "id": "YkoZMtDfmyO7"
      },
      "source": [
        "## Logistic Regression from scratch"
      ]
    },
    {
      "cell_type": "code",
      "metadata": {
        "colab_type": "code",
        "id": "AaFlqj51nbGm",
        "colab": {
          "base_uri": "https://localhost:8080/",
          "height": 70
        },
        "outputId": "d314cddf-1f0e-4d10-eacb-821514ef2e87"
      },
      "source": [
        "import numpy as np\n",
        "import pandas as pd\n",
        "import seaborn as sns\n",
        "import matplotlib.pyplot as plt\n",
        "%matplotlib inline\n",
        "\n",
        "import warnings\n",
        "warnings.filterwarnings('ignore')\n",
        "\n",
        "sns.set_style(\"whitegrid\")"
      ],
      "execution_count": null,
      "outputs": [
        {
          "output_type": "stream",
          "text": [
            "/usr/local/lib/python3.6/dist-packages/statsmodels/tools/_testing.py:19: FutureWarning: pandas.util.testing is deprecated. Use the functions in the public API at pandas.testing instead.\n",
            "  import pandas.util.testing as tm\n"
          ],
          "name": "stderr"
        }
      ]
    },
    {
      "cell_type": "markdown",
      "metadata": {
        "colab_type": "text",
        "id": "hEGtW99Am75l"
      },
      "source": [
        "Dataset **Titanic**"
      ]
    },
    {
      "cell_type": "code",
      "metadata": {
        "colab_type": "code",
        "id": "6l2ZsmISOlGC",
        "colab": {
          "base_uri": "https://localhost:8080/",
          "height": 191
        },
        "outputId": "f801b3ca-2366-47c7-a234-cf784cc4108f"
      },
      "source": [
        "titanic = pd.read_csv('https://raw.githubusercontent.com/dhminh1024/practice_datasets/master/titanic.csv')\n",
        "\n",
        "# Data manipulation\n",
        "titanic.fillna(titanic['Age'].mean(), inplace=True)\n",
        "titanic.replace({'Sex':{'male':0, 'female':1}}, inplace=True)\n",
        "titanic['FamilySize'] = titanic['SibSp'] + titanic['Parch'] + 1\n",
        "titanic.drop(columns=['PassengerId', 'Name', 'SibSp', 'Parch', 'Ticket', 'Fare', 'Cabin', 'Embarked'], inplace=True)\n",
        "titanic.head()"
      ],
      "execution_count": null,
      "outputs": [
        {
          "output_type": "execute_result",
          "data": {
            "text/html": [
              "<div>\n",
              "<style scoped>\n",
              "    .dataframe tbody tr th:only-of-type {\n",
              "        vertical-align: middle;\n",
              "    }\n",
              "\n",
              "    .dataframe tbody tr th {\n",
              "        vertical-align: top;\n",
              "    }\n",
              "\n",
              "    .dataframe thead th {\n",
              "        text-align: right;\n",
              "    }\n",
              "</style>\n",
              "<table border=\"1\" class=\"dataframe\">\n",
              "  <thead>\n",
              "    <tr style=\"text-align: right;\">\n",
              "      <th></th>\n",
              "      <th>Survived</th>\n",
              "      <th>Pclass</th>\n",
              "      <th>Sex</th>\n",
              "      <th>Age</th>\n",
              "      <th>FamilySize</th>\n",
              "    </tr>\n",
              "  </thead>\n",
              "  <tbody>\n",
              "    <tr>\n",
              "      <th>0</th>\n",
              "      <td>0</td>\n",
              "      <td>3</td>\n",
              "      <td>0</td>\n",
              "      <td>22.0</td>\n",
              "      <td>2</td>\n",
              "    </tr>\n",
              "    <tr>\n",
              "      <th>1</th>\n",
              "      <td>1</td>\n",
              "      <td>1</td>\n",
              "      <td>1</td>\n",
              "      <td>38.0</td>\n",
              "      <td>2</td>\n",
              "    </tr>\n",
              "    <tr>\n",
              "      <th>2</th>\n",
              "      <td>1</td>\n",
              "      <td>3</td>\n",
              "      <td>1</td>\n",
              "      <td>26.0</td>\n",
              "      <td>1</td>\n",
              "    </tr>\n",
              "    <tr>\n",
              "      <th>3</th>\n",
              "      <td>1</td>\n",
              "      <td>1</td>\n",
              "      <td>1</td>\n",
              "      <td>35.0</td>\n",
              "      <td>2</td>\n",
              "    </tr>\n",
              "    <tr>\n",
              "      <th>4</th>\n",
              "      <td>0</td>\n",
              "      <td>3</td>\n",
              "      <td>0</td>\n",
              "      <td>35.0</td>\n",
              "      <td>1</td>\n",
              "    </tr>\n",
              "  </tbody>\n",
              "</table>\n",
              "</div>"
            ],
            "text/plain": [
              "   Survived  Pclass  Sex   Age  FamilySize\n",
              "0         0       3    0  22.0           2\n",
              "1         1       1    1  38.0           2\n",
              "2         1       3    1  26.0           1\n",
              "3         1       1    1  35.0           2\n",
              "4         0       3    0  35.0           1"
            ]
          },
          "metadata": {
            "tags": []
          },
          "execution_count": 2
        }
      ]
    },
    {
      "cell_type": "code",
      "metadata": {
        "colab_type": "code",
        "id": "vjGt2y_-pPHz",
        "colab": {
          "base_uri": "https://localhost:8080/",
          "height": 50
        },
        "outputId": "36b56b70-f447-4c90-bfef-0139e288fbd7"
      },
      "source": [
        "from sklearn.model_selection import train_test_split\n",
        "\n",
        "X = titanic[['Pclass', 'Sex', 'Age', 'FamilySize']].values\n",
        "y = titanic[['Survived']].values\n",
        "\n",
        "X_train, X_test, y_train, y_test = train_test_split(X, y, test_size=0.2, random_state=102)\n",
        "\n",
        "print('Training set:', X_train.shape, y_train.shape)\n",
        "print('Test set:', X_test.shape, y_test.shape)"
      ],
      "execution_count": null,
      "outputs": [
        {
          "output_type": "stream",
          "text": [
            "Training set: (712, 4) (712, 1)\n",
            "Test set: (179, 4) (179, 1)\n"
          ],
          "name": "stdout"
        }
      ]
    },
    {
      "cell_type": "markdown",
      "metadata": {
        "colab_type": "text",
        "id": "S79QyfXSqeXj"
      },
      "source": [
        "### Scikit-learn Logistic Regression"
      ]
    },
    {
      "cell_type": "code",
      "metadata": {
        "colab_type": "code",
        "id": "Ta6jRuopqPVV",
        "colab": {
          "base_uri": "https://localhost:8080/",
          "height": 277
        },
        "outputId": "907eecee-4aa7-4569-b61e-3b40f9e4829c"
      },
      "source": [
        "from sklearn.linear_model import LogisticRegression\n",
        "from sklearn.metrics import confusion_matrix, accuracy_score, classification_report\n",
        "from sklearn.metrics import log_loss\n",
        "\n",
        "# Create Logistics Regression model from X and y\n",
        "lg = LogisticRegression()\n",
        "lg.fit(X_train, y_train)\n",
        "predictions = lg.predict(X_test)\n",
        "\n",
        "# Show metrics\n",
        "print(\"Accuracy score: %f\" % accuracy_score(y_test, predictions))\n",
        "print(\"Confusion Matrix:\")\n",
        "print(confusion_matrix(y_test, predictions))\n",
        "print(classification_report(y_test, predictions))\n",
        "print('Log loss:', log_loss(y_test, predictions)/len(y_test))\n",
        "\n",
        "# Show parameters\n",
        "print('w = ', lg.coef_)\n",
        "print('b = ', lg.intercept_)"
      ],
      "execution_count": null,
      "outputs": [
        {
          "output_type": "stream",
          "text": [
            "Accuracy score: 0.793296\n",
            "Confusion Matrix:\n",
            "[[97 17]\n",
            " [20 45]]\n",
            "              precision    recall  f1-score   support\n",
            "\n",
            "           0       0.83      0.85      0.84       114\n",
            "           1       0.73      0.69      0.71        65\n",
            "\n",
            "    accuracy                           0.79       179\n",
            "   macro avg       0.78      0.77      0.77       179\n",
            "weighted avg       0.79      0.79      0.79       179\n",
            "\n",
            "Log loss: 0.039884782615024775\n",
            "w =  [[-1.18387774  2.56284417 -0.04074789 -0.21591208]]\n",
            "b =  [2.84100084]\n"
          ],
          "name": "stdout"
        }
      ]
    },
    {
      "cell_type": "markdown",
      "metadata": {
        "colab_type": "text",
        "id": "keQAhakRrJWs"
      },
      "source": [
        "### Handmade Logistic Regression"
      ]
    },
    {
      "cell_type": "markdown",
      "metadata": {
        "colab_type": "text",
        "id": "IC0ZhoR3rXbO"
      },
      "source": [
        "**Forward Propagation:**\n",
        "$$Z = Xw + b$$\n",
        "$$\\hat{y} = \\sigma(Z) =\\sigma(Xw + b) $$\n",
        "$$J(w, b) = -\\frac{1}{m}\\sum_{i=1}^m{ \\Big( y^{(i)} log( \\hat{y}^{(i)}) + (1-y^{(i)}) log(1 - \\hat{y}^{(i)}) \\Big)} \\tag{5}$$\n",
        "\n",
        "**and Backward**\n",
        "\n",
        "$$ \\frac{\\partial J}{\\partial w} = \\frac{1}{m}X^T(\\hat{y}-y)\\tag{6}$$\n",
        "$$ \\frac{\\partial J}{\\partial b} = \\frac{1}{m} \\sum_{i=1}^m (\\hat{y}^{(i)}-y^{(i)})\\tag{7}$$"
      ]
    },
    {
      "cell_type": "code",
      "metadata": {
        "colab_type": "code",
        "id": "adHOPx63q5xI",
        "colab": {}
      },
      "source": [
        "# Initialize params\n",
        "def initialize_params(X):\n",
        "    '''Initialize w, b with zeros and return'''\n",
        "    w = np.zeros((X.shape[1], 1))\n",
        "    b = np.zeros((1, 1))\n",
        "    return w, b"
      ],
      "execution_count": null,
      "outputs": []
    },
    {
      "cell_type": "code",
      "metadata": {
        "colab_type": "code",
        "id": "LgabqgGhr8B5",
        "colab": {}
      },
      "source": [
        "# Implement sigmoid\n",
        "def sigmoid(Z):\n",
        "    return 1/(1 + np.exp(-Z))"
      ],
      "execution_count": null,
      "outputs": []
    },
    {
      "cell_type": "code",
      "metadata": {
        "colab_type": "code",
        "id": "zK_0xR_fsFaD",
        "colab": {}
      },
      "source": [
        "# Forward propagation\n",
        "def forward(w, b, X):\n",
        "    '''Return y_hat'''\n",
        "    return sigmoid(np.dot(X, w) + b)"
      ],
      "execution_count": null,
      "outputs": []
    },
    {
      "cell_type": "code",
      "metadata": {
        "colab_type": "code",
        "id": "kCzZpPg9sX4c",
        "colab": {}
      },
      "source": [
        "# Binary cross entropy loss\n",
        "def binary_cross_entropy(y, y_hat):\n",
        "    '''Calculate loss function J and return'''\n",
        "    return -(np.mean(y * np.log(y_hat) + (1 - y) * np.log(1 - y_hat)))"
      ],
      "execution_count": null,
      "outputs": []
    },
    {
      "cell_type": "code",
      "metadata": {
        "colab_type": "code",
        "id": "MhuGl5ATtT2d",
        "colab": {}
      },
      "source": [
        "# Backward propagation\n",
        "def backward(X, y, y_hat, w, b):\n",
        "    '''Calculate dw, db and return'''\n",
        "    m = X.shape[0]\n",
        "    dw = (1/m) * np.dot(X.T, (y_hat - y))\n",
        "    db = (1/m) * np.sum(y_hat - y, keepdims=True)\n",
        "    return dw, db\n",
        "\n",
        "# Update parameters\n",
        "def update_params(w, b, dw, db, learning_rate):\n",
        "    '''Update w, b and return'''\n",
        "    w = w - learning_rate * dw\n",
        "    b = b - learning_rate * db\n",
        "    return w, b"
      ],
      "execution_count": null,
      "outputs": []
    },
    {
      "cell_type": "code",
      "metadata": {
        "colab_type": "code",
        "id": "8J3nYXjMupQa",
        "colab": {}
      },
      "source": [
        "# Training process\n",
        "def train(X, y, iterations, learning_rate):\n",
        "    '''Train w, b and return'''\n",
        "    w, b = initialize_params(X)\n",
        "\n",
        "    history = {'train_loss': np.array([]),\n",
        "               'test_loss': np.array([]),\n",
        "               'lr': np.array([])}\n",
        "\n",
        "    for i in range(iterations):\n",
        "        y_hat = forward(w, b, X)\n",
        "        J = binary_cross_entropy(y, y_hat)\n",
        "        history['train_loss'] = np.append(history['train_loss'], J)\n",
        "        J_test = binary_cross_entropy(y_test, forward(w, b, X_test))\n",
        "        history['test_loss'] = np.append(history['test_loss'], J_test)\n",
        "        if i % 100 == 0:\n",
        "            # history['loss'] = np.append(history['loss'], J)\n",
        "            history['lr'] = np.append(history['lr'], learning_rate)\n",
        "            # learning_rate = 10 * learning_rate\n",
        "            # print(f'Step {i}, loss: {J}')\n",
        "        dw, db = backward(X, y, y_hat, w, b)\n",
        "        w, b = update_params(w, b, dw, db, learning_rate)\n",
        "    return w, b, history"
      ],
      "execution_count": null,
      "outputs": []
    },
    {
      "cell_type": "code",
      "metadata": {
        "id": "db3V_hLUBr_V",
        "colab_type": "code",
        "colab": {}
      },
      "source": [
        "history"
      ],
      "execution_count": null,
      "outputs": []
    },
    {
      "cell_type": "code",
      "metadata": {
        "colab_type": "code",
        "id": "N6NGSUVpuVNA",
        "colab": {}
      },
      "source": [
        "# Predict\n",
        "def predict(w, b, X):\n",
        "    '''Return predicted y of X'''\n",
        "    y_hat = forward(w, b, X)\n",
        "    return y_hat > 0.5"
      ],
      "execution_count": null,
      "outputs": []
    },
    {
      "cell_type": "markdown",
      "metadata": {
        "colab_type": "text",
        "id": "JTUDeY_fwIXx"
      },
      "source": [
        "**Evaluation**"
      ]
    },
    {
      "cell_type": "code",
      "metadata": {
        "colab_type": "code",
        "id": "mDgSepfDwEHy",
        "colab": {}
      },
      "source": [
        "# Train the model and predict X_test\n",
        "w, b, history = train(X_train, y_train, iterations=20000, learning_rate=5e-3)\n",
        "predictions = predict(w, b, X_test)"
      ],
      "execution_count": null,
      "outputs": []
    },
    {
      "cell_type": "code",
      "metadata": {
        "id": "4HwtUudVDtR3",
        "colab_type": "code",
        "colab": {}
      },
      "source": [
        "X_train"
      ],
      "execution_count": null,
      "outputs": []
    },
    {
      "cell_type": "code",
      "metadata": {
        "id": "OcE_y1_Tv7W2",
        "colab_type": "code",
        "colab": {
          "base_uri": "https://localhost:8080/",
          "height": 377
        },
        "outputId": "ae109313-c78b-4d66-ef44-91f1eb340924"
      },
      "source": [
        "plt.figure(figsize=(10, 6))\n",
        "plt.plot(history['loss'])\n",
        "# plt.xlim(200, 400)\n",
        "plt.ylim(0.6, 0.8)\n",
        "plt.show()"
      ],
      "execution_count": null,
      "outputs": [
        {
          "output_type": "display_data",
          "data": {
            "image/png": "[encoded data removed]",
            "text/plain": [
              "<Figure size 720x432 with 1 Axes>"
            ]
          },
          "metadata": {
            "tags": [],
            "needs_background": "light"
          }
        }
      ]
    },
    {
      "cell_type": "code",
      "metadata": {
        "id": "rgptwo-Eykvx",
        "colab_type": "code",
        "colab": {
          "base_uri": "https://localhost:8080/",
          "height": 373
        },
        "outputId": "8f1d9597-cbf0-43a1-95be-b180405e33a1"
      },
      "source": [
        "plt.figure(figsize=(10, 6))\n",
        "plt.plot(history['train_loss'], label='Training Loss', alpha=0.5)\n",
        "plt.plot(history['test_loss'], label='Test Loss', alpha=0.5)\n",
        "# plt.xlim(0, 20000)\n",
        "# plt.ylim(0.6, 0.8)\n",
        "plt.legend()\n",
        "plt.show()"
      ],
      "execution_count": null,
      "outputs": [
        {
          "output_type": "display_data",
          "data": {
            "image/png": "[encoded data removed]",
            "text/plain": [
              "<Figure size 720x432 with 1 Axes>"
            ]
          },
          "metadata": {
            "tags": [],
            "needs_background": "light"
          }
        }
      ]
    },
    {
      "cell_type": "code",
      "metadata": {
        "colab_type": "code",
        "id": "5yXlcgeRwZ3v",
        "colab": {
          "base_uri": "https://localhost:8080/",
          "height": 310
        },
        "outputId": "908081fa-ce42-4192-a67a-174660b6f8bf"
      },
      "source": [
        "# Evaluation\n",
        "print(\"Accuracy score: %f\" % accuracy_score(y_test, predictions))\n",
        "print(\"Confusion Matrix:\")\n",
        "print(confusion_matrix(y_test, predictions))\n",
        "print(classification_report(y_test, predictions))\n",
        "\n",
        "# Show parameters\n",
        "print('w = ', w)\n",
        "print('b = ', b)"
      ],
      "execution_count": null,
      "outputs": [
        {
          "output_type": "stream",
          "text": [
            "Accuracy score: 0.815642\n",
            "Confusion Matrix:\n",
            "[[101  13]\n",
            " [ 20  45]]\n",
            "              precision    recall  f1-score   support\n",
            "\n",
            "           0       0.83      0.89      0.86       114\n",
            "           1       0.78      0.69      0.73        65\n",
            "\n",
            "    accuracy                           0.82       179\n",
            "   macro avg       0.81      0.79      0.80       179\n",
            "weighted avg       0.81      0.82      0.81       179\n",
            "\n",
            "w =  [[-0.87824484]\n",
            " [ 2.5911979 ]\n",
            " [-0.02037684]\n",
            " [-0.15302052]]\n",
            "b =  [[1.36084782]]\n"
          ],
          "name": "stdout"
        }
      ]
    },
    {
      "cell_type": "code",
      "metadata": {
        "colab_type": "code",
        "id": "Sd03Qlx8woet",
        "colab": {}
      },
      "source": [
        "# Output of sklearn.LogisticRegression\n",
        "# Accuracy score: 0.793296\n",
        "# Confusion Matrix:\n",
        "# [[97 17]\n",
        "#  [20 45]]\n",
        "#               precision    recall  f1-score   support\n",
        "\n",
        "#            0       0.83      0.85      0.84       114\n",
        "#            1       0.73      0.69      0.71        65\n",
        "\n",
        "#     accuracy                           0.79       179\n",
        "#    macro avg       0.78      0.77      0.77       179\n",
        "# weighted avg       0.79      0.79      0.79       179\n",
        "\n",
        "# Log loss: 0.039884782615024775\n",
        "# w =  [[-1.18387774  2.56284417 -0.04074789 -0.21591208]]\n",
        "# b =  [2.84100084]"
      ],
      "execution_count": null,
      "outputs": []
    },
    {
      "cell_type": "markdown",
      "metadata": {
        "colab_type": "text",
        "id": "UIj9GKy8Y9Pp"
      },
      "source": [
        "**Well done!**"
      ]
    }
  ]
}